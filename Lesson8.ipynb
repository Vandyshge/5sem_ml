{
  "cells": [
    {
      "cell_type": "markdown",
      "metadata": {
        "id": "C5SpMDWN0ugS"
      },
      "source": [
        "## Объявляем библиотеки"
      ]
    },
    {
      "cell_type": "code",
      "execution_count": null,
      "metadata": {
        "id": "_jDcFZ7HWRDc",
        "outputId": "5065906b-6757-45f9-a949-433df8ee61f0"
      },
      "outputs": [
        {
          "name": "stderr",
          "output_type": "stream",
          "text": [
            "  WARNING: The script tensorboard.exe is installed in 'C:\\Users\\Xiaomi\\AppData\\Local\\Packages\\PythonSoftwareFoundation.Python.3.8_qbz5n2kfra8p0\\LocalCache\\local-packages\\Python38\\Scripts' which is not on PATH.\n",
            "  Consider adding this directory to PATH or, if you prefer to suppress this warning, use --no-warn-script-location.\n",
            "ERROR: Could not install packages due to an OSError: [Errno 2] No such file or directory: 'C:\\\\Users\\\\Xiaomi\\\\AppData\\\\Local\\\\Packages\\\\PythonSoftwareFoundation.Python.3.8_qbz5n2kfra8p0\\\\LocalCache\\\\local-packages\\\\Python38\\\\site-packages\\\\tensorflow\\\\include\\\\external\\\\com_github_grpc_grpc\\\\src\\\\core\\\\ext\\\\filters\\\\client_channel\\\\lb_policy\\\\grpclb\\\\client_load_reporting_filter.h'\n",
            "HINT: This error might have occurred since this system does not have Windows Long Path support enabled. You can find information on how to enable this at https://pip.pypa.io/warnings/enable-long-paths\n",
            "\n"
          ]
        },
        {
          "name": "stdout",
          "output_type": "stream",
          "text": [
            "Collecting tensorflow\n",
            "  Downloading tensorflow-2.10.0-cp38-cp38-win_amd64.whl (455.9 MB)\n",
            "     -------------------------------------- 455.9/455.9 MB 1.4 MB/s eta 0:00:00\n",
            "Requirement already satisfied: h5py>=2.9.0 in c:\\users\\xiaomi\\appdata\\local\\packages\\pythonsoftwarefoundation.python.3.8_qbz5n2kfra8p0\\localcache\\local-packages\\python38\\site-packages (from tensorflow) (3.6.0)\n",
            "Requirement already satisfied: gast<=0.4.0,>=0.2.1 in c:\\users\\xiaomi\\appdata\\local\\packages\\pythonsoftwarefoundation.python.3.8_qbz5n2kfra8p0\\localcache\\local-packages\\python38\\site-packages (from tensorflow) (0.4.0)\n",
            "Requirement already satisfied: numpy>=1.20 in c:\\users\\xiaomi\\appdata\\local\\packages\\pythonsoftwarefoundation.python.3.8_qbz5n2kfra8p0\\localcache\\local-packages\\python38\\site-packages (from tensorflow) (1.20.0)\n",
            "Requirement already satisfied: setuptools in c:\\program files\\windowsapps\\pythonsoftwarefoundation.python.3.8_3.8.2800.0_x64__qbz5n2kfra8p0\\lib\\site-packages (from tensorflow) (56.0.0)\n",
            "Requirement already satisfied: typing-extensions>=3.6.6 in c:\\users\\xiaomi\\appdata\\local\\packages\\pythonsoftwarefoundation.python.3.8_qbz5n2kfra8p0\\localcache\\local-packages\\python38\\site-packages (from tensorflow) (4.1.1)\n",
            "Requirement already satisfied: tensorflow-io-gcs-filesystem>=0.23.1 in c:\\users\\xiaomi\\appdata\\local\\packages\\pythonsoftwarefoundation.python.3.8_qbz5n2kfra8p0\\localcache\\local-packages\\python38\\site-packages (from tensorflow) (0.26.0)\n",
            "Requirement already satisfied: google-pasta>=0.1.1 in c:\\users\\xiaomi\\appdata\\local\\packages\\pythonsoftwarefoundation.python.3.8_qbz5n2kfra8p0\\localcache\\local-packages\\python38\\site-packages (from tensorflow) (0.2.0)\n",
            "Collecting keras<2.11,>=2.10.0\n",
            "  Downloading keras-2.10.0-py2.py3-none-any.whl (1.7 MB)\n",
            "     ---------------------------------------- 1.7/1.7 MB 2.4 MB/s eta 0:00:00\n",
            "Requirement already satisfied: protobuf<3.20,>=3.9.2 in c:\\users\\xiaomi\\appdata\\local\\packages\\pythonsoftwarefoundation.python.3.8_qbz5n2kfra8p0\\localcache\\local-packages\\python38\\site-packages (from tensorflow) (3.19.4)\n",
            "Requirement already satisfied: six>=1.12.0 in c:\\users\\xiaomi\\appdata\\local\\packages\\pythonsoftwarefoundation.python.3.8_qbz5n2kfra8p0\\localcache\\local-packages\\python38\\site-packages (from tensorflow) (1.15.0)\n",
            "Requirement already satisfied: astunparse>=1.6.0 in c:\\users\\xiaomi\\appdata\\local\\packages\\pythonsoftwarefoundation.python.3.8_qbz5n2kfra8p0\\localcache\\local-packages\\python38\\site-packages (from tensorflow) (1.6.3)\n",
            "Requirement already satisfied: opt-einsum>=2.3.2 in c:\\users\\xiaomi\\appdata\\local\\packages\\pythonsoftwarefoundation.python.3.8_qbz5n2kfra8p0\\localcache\\local-packages\\python38\\site-packages (from tensorflow) (3.3.0)\n",
            "Requirement already satisfied: libclang>=13.0.0 in c:\\users\\xiaomi\\appdata\\local\\packages\\pythonsoftwarefoundation.python.3.8_qbz5n2kfra8p0\\localcache\\local-packages\\python38\\site-packages (from tensorflow) (14.0.1)\n",
            "Collecting tensorboard<2.11,>=2.10\n",
            "  Downloading tensorboard-2.10.1-py3-none-any.whl (5.9 MB)\n",
            "     ---------------------------------------- 5.9/5.9 MB 2.4 MB/s eta 0:00:00\n",
            "Collecting flatbuffers>=2.0\n",
            "  Downloading flatbuffers-22.9.24-py2.py3-none-any.whl (26 kB)\n",
            "Requirement already satisfied: wrapt>=1.11.0 in c:\\users\\xiaomi\\appdata\\local\\packages\\pythonsoftwarefoundation.python.3.8_qbz5n2kfra8p0\\localcache\\local-packages\\python38\\site-packages (from tensorflow) (1.14.1)\n",
            "Requirement already satisfied: termcolor>=1.1.0 in c:\\users\\xiaomi\\appdata\\local\\packages\\pythonsoftwarefoundation.python.3.8_qbz5n2kfra8p0\\localcache\\local-packages\\python38\\site-packages (from tensorflow) (1.1.0)\n",
            "Requirement already satisfied: keras-preprocessing>=1.1.1 in c:\\users\\xiaomi\\appdata\\local\\packages\\pythonsoftwarefoundation.python.3.8_qbz5n2kfra8p0\\localcache\\local-packages\\python38\\site-packages (from tensorflow) (1.1.2)\n",
            "Requirement already satisfied: packaging in c:\\users\\xiaomi\\appdata\\local\\packages\\pythonsoftwarefoundation.python.3.8_qbz5n2kfra8p0\\localcache\\local-packages\\python38\\site-packages (from tensorflow) (21.3)\n",
            "Requirement already satisfied: absl-py>=1.0.0 in c:\\users\\xiaomi\\appdata\\local\\packages\\pythonsoftwarefoundation.python.3.8_qbz5n2kfra8p0\\localcache\\local-packages\\python38\\site-packages (from tensorflow) (1.1.0)\n",
            "Collecting tensorflow-estimator<2.11,>=2.10.0\n",
            "  Downloading tensorflow_estimator-2.10.0-py2.py3-none-any.whl (438 kB)\n",
            "     -------------------------------------- 438.7/438.7 kB 1.0 MB/s eta 0:00:00\n",
            "Requirement already satisfied: grpcio<2.0,>=1.24.3 in c:\\users\\xiaomi\\appdata\\local\\packages\\pythonsoftwarefoundation.python.3.8_qbz5n2kfra8p0\\localcache\\local-packages\\python38\\site-packages (from tensorflow) (1.47.0)\n",
            "Requirement already satisfied: wheel<1.0,>=0.23.0 in c:\\users\\xiaomi\\appdata\\local\\packages\\pythonsoftwarefoundation.python.3.8_qbz5n2kfra8p0\\localcache\\local-packages\\python38\\site-packages (from astunparse>=1.6.0->tensorflow) (0.37.1)\n",
            "Requirement already satisfied: requests<3,>=2.21.0 in c:\\users\\xiaomi\\appdata\\local\\packages\\pythonsoftwarefoundation.python.3.8_qbz5n2kfra8p0\\localcache\\local-packages\\python38\\site-packages (from tensorboard<2.11,>=2.10->tensorflow) (2.25.0)\n",
            "Requirement already satisfied: tensorboard-data-server<0.7.0,>=0.6.0 in c:\\users\\xiaomi\\appdata\\local\\packages\\pythonsoftwarefoundation.python.3.8_qbz5n2kfra8p0\\localcache\\local-packages\\python38\\site-packages (from tensorboard<2.11,>=2.10->tensorflow) (0.6.1)\n",
            "Requirement already satisfied: google-auth<3,>=1.6.3 in c:\\users\\xiaomi\\appdata\\local\\packages\\pythonsoftwarefoundation.python.3.8_qbz5n2kfra8p0\\localcache\\local-packages\\python38\\site-packages (from tensorboard<2.11,>=2.10->tensorflow) (2.6.6)\n",
            "Requirement already satisfied: markdown>=2.6.8 in c:\\users\\xiaomi\\appdata\\local\\packages\\pythonsoftwarefoundation.python.3.8_qbz5n2kfra8p0\\localcache\\local-packages\\python38\\site-packages (from tensorboard<2.11,>=2.10->tensorflow) (3.3.7)\n",
            "Requirement already satisfied: google-auth-oauthlib<0.5,>=0.4.1 in c:\\users\\xiaomi\\appdata\\local\\packages\\pythonsoftwarefoundation.python.3.8_qbz5n2kfra8p0\\localcache\\local-packages\\python38\\site-packages (from tensorboard<2.11,>=2.10->tensorflow) (0.4.6)\n",
            "Requirement already satisfied: tensorboard-plugin-wit>=1.6.0 in c:\\users\\xiaomi\\appdata\\local\\packages\\pythonsoftwarefoundation.python.3.8_qbz5n2kfra8p0\\localcache\\local-packages\\python38\\site-packages (from tensorboard<2.11,>=2.10->tensorflow) (1.8.1)\n",
            "Requirement already satisfied: werkzeug>=1.0.1 in c:\\users\\xiaomi\\appdata\\local\\packages\\pythonsoftwarefoundation.python.3.8_qbz5n2kfra8p0\\localcache\\local-packages\\python38\\site-packages (from tensorboard<2.11,>=2.10->tensorflow) (2.1.2)\n",
            "Requirement already satisfied: pyparsing!=3.0.5,>=2.0.2 in c:\\users\\xiaomi\\appdata\\local\\packages\\pythonsoftwarefoundation.python.3.8_qbz5n2kfra8p0\\localcache\\local-packages\\python38\\site-packages (from packaging->tensorflow) (2.4.7)\n",
            "Requirement already satisfied: rsa<5,>=3.1.4 in c:\\users\\xiaomi\\appdata\\local\\packages\\pythonsoftwarefoundation.python.3.8_qbz5n2kfra8p0\\localcache\\local-packages\\python38\\site-packages (from google-auth<3,>=1.6.3->tensorboard<2.11,>=2.10->tensorflow) (4.8)\n",
            "Requirement already satisfied: pyasn1-modules>=0.2.1 in c:\\users\\xiaomi\\appdata\\local\\packages\\pythonsoftwarefoundation.python.3.8_qbz5n2kfra8p0\\localcache\\local-packages\\python38\\site-packages (from google-auth<3,>=1.6.3->tensorboard<2.11,>=2.10->tensorflow) (0.2.8)\n",
            "Requirement already satisfied: cachetools<6.0,>=2.0.0 in c:\\users\\xiaomi\\appdata\\local\\packages\\pythonsoftwarefoundation.python.3.8_qbz5n2kfra8p0\\localcache\\local-packages\\python38\\site-packages (from google-auth<3,>=1.6.3->tensorboard<2.11,>=2.10->tensorflow) (5.2.0)\n",
            "Requirement already satisfied: requests-oauthlib>=0.7.0 in c:\\users\\xiaomi\\appdata\\local\\packages\\pythonsoftwarefoundation.python.3.8_qbz5n2kfra8p0\\localcache\\local-packages\\python38\\site-packages (from google-auth-oauthlib<0.5,>=0.4.1->tensorboard<2.11,>=2.10->tensorflow) (1.3.1)\n",
            "Requirement already satisfied: importlib-metadata>=4.4 in c:\\users\\xiaomi\\appdata\\local\\packages\\pythonsoftwarefoundation.python.3.8_qbz5n2kfra8p0\\localcache\\local-packages\\python38\\site-packages (from markdown>=2.6.8->tensorboard<2.11,>=2.10->tensorflow) (4.12.0)\n",
            "Requirement already satisfied: chardet<4,>=3.0.2 in c:\\users\\xiaomi\\appdata\\local\\packages\\pythonsoftwarefoundation.python.3.8_qbz5n2kfra8p0\\localcache\\local-packages\\python38\\site-packages (from requests<3,>=2.21.0->tensorboard<2.11,>=2.10->tensorflow) (3.0.4)\n",
            "Requirement already satisfied: urllib3<1.27,>=1.21.1 in c:\\users\\xiaomi\\appdata\\local\\packages\\pythonsoftwarefoundation.python.3.8_qbz5n2kfra8p0\\localcache\\local-packages\\python38\\site-packages (from requests<3,>=2.21.0->tensorboard<2.11,>=2.10->tensorflow) (1.26.2)\n",
            "Requirement already satisfied: idna<3,>=2.5 in c:\\users\\xiaomi\\appdata\\local\\packages\\pythonsoftwarefoundation.python.3.8_qbz5n2kfra8p0\\localcache\\local-packages\\python38\\site-packages (from requests<3,>=2.21.0->tensorboard<2.11,>=2.10->tensorflow) (2.10)\n",
            "Requirement already satisfied: certifi>=2017.4.17 in c:\\users\\xiaomi\\appdata\\local\\packages\\pythonsoftwarefoundation.python.3.8_qbz5n2kfra8p0\\localcache\\local-packages\\python38\\site-packages (from requests<3,>=2.21.0->tensorboard<2.11,>=2.10->tensorflow) (2020.6.20)\n",
            "Requirement already satisfied: zipp>=0.5 in c:\\users\\xiaomi\\appdata\\local\\packages\\pythonsoftwarefoundation.python.3.8_qbz5n2kfra8p0\\localcache\\local-packages\\python38\\site-packages (from importlib-metadata>=4.4->markdown>=2.6.8->tensorboard<2.11,>=2.10->tensorflow) (3.8.0)\n",
            "Requirement already satisfied: pyasn1<0.5.0,>=0.4.6 in c:\\users\\xiaomi\\appdata\\local\\packages\\pythonsoftwarefoundation.python.3.8_qbz5n2kfra8p0\\localcache\\local-packages\\python38\\site-packages (from pyasn1-modules>=0.2.1->google-auth<3,>=1.6.3->tensorboard<2.11,>=2.10->tensorflow) (0.4.8)\n",
            "Requirement already satisfied: oauthlib>=3.0.0 in c:\\users\\xiaomi\\appdata\\local\\packages\\pythonsoftwarefoundation.python.3.8_qbz5n2kfra8p0\\localcache\\local-packages\\python38\\site-packages (from requests-oauthlib>=0.7.0->google-auth-oauthlib<0.5,>=0.4.1->tensorboard<2.11,>=2.10->tensorflow) (3.2.0)\n",
            "Installing collected packages: keras, flatbuffers, tensorflow-estimator, tensorboard, tensorflow\n",
            "  Attempting uninstall: keras\n",
            "    Found existing installation: keras 2.9.0\n",
            "    Uninstalling keras-2.9.0:\n",
            "      Successfully uninstalled keras-2.9.0\n",
            "  Attempting uninstall: flatbuffers\n",
            "    Found existing installation: flatbuffers 1.12\n",
            "    Uninstalling flatbuffers-1.12:\n",
            "      Successfully uninstalled flatbuffers-1.12\n",
            "  Attempting uninstall: tensorflow-estimator\n",
            "    Found existing installation: tensorflow-estimator 2.9.0\n",
            "    Uninstalling tensorflow-estimator-2.9.0:\n",
            "      Successfully uninstalled tensorflow-estimator-2.9.0\n",
            "  Attempting uninstall: tensorboard\n",
            "    Found existing installation: tensorboard 2.9.1\n",
            "    Uninstalling tensorboard-2.9.1:\n",
            "      Successfully uninstalled tensorboard-2.9.1\n",
            "\n",
            "[notice] A new release of pip available: 22.1.2 -> 22.3\n",
            "[notice] To update, run: C:\\Users\\Xiaomi\\AppData\\Local\\Microsoft\\WindowsApps\\PythonSoftwareFoundation.Python.3.8_qbz5n2kfra8p0\\python.exe -m pip install --upgrade pip\n"
          ]
        },
        {
          "ename": "ModuleNotFoundError",
          "evalue": "No module named 'tensorflow.python'",
          "output_type": "error",
          "traceback": [
            "\u001b[1;31m---------------------------------------------------------------------------\u001b[0m",
            "\u001b[1;31mModuleNotFoundError\u001b[0m                       Traceback (most recent call last)",
            "\u001b[1;32mc:\\Users\\Xiaomi\\Downloads\\Lesson8.ipynb Cell 2\u001b[0m in \u001b[0;36m<module>\u001b[1;34m\u001b[0m\n\u001b[0;32m      <a href='vscode-notebook-cell:/c%3A/Users/Xiaomi/Downloads/Lesson8.ipynb#W1sZmlsZQ%3D%3D?line=1'>2</a>\u001b[0m \u001b[39mimport\u001b[39;00m \u001b[39msklearn\u001b[39;00m\n\u001b[0;32m      <a href='vscode-notebook-cell:/c%3A/Users/Xiaomi/Downloads/Lesson8.ipynb#W1sZmlsZQ%3D%3D?line=2'>3</a>\u001b[0m get_ipython()\u001b[39m.\u001b[39msystem(\u001b[39m'\u001b[39m\u001b[39mpip install tensorflow\u001b[39m\u001b[39m'\u001b[39m)\n\u001b[1;32m----> <a href='vscode-notebook-cell:/c%3A/Users/Xiaomi/Downloads/Lesson8.ipynb#W1sZmlsZQ%3D%3D?line=3'>4</a>\u001b[0m \u001b[39mimport\u001b[39;00m \u001b[39mtensorflow\u001b[39;00m \u001b[39mas\u001b[39;00m \u001b[39mtf\u001b[39;00m\n\u001b[0;32m      <a href='vscode-notebook-cell:/c%3A/Users/Xiaomi/Downloads/Lesson8.ipynb#W1sZmlsZQ%3D%3D?line=4'>5</a>\u001b[0m \u001b[39mfrom\u001b[39;00m \u001b[39mtensorflow\u001b[39;00m \u001b[39mimport\u001b[39;00m keras\n\u001b[0;32m      <a href='vscode-notebook-cell:/c%3A/Users/Xiaomi/Downloads/Lesson8.ipynb#W1sZmlsZQ%3D%3D?line=5'>6</a>\u001b[0m \u001b[39mimport\u001b[39;00m \u001b[39mnumpy\u001b[39;00m \u001b[39mas\u001b[39;00m \u001b[39mnp\u001b[39;00m\n",
            "File \u001b[1;32m~\\AppData\\Local\\Packages\\PythonSoftwareFoundation.Python.3.8_qbz5n2kfra8p0\\LocalCache\\local-packages\\Python38\\site-packages\\tensorflow\\__init__.py:37\u001b[0m, in \u001b[0;36m<module>\u001b[1;34m\u001b[0m\n\u001b[0;32m     34\u001b[0m \u001b[39mimport\u001b[39;00m \u001b[39msys\u001b[39;00m \u001b[39mas\u001b[39;00m \u001b[39m_sys\u001b[39;00m\n\u001b[0;32m     35\u001b[0m \u001b[39mimport\u001b[39;00m \u001b[39mtyping\u001b[39;00m \u001b[39mas\u001b[39;00m \u001b[39m_typing\u001b[39;00m\n\u001b[1;32m---> 37\u001b[0m \u001b[39mfrom\u001b[39;00m \u001b[39mtensorflow\u001b[39;00m\u001b[39m.\u001b[39;00m\u001b[39mpython\u001b[39;00m\u001b[39m.\u001b[39;00m\u001b[39mtools\u001b[39;00m \u001b[39mimport\u001b[39;00m module_util \u001b[39mas\u001b[39;00m _module_util\n\u001b[0;32m     38\u001b[0m \u001b[39mfrom\u001b[39;00m \u001b[39mtensorflow\u001b[39;00m\u001b[39m.\u001b[39;00m\u001b[39mpython\u001b[39;00m\u001b[39m.\u001b[39;00m\u001b[39mutil\u001b[39;00m\u001b[39m.\u001b[39;00m\u001b[39mlazy_loader\u001b[39;00m \u001b[39mimport\u001b[39;00m LazyLoader \u001b[39mas\u001b[39;00m _LazyLoader\n\u001b[0;32m     40\u001b[0m \u001b[39m# Make sure code inside the TensorFlow codebase can use tf2.enabled() at import.\u001b[39;00m\n",
            "\u001b[1;31mModuleNotFoundError\u001b[0m: No module named 'tensorflow.python'"
          ]
        }
      ],
      "source": [
        "import sys\n",
        "import sklearn\n",
        "!pip install tensorflow\n",
        "import tensorflow as tf\n",
        "from tensorflow import keras\n",
        "import numpy as np\n",
        "import os\n",
        "%matplotlib inline\n",
        "import matplotlib as mpl\n",
        "import matplotlib.pyplot as plt\n",
        "mpl.rc('axes', labelsize=14)\n",
        "mpl.rc('xtick', labelsize=12)\n",
        "mpl.rc('ytick', labelsize=12)"
      ]
    },
    {
      "cell_type": "markdown",
      "metadata": {
        "id": "DkwTsO5d0ugj"
      },
      "source": [
        "## Скачиваем и визуализируем данные"
      ]
    },
    {
      "cell_type": "code",
      "execution_count": null,
      "metadata": {
        "colab": {
          "base_uri": "https://localhost:8080/"
        },
        "id": "HzkNw5JPWRD-",
        "outputId": "826f0aaa-3e9a-46b6-92bb-763d465af22a"
      },
      "outputs": [
        {
          "name": "stdout",
          "output_type": "stream",
          "text": [
            "Downloading data from https://storage.googleapis.com/tensorflow/tf-keras-datasets/mnist.npz\n",
            "11493376/11490434 [==============================] - 5s 0us/step\n"
          ]
        }
      ],
      "source": [
        "mnist = keras.datasets.mnist\n",
        "(X_train_full, y_train_full), (X_test, y_test) = mnist.load_data()"
      ]
    },
    {
      "cell_type": "code",
      "execution_count": null,
      "metadata": {
        "id": "XKaXuro7WREC"
      },
      "outputs": [],
      "source": [
        "X_valid, X_train = X_train_full[:5000] / 255., X_train_full[5000:] / 255.\n",
        "y_valid, y_train = y_train_full[:5000], y_train_full[5000:]\n",
        "X_test = X_test / 255."
      ]
    },
    {
      "cell_type": "code",
      "execution_count": null,
      "metadata": {
        "colab": {
          "base_uri": "https://localhost:8080/",
          "height": 269
        },
        "id": "DdCEmWCeWREG",
        "outputId": "cc35cf78-b40e-4dea-e14a-391a24a5b8de"
      },
      "outputs": [
        {
          "data": {
            "image/png": "[encoded data removed]",
            "text/plain": [
              "<Figure size 432x288 with 1 Axes>"
            ]
          },
          "metadata": {
            "needs_background": "light"
          },
          "output_type": "display_data"
        }
      ],
      "source": [
        "plt.imshow(X_train[10], cmap='gray')\n",
        "plt.show()"
      ]
    },
    {
      "cell_type": "markdown",
      "metadata": {
        "id": "e3s7QmfI0ugs"
      },
      "source": [
        "## Обучаем полносвязную нейронную сеть"
      ]
    },
    {
      "cell_type": "code",
      "execution_count": null,
      "metadata": {
        "id": "MW33B8fcWREH",
        "outputId": "5a4d5d8d-b6b6-4dbe-c8e4-43ca3257c35b"
      },
      "outputs": [
        {
          "name": "stderr",
          "output_type": "stream",
          "text": [
            "2022-10-20 10:42:01.835823: I tensorflow/core/platform/cpu_feature_guard.cc:142] This TensorFlow binary is optimized with oneAPI Deep Neural Network Library (oneDNN) to use the following CPU instructions in performance-critical operations:  SSE4.1 SSE4.2\n",
            "To enable them in other operations, rebuild TensorFlow with the appropriate compiler flags.\n"
          ]
        }
      ],
      "source": [
        "model = keras.models.Sequential([\n",
        "    keras.layers.Flatten(input_shape=[28, 28]),\n",
        "    keras.layers.Dense(300, activation=\"relu\"),\n",
        "    keras.layers.Dense(100, activation=\"relu\"),\n",
        "    keras.layers.Dense(10, activation=\"softmax\")\n",
        "])"
      ]
    },
    {
      "cell_type": "code",
      "execution_count": null,
      "metadata": {
        "id": "GnB-WFzBWREI"
      },
      "outputs": [],
      "source": [
        "model.compile(loss=\"sparse_categorical_crossentropy\",\n",
        "              optimizer=\"sgd\",\n",
        "              metrics=[\"accuracy\"])"
      ]
    },
    {
      "cell_type": "code",
      "execution_count": null,
      "metadata": {
        "colab": {
          "base_uri": "https://localhost:8080/"
        },
        "id": "3W7yq8V9WREJ",
        "outputId": "ebe7051f-b38f-47cb-8d63-cea935540f1f"
      },
      "outputs": [
        {
          "name": "stderr",
          "output_type": "stream",
          "text": [
            "2022-10-20 10:42:01.936147: I tensorflow/compiler/mlir/mlir_graph_optimization_pass.cc:116] None of the MLIR optimization passes are enabled (registered 2)\n"
          ]
        },
        {
          "name": "stdout",
          "output_type": "stream",
          "text": [
            "Epoch 1/5\n",
            "1719/1719 [==============================] - 3s 1ms/step - loss: 1.0167 - accuracy: 0.7330 - val_loss: 0.2985 - val_accuracy: 0.9174\n",
            "Epoch 2/5\n",
            "1719/1719 [==============================] - 2s 1ms/step - loss: 0.2995 - accuracy: 0.9153 - val_loss: 0.2354 - val_accuracy: 0.9338\n",
            "Epoch 3/5\n",
            "1719/1719 [==============================] - 2s 1ms/step - loss: 0.2396 - accuracy: 0.9306 - val_loss: 0.2038 - val_accuracy: 0.9418\n",
            "Epoch 4/5\n",
            "1719/1719 [==============================] - 2s 1ms/step - loss: 0.2054 - accuracy: 0.9408 - val_loss: 0.1789 - val_accuracy: 0.9504\n",
            "Epoch 5/5\n",
            "1719/1719 [==============================] - 2s 1ms/step - loss: 0.1784 - accuracy: 0.9489 - val_loss: 0.1591 - val_accuracy: 0.9534\n"
          ]
        }
      ],
      "source": [
        "history = model.fit(X_train, y_train, epochs=5,\n",
        "                    validation_data=(X_valid, y_valid))"
      ]
    },
    {
      "cell_type": "code",
      "execution_count": null,
      "metadata": {
        "colab": {
          "base_uri": "https://localhost:8080/"
        },
        "id": "DspoZol5WREK",
        "outputId": "dc933f57-36d9-46e2-bad8-45a5d7020591"
      },
      "outputs": [
        {
          "name": "stdout",
          "output_type": "stream",
          "text": [
            "313/313 [==============================] - 0s 709us/step - loss: 0.1636 - accuracy: 0.9513\n"
          ]
        },
        {
          "data": {
            "text/plain": [
              "[0.163639634847641, 0.9513000249862671]"
            ]
          },
          "execution_count": 8,
          "metadata": {},
          "output_type": "execute_result"
        }
      ],
      "source": [
        "model.evaluate(X_test, y_test)"
      ]
    },
    {
      "cell_type": "code",
      "execution_count": null,
      "metadata": {
        "colab": {
          "base_uri": "https://localhost:8080/"
        },
        "id": "uuo4FO8xWREM",
        "outputId": "0de78352-0653-4f68-947b-b2ab89e73009"
      },
      "outputs": [
        {
          "data": {
            "text/plain": [
              "array([[0.  , 0.  , 0.  , 0.  , 0.  , 0.  , 0.  , 1.  , 0.  , 0.  ],\n",
              "       [0.  , 0.  , 0.95, 0.05, 0.  , 0.  , 0.  , 0.  , 0.  , 0.  ],\n",
              "       [0.  , 0.99, 0.  , 0.  , 0.  , 0.  , 0.  , 0.  , 0.  , 0.  ]],\n",
              "      dtype=float32)"
            ]
          },
          "execution_count": 9,
          "metadata": {},
          "output_type": "execute_result"
        }
      ],
      "source": [
        "X_new = X_test[:3]\n",
        "y_proba = model.predict(X_new)\n",
        "y_proba.round(2)"
      ]
    },
    {
      "cell_type": "code",
      "execution_count": null,
      "metadata": {
        "colab": {
          "base_uri": "https://localhost:8080/",
          "height": 269
        },
        "id": "fvoZ7d13WrSq",
        "outputId": "2778040e-7592-4195-a104-134527f14d2b"
      },
      "outputs": [
        {
          "data": {
            "image/png": "[encoded data removed]",
            "text/plain": [
              "<Figure size 432x288 with 1 Axes>"
            ]
          },
          "metadata": {
            "needs_background": "light"
          },
          "output_type": "display_data"
        }
      ],
      "source": [
        "plt.imshow(X_test[1], cmap='gray')\n",
        "plt.show()"
      ]
    },
    {
      "cell_type": "markdown",
      "metadata": {
        "id": "VVeNdvvf0ug3"
      },
      "source": [
        "## Обучаем сверточную нейронную сеть"
      ]
    },
    {
      "cell_type": "code",
      "execution_count": null,
      "metadata": {
        "colab": {
          "base_uri": "https://localhost:8080/"
        },
        "id": "bQDcWPyDWREO",
        "outputId": "685440b4-1dbb-4ea3-c0d0-c52c63dd2419"
      },
      "outputs": [
        {
          "data": {
            "text/plain": [
              "(55000, 28, 28)"
            ]
          },
          "execution_count": 11,
          "metadata": {},
          "output_type": "execute_result"
        }
      ],
      "source": [
        "X_train.shape"
      ]
    },
    {
      "cell_type": "code",
      "execution_count": null,
      "metadata": {
        "id": "JePkBCpyWREd"
      },
      "outputs": [],
      "source": [
        "X_train = X_train[..., np.newaxis]\n",
        "X_valid = X_valid[..., np.newaxis]\n",
        "X_test = X_test[..., np.newaxis]"
      ]
    },
    {
      "cell_type": "code",
      "execution_count": null,
      "metadata": {
        "colab": {
          "base_uri": "https://localhost:8080/"
        },
        "id": "a8PrKv_HWREd",
        "outputId": "5600c810-0743-4f6d-c5c5-76a831548eac"
      },
      "outputs": [
        {
          "data": {
            "text/plain": [
              "(55000, 28, 28, 1)"
            ]
          },
          "execution_count": 13,
          "metadata": {},
          "output_type": "execute_result"
        }
      ],
      "source": [
        "X_train.shape"
      ]
    },
    {
      "cell_type": "code",
      "execution_count": null,
      "metadata": {
        "id": "_HA2zJIRWREf"
      },
      "outputs": [],
      "source": [
        "from functools import partial\n",
        "\n",
        "DefaultConv2D = partial(keras.layers.Conv2D,\n",
        "                        kernel_size=3, activation='relu', padding=\"SAME\")\n",
        "\n",
        "model = keras.models.Sequential([\n",
        "    DefaultConv2D(filters=64, kernel_size=7, input_shape=[28, 28, 1]),\n",
        "    keras.layers.MaxPooling2D(pool_size=2),\n",
        "    DefaultConv2D(filters=128),\n",
        "    DefaultConv2D(filters=128),\n",
        "    keras.layers.MaxPooling2D(pool_size=2),\n",
        "    DefaultConv2D(filters=256),\n",
        "    DefaultConv2D(filters=256),\n",
        "    keras.layers.MaxPooling2D(pool_size=2),\n",
        "    keras.layers.Flatten(),\n",
        "    keras.layers.Dense(units=128, activation='relu'),\n",
        "    keras.layers.Dropout(0.5),\n",
        "    keras.layers.Dense(units=64, activation='relu'),\n",
        "    keras.layers.Dropout(0.5),\n",
        "    keras.layers.Dense(units=10, activation='softmax'),\n",
        "])"
      ]
    },
    {
      "cell_type": "code",
      "execution_count": null,
      "metadata": {
        "colab": {
          "base_uri": "https://localhost:8080/"
        },
        "id": "SnQsu_wVWREf",
        "outputId": "3f39d691-90e8-4045-9524-3f622debd727"
      },
      "outputs": [
        {
          "name": "stdout",
          "output_type": "stream",
          "text": [
            "Epoch 1/5\n",
            "1719/1719 [==============================] - 207s 120ms/step - loss: 0.6667 - accuracy: 0.7781 - val_loss: 0.0571 - val_accuracy: 0.9876\n",
            "Epoch 2/5\n",
            "1719/1719 [==============================] - 208s 121ms/step - loss: 0.1015 - accuracy: 0.9774 - val_loss: 0.0562 - val_accuracy: 0.9878\n",
            "Epoch 3/5\n",
            "1719/1719 [==============================] - 204s 118ms/step - loss: 0.0783 - accuracy: 0.9827 - val_loss: 0.0397 - val_accuracy: 0.9898\n",
            "Epoch 4/5\n",
            "1719/1719 [==============================] - 204s 119ms/step - loss: 0.0644 - accuracy: 0.9855 - val_loss: 0.0465 - val_accuracy: 0.9900\n",
            "Epoch 5/5\n",
            "1719/1719 [==============================] - 203s 118ms/step - loss: 0.0483 - accuracy: 0.9896 - val_loss: 0.0511 - val_accuracy: 0.9894\n",
            "313/313 [==============================] - 12s 40ms/step - loss: 0.0502 - accuracy: 0.9898\n"
          ]
        }
      ],
      "source": [
        "model.compile(loss=\"sparse_categorical_crossentropy\", optimizer=\"nadam\", metrics=[\"accuracy\"])\n",
        "history = model.fit(X_train, y_train, epochs=5,\n",
        "                    validation_data=(X_valid, y_valid))\n",
        "score = model.evaluate(X_test, y_test)"
      ]
    },
    {
      "cell_type": "code",
      "execution_count": null,
      "metadata": {
        "colab": {
          "base_uri": "https://localhost:8080/"
        },
        "id": "zb8YAxBGWREi",
        "outputId": "e5d1758a-0630-4d6a-8949-f0c8a7aa6bf5"
      },
      "outputs": [
        {
          "name": "stdout",
          "output_type": "stream",
          "text": [
            "313/313 [==============================] - 13s 40ms/step - loss: 0.0502 - accuracy: 0.9898\n"
          ]
        },
        {
          "data": {
            "text/plain": [
              "[0.05024703964591026, 0.989799976348877]"
            ]
          },
          "execution_count": 16,
          "metadata": {},
          "output_type": "execute_result"
        }
      ],
      "source": [
        "model.evaluate(X_test, y_test)"
      ]
    },
    {
      "cell_type": "code",
      "execution_count": null,
      "metadata": {
        "colab": {
          "base_uri": "https://localhost:8080/"
        },
        "id": "ZjJdd_46DMHX",
        "outputId": "9b4347c1-5bbe-494b-9fcc-19c91b3985ff"
      },
      "outputs": [
        {
          "data": {
            "text/plain": [
              "(10000, 28, 28, 1)"
            ]
          },
          "execution_count": 17,
          "metadata": {},
          "output_type": "execute_result"
        }
      ],
      "source": [
        "X_test.shape"
      ]
    },
    {
      "cell_type": "code",
      "execution_count": null,
      "metadata": {
        "colab": {
          "base_uri": "https://localhost:8080/"
        },
        "id": "Bd3iHigmdar4",
        "outputId": "baff87f7-5073-44fc-c282-7d04ab575c88"
      },
      "outputs": [
        {
          "data": {
            "text/plain": [
              "array([[0., 0., 0., 0., 0., 0., 0., 1., 0., 0.],\n",
              "       [0., 0., 1., 0., 0., 0., 0., 0., 0., 0.],\n",
              "       [0., 1., 0., 0., 0., 0., 0., 0., 0., 0.]], dtype=float32)"
            ]
          },
          "execution_count": 18,
          "metadata": {},
          "output_type": "execute_result"
        }
      ],
      "source": [
        "X_new = X_test[:3]\n",
        "y_proba = model.predict(X_new)\n",
        "y_proba.round(2)"
      ]
    },
    {
      "cell_type": "code",
      "execution_count": null,
      "metadata": {
        "colab": {
          "base_uri": "https://localhost:8080/",
          "height": 269
        },
        "id": "afMP3Ux9deBU",
        "outputId": "1b48a10b-e558-4d84-c4be-37115e9af7ce"
      },
      "outputs": [
        {
          "data": {
            "image/png": "[encoded data removed]",
            "text/plain": [
              "<Figure size 432x288 with 1 Axes>"
            ]
          },
          "metadata": {
            "needs_background": "light"
          },
          "output_type": "display_data"
        }
      ],
      "source": [
        "plt.imshow(X_test[1].reshape(28,28), cmap='gray')\n",
        "plt.show()"
      ]
    },
    {
      "cell_type": "markdown",
      "metadata": {
        "id": "FG-vk6rX0uhJ"
      },
      "source": [
        "## Домашнее задание"
      ]
    },
    {
      "cell_type": "markdown",
      "metadata": {
        "id": "3Lsf8R2J0uhK"
      },
      "source": [
        "Подобрать гиперпараметры сверточной нейронной сети и обучить ее для датасета CIFAR10 (keras.datasets.cifar10). Сравнить точность ее работы с полносвязной нейронной сетью. Лучше сделать в google colab и подключить использование GPU."
      ]
    },
    {
      "cell_type": "code",
      "source": [
        "import sys\n",
        "import sklearn\n",
        "# !pip install tensorflow\n",
        "import tensorflow as tf\n",
        "from tensorflow import keras\n",
        "import numpy as np\n",
        "import os\n",
        "%matplotlib inline\n",
        "import matplotlib as mpl\n",
        "import matplotlib.pyplot as plt\n",
        "from sklearn.model_selection import train_test_split, ParameterGrid\n",
        "mpl.rc('axes', labelsize=14)\n",
        "mpl.rc('xtick', labelsize=12)\n",
        "mpl.rc('ytick', labelsize=12)"
      ],
      "metadata": {
        "id": "-76VcwHb0yCz"
      },
      "execution_count": 1,
      "outputs": []
    },
    {
      "cell_type": "code",
      "source": [
        "mnist = keras.datasets.cifar10\n",
        "(X_train_full, y_train_full), (X_test, y_test) = mnist.load_data()\n",
        "X_train_full.shape, y_train_full.shape"
      ],
      "metadata": {
        "colab": {
          "base_uri": "https://localhost:8080/"
        },
        "id": "uBRUMf931Dnv",
        "outputId": "b5a1fe3e-d8b3-4004-b359-fd883dc6cc7b"
      },
      "execution_count": 4,
      "outputs": [
        {
          "output_type": "execute_result",
          "data": {
            "text/plain": [
              "((50000, 32, 32, 3), (50000, 1))"
            ]
          },
          "metadata": {},
          "execution_count": 4
        }
      ]
    },
    {
      "cell_type": "code",
      "source": [
        "X_valid, X_train = X_train_full[:5000] / 255., X_train_full[5000:] / 255.\n",
        "y_valid, y_train = y_train_full[:5000], y_train_full[5000:]\n",
        "X_test = X_test / 255.\n",
        "X_train.shape"
      ],
      "metadata": {
        "colab": {
          "base_uri": "https://localhost:8080/"
        },
        "id": "eVg4SW3h1k6X",
        "outputId": "fe45e0b0-2f03-4670-b487-35be9e096483"
      },
      "execution_count": 5,
      "outputs": [
        {
          "output_type": "execute_result",
          "data": {
            "text/plain": [
              "(45000, 32, 32, 3)"
            ]
          },
          "metadata": {},
          "execution_count": 5
        }
      ]
    },
    {
      "cell_type": "code",
      "source": [
        "plt.imshow(X_train[10])\n",
        "plt.show()"
      ],
      "metadata": {
        "colab": {
          "base_uri": "https://localhost:8080/",
          "height": 270
        },
        "id": "4ZCkj3iz1zAN",
        "outputId": "cd9d9d5c-13ad-4915-fbe2-def7c4614c54"
      },
      "execution_count": 4,
      "outputs": [
        {
          "output_type": "display_data",
          "data": {
            "text/plain": [
              "<Figure size 432x288 with 1 Axes>"
            ],
            "image/png": "[encoded data removed]"
          },
          "metadata": {
            "needs_background": "light"
          }
        }
      ]
    },
    {
      "cell_type": "code",
      "source": [
        "model = keras.models.Sequential([\n",
        "    keras.layers.Flatten(input_shape=X_train.shape[1:]),\n",
        "    keras.layers.Dense(300, activation=\"relu\"),\n",
        "    keras.layers.Dense(100, activation=\"relu\"),\n",
        "    keras.layers.Dense(10, activation=\"softmax\")\n",
        "])\n",
        "\n",
        "model.compile(loss=\"sparse_categorical_crossentropy\",\n",
        "              optimizer=\"sgd\",\n",
        "              metrics=[\"accuracy\"])\n",
        "\n",
        "history = model.fit(X_train, y_train, epochs=5,\n",
        "                    validation_data=(X_valid, y_valid))\n",
        "\n",
        "model.evaluate(X_test, y_test)"
      ],
      "metadata": {
        "colab": {
          "base_uri": "https://localhost:8080/"
        },
        "id": "KvJ5W9xD13aW",
        "outputId": "2e4b90e0-e189-43f4-cd27-1129f696abf4"
      },
      "execution_count": 5,
      "outputs": [
        {
          "output_type": "stream",
          "name": "stdout",
          "text": [
            "Epoch 1/5\n",
            "1407/1407 [==============================] - 7s 3ms/step - loss: 1.8907 - accuracy: 0.3181 - val_loss: 1.8549 - val_accuracy: 0.3310\n",
            "Epoch 2/5\n",
            "1407/1407 [==============================] - 4s 3ms/step - loss: 1.6992 - accuracy: 0.3965 - val_loss: 1.7353 - val_accuracy: 0.3834\n",
            "Epoch 3/5\n",
            "1407/1407 [==============================] - 5s 3ms/step - loss: 1.6203 - accuracy: 0.4267 - val_loss: 1.6745 - val_accuracy: 0.3970\n",
            "Epoch 4/5\n",
            "1407/1407 [==============================] - 4s 3ms/step - loss: 1.5678 - accuracy: 0.4458 - val_loss: 1.7331 - val_accuracy: 0.3734\n",
            "Epoch 5/5\n",
            "1407/1407 [==============================] - 5s 3ms/step - loss: 1.5222 - accuracy: 0.4608 - val_loss: 1.6006 - val_accuracy: 0.4308\n",
            "313/313 [==============================] - 1s 2ms/step - loss: 1.5865 - accuracy: 0.4326\n"
          ]
        },
        {
          "output_type": "execute_result",
          "data": {
            "text/plain": [
              "[1.586482286453247, 0.4325999915599823]"
            ]
          },
          "metadata": {},
          "execution_count": 5
        }
      ]
    },
    {
      "cell_type": "code",
      "source": [
        "# airplane automobile bird cat deer dog frog horse ship truck\n",
        "# 1           2         3   4   5    6    7    8     9   10\n",
        "X_new = X_test[:3]\n",
        "y_proba = model.predict(X_new)\n",
        "y_proba.round(2), y_test[0]"
      ],
      "metadata": {
        "colab": {
          "base_uri": "https://localhost:8080/"
        },
        "id": "26uRZPCd20dZ",
        "outputId": "ebb09024-fc9f-40de-dcd3-eeeac082dfb4"
      },
      "execution_count": 6,
      "outputs": [
        {
          "output_type": "stream",
          "name": "stdout",
          "text": [
            "1/1 [==============================] - 0s 78ms/step\n"
          ]
        },
        {
          "output_type": "execute_result",
          "data": {
            "text/plain": [
              "(array([[0.02, 0.06, 0.14, 0.39, 0.01, 0.21, 0.08, 0.01, 0.08, 0.01],\n",
              "        [0.02, 0.41, 0.  , 0.01, 0.  , 0.  , 0.  , 0.  , 0.3 , 0.26],\n",
              "        [0.07, 0.15, 0.01, 0.01, 0.  , 0.  , 0.  , 0.  , 0.63, 0.13]],\n",
              "       dtype=float32), array([3], dtype=uint8))"
            ]
          },
          "metadata": {},
          "execution_count": 6
        }
      ]
    },
    {
      "cell_type": "code",
      "source": [
        "plt.imshow(X_test[0])\n",
        "plt.show()"
      ],
      "metadata": {
        "colab": {
          "base_uri": "https://localhost:8080/",
          "height": 270
        },
        "id": "ofbMQAqa3WvN",
        "outputId": "070b8ac0-edbb-4f94-fa82-f6527903f3c9"
      },
      "execution_count": 7,
      "outputs": [
        {
          "output_type": "display_data",
          "data": {
            "text/plain": [
              "<Figure size 432x288 with 1 Axes>"
            ],
            "image/png": "[encoded data removed]"
          },
          "metadata": {
            "needs_background": "light"
          }
        }
      ]
    },
    {
      "cell_type": "code",
      "source": [
        "def grid_research(params):\n",
        "  grid = ParameterGrid(params)\n",
        "  loss = []\n",
        "  for i in range(len(grid)):\n",
        "    params_ = grid[i]\n",
        "    print(i, params_)\n",
        "    model = keras.models.Sequential()\n",
        "    model.add(keras.Input(shape=X_train.shape[1:]))\n",
        "    for _ in range(params_['n_layers_conv']-1):\n",
        "      model.add(keras.layers.Conv2D(params_['n_neurons_conv'], (3, 3), activation=params_['activation']))\n",
        "      model.add(keras.layers.MaxPooling2D((2, 2)))\n",
        "    model.add(keras.layers.Conv2D(params_['n_neurons_conv'], (3, 3), activation=params_['activation']))\n",
        "    model.add(keras.layers.Flatten())\n",
        "    for _ in range(params_['n_layers_conv']):\n",
        "      model.add(keras.layers.Dense(params_['n_neurons_conv'], activation=params_['activation']))\n",
        "    model.add(keras.layers.Dense(10))\n",
        "    print(model.summary)\n",
        "\n",
        "    model.compile(loss=tf.keras.losses.SparseCategoricalCrossentropy(from_logits=True), optimizer='adam', metrics=['accuracy'])\n",
        "\n",
        "    history = model.fit(X_train, y_train, epochs=8, validation_data=(X_valid, y_valid), verbose=2)\n",
        "    # tmp = np.mean(history.history['val_loss'][50:])\n",
        "    tmp = np.min(history.history['val_loss'])\n",
        "    loss.append([tmp, i, np.max(history.history['val_accuracy'])])\n",
        "  \n",
        "  loss = np.array(loss)\n",
        "  # np.savetxt('loss.txt', loss)\n",
        "  return loss\n",
        "                        "
      ],
      "metadata": {
        "id": "SLo9UB2S-W8F"
      },
      "execution_count": 9,
      "outputs": []
    },
    {
      "cell_type": "code",
      "source": [
        "params = {\n",
        "    'n_layers_conv': [2,3],\n",
        "    'n_neurons_conv': [32,64],\n",
        "    # 'activation': ['relu']\n",
        "    'activation': ['relu', 'sigmoid', 'softmax'],\n",
        "}\n",
        "# params = {'n_neurons_den': [64], 'n_neurons_conv': [32], 'n_layers_den': [2], 'n_layers_conv': [2], 'activation': ['relu']}\n",
        "\n",
        "out = grid_research(params)"
      ],
      "metadata": {
        "colab": {
          "base_uri": "https://localhost:8080/"
        },
        "id": "XfhqKwe--s0I",
        "outputId": "9b477fa3-bf9b-4ac8-96a7-a974c07c0105"
      },
      "execution_count": 7,
      "outputs": [
        {
          "output_type": "stream",
          "name": "stdout",
          "text": [
            "0 {'n_neurons_conv': 32, 'n_layers_conv': 2, 'activation': 'relu'}\n",
            "<bound method Model.summary of <keras.engine.sequential.Sequential object at 0x7f13800a5850>>\n",
            "Epoch 1/8\n",
            "1407/1407 - 13s - loss: 1.5275 - accuracy: 0.4416 - val_loss: 1.2494 - val_accuracy: 0.5512 - 13s/epoch - 10ms/step\n",
            "Epoch 2/8\n",
            "1407/1407 - 5s - loss: 1.1891 - accuracy: 0.5769 - val_loss: 1.1550 - val_accuracy: 0.5852 - 5s/epoch - 3ms/step\n",
            "Epoch 3/8\n",
            "1407/1407 - 5s - loss: 1.0426 - accuracy: 0.6310 - val_loss: 1.0477 - val_accuracy: 0.6342 - 5s/epoch - 3ms/step\n",
            "Epoch 4/8\n",
            "1407/1407 - 5s - loss: 0.9549 - accuracy: 0.6643 - val_loss: 1.0257 - val_accuracy: 0.6428 - 5s/epoch - 3ms/step\n",
            "Epoch 5/8\n",
            "1407/1407 - 5s - loss: 0.8884 - accuracy: 0.6905 - val_loss: 0.9722 - val_accuracy: 0.6690 - 5s/epoch - 3ms/step\n",
            "Epoch 6/8\n",
            "1407/1407 - 5s - loss: 0.8282 - accuracy: 0.7102 - val_loss: 0.9729 - val_accuracy: 0.6666 - 5s/epoch - 3ms/step\n",
            "Epoch 7/8\n",
            "1407/1407 - 5s - loss: 0.7755 - accuracy: 0.7282 - val_loss: 0.9806 - val_accuracy: 0.6740 - 5s/epoch - 3ms/step\n",
            "Epoch 8/8\n",
            "1407/1407 - 5s - loss: 0.7329 - accuracy: 0.7430 - val_loss: 0.9729 - val_accuracy: 0.6728 - 5s/epoch - 4ms/step\n",
            "1 {'n_neurons_conv': 64, 'n_layers_conv': 2, 'activation': 'relu'}\n",
            "<bound method Model.summary of <keras.engine.sequential.Sequential object at 0x7f132c2e1290>>\n",
            "Epoch 1/8\n",
            "1407/1407 - 6s - loss: 1.5246 - accuracy: 0.4420 - val_loss: 1.2260 - val_accuracy: 0.5666 - 6s/epoch - 4ms/step\n",
            "Epoch 2/8\n",
            "1407/1407 - 5s - loss: 1.1311 - accuracy: 0.5991 - val_loss: 1.0816 - val_accuracy: 0.6286 - 5s/epoch - 4ms/step\n",
            "Epoch 3/8\n",
            "1407/1407 - 5s - loss: 0.9789 - accuracy: 0.6540 - val_loss: 1.0761 - val_accuracy: 0.6250 - 5s/epoch - 3ms/step\n",
            "Epoch 4/8\n",
            "1407/1407 - 5s - loss: 0.8907 - accuracy: 0.6890 - val_loss: 0.9680 - val_accuracy: 0.6652 - 5s/epoch - 3ms/step\n",
            "Epoch 5/8\n",
            "1407/1407 - 5s - loss: 0.8197 - accuracy: 0.7120 - val_loss: 1.0094 - val_accuracy: 0.6524 - 5s/epoch - 4ms/step\n",
            "Epoch 6/8\n",
            "1407/1407 - 5s - loss: 0.7610 - accuracy: 0.7333 - val_loss: 0.9309 - val_accuracy: 0.6820 - 5s/epoch - 3ms/step\n",
            "Epoch 7/8\n",
            "1407/1407 - 5s - loss: 0.7105 - accuracy: 0.7506 - val_loss: 0.9538 - val_accuracy: 0.6792 - 5s/epoch - 3ms/step\n",
            "Epoch 8/8\n",
            "1407/1407 - 5s - loss: 0.6574 - accuracy: 0.7684 - val_loss: 0.9720 - val_accuracy: 0.6854 - 5s/epoch - 3ms/step\n",
            "2 {'n_neurons_conv': 32, 'n_layers_conv': 3, 'activation': 'relu'}\n",
            "<bound method Model.summary of <keras.engine.sequential.Sequential object at 0x7f132c267bd0>>\n",
            "Epoch 1/8\n",
            "1407/1407 - 6s - loss: 1.6971 - accuracy: 0.3628 - val_loss: 1.4258 - val_accuracy: 0.4762 - 6s/epoch - 4ms/step\n",
            "Epoch 2/8\n",
            "1407/1407 - 5s - loss: 1.3561 - accuracy: 0.5028 - val_loss: 1.2929 - val_accuracy: 0.5242 - 5s/epoch - 3ms/step\n",
            "Epoch 3/8\n",
            "1407/1407 - 5s - loss: 1.2103 - accuracy: 0.5597 - val_loss: 1.1344 - val_accuracy: 0.5956 - 5s/epoch - 4ms/step\n",
            "Epoch 4/8\n",
            "1407/1407 - 5s - loss: 1.1089 - accuracy: 0.6027 - val_loss: 1.0759 - val_accuracy: 0.6224 - 5s/epoch - 3ms/step\n",
            "Epoch 5/8\n",
            "1407/1407 - 5s - loss: 1.0339 - accuracy: 0.6334 - val_loss: 1.0553 - val_accuracy: 0.6266 - 5s/epoch - 4ms/step\n",
            "Epoch 6/8\n",
            "1407/1407 - 5s - loss: 0.9837 - accuracy: 0.6516 - val_loss: 0.9881 - val_accuracy: 0.6536 - 5s/epoch - 3ms/step\n",
            "Epoch 7/8\n",
            "1407/1407 - 5s - loss: 0.9356 - accuracy: 0.6698 - val_loss: 1.0281 - val_accuracy: 0.6430 - 5s/epoch - 3ms/step\n",
            "Epoch 8/8\n",
            "1407/1407 - 5s - loss: 0.8987 - accuracy: 0.6851 - val_loss: 0.9977 - val_accuracy: 0.6498 - 5s/epoch - 4ms/step\n",
            "3 {'n_neurons_conv': 64, 'n_layers_conv': 3, 'activation': 'relu'}\n",
            "<bound method Model.summary of <keras.engine.sequential.Sequential object at 0x7f132c083ed0>>\n",
            "Epoch 1/8\n",
            "1407/1407 - 6s - loss: 1.5919 - accuracy: 0.4073 - val_loss: 1.2746 - val_accuracy: 0.5492 - 6s/epoch - 4ms/step\n",
            "Epoch 2/8\n",
            "1407/1407 - 5s - loss: 1.1990 - accuracy: 0.5690 - val_loss: 1.0957 - val_accuracy: 0.6116 - 5s/epoch - 4ms/step\n",
            "Epoch 3/8\n",
            "1407/1407 - 6s - loss: 1.0319 - accuracy: 0.6346 - val_loss: 1.0129 - val_accuracy: 0.6424 - 6s/epoch - 4ms/step\n",
            "Epoch 4/8\n",
            "1407/1407 - 5s - loss: 0.9180 - accuracy: 0.6752 - val_loss: 0.9606 - val_accuracy: 0.6630 - 5s/epoch - 4ms/step\n",
            "Epoch 5/8\n",
            "1407/1407 - 5s - loss: 0.8413 - accuracy: 0.7047 - val_loss: 0.8908 - val_accuracy: 0.6856 - 5s/epoch - 4ms/step\n",
            "Epoch 6/8\n",
            "1407/1407 - 5s - loss: 0.7745 - accuracy: 0.7281 - val_loss: 0.9125 - val_accuracy: 0.6962 - 5s/epoch - 4ms/step\n",
            "Epoch 7/8\n",
            "1407/1407 - 5s - loss: 0.7197 - accuracy: 0.7474 - val_loss: 0.8758 - val_accuracy: 0.6974 - 5s/epoch - 4ms/step\n",
            "Epoch 8/8\n",
            "1407/1407 - 5s - loss: 0.6670 - accuracy: 0.7653 - val_loss: 0.8997 - val_accuracy: 0.6952 - 5s/epoch - 4ms/step\n",
            "4 {'n_neurons_conv': 32, 'n_layers_conv': 2, 'activation': 'sigmoid'}\n",
            "<bound method Model.summary of <keras.engine.sequential.Sequential object at 0x7f12d5654d90>>\n",
            "Epoch 1/8\n",
            "1407/1407 - 5s - loss: 2.3066 - accuracy: 0.1000 - val_loss: 2.3068 - val_accuracy: 0.0976 - 5s/epoch - 4ms/step\n",
            "Epoch 2/8\n",
            "1407/1407 - 5s - loss: 2.3058 - accuracy: 0.1004 - val_loss: 2.3047 - val_accuracy: 0.1038 - 5s/epoch - 3ms/step\n",
            "Epoch 3/8\n",
            "1407/1407 - 5s - loss: 2.3055 - accuracy: 0.1010 - val_loss: 2.3061 - val_accuracy: 0.1038 - 5s/epoch - 3ms/step\n",
            "Epoch 4/8\n",
            "1407/1407 - 5s - loss: 2.3051 - accuracy: 0.0975 - val_loss: 2.3044 - val_accuracy: 0.0996 - 5s/epoch - 4ms/step\n",
            "Epoch 5/8\n",
            "1407/1407 - 4s - loss: 2.3051 - accuracy: 0.0997 - val_loss: 2.3052 - val_accuracy: 0.1010 - 4s/epoch - 3ms/step\n",
            "Epoch 6/8\n",
            "1407/1407 - 4s - loss: 2.3052 - accuracy: 0.1003 - val_loss: 2.3027 - val_accuracy: 0.0996 - 4s/epoch - 3ms/step\n",
            "Epoch 7/8\n",
            "1407/1407 - 4s - loss: 2.3046 - accuracy: 0.1004 - val_loss: 2.3033 - val_accuracy: 0.1038 - 4s/epoch - 3ms/step\n",
            "Epoch 8/8\n",
            "1407/1407 - 5s - loss: 2.3045 - accuracy: 0.0997 - val_loss: 2.3039 - val_accuracy: 0.0996 - 5s/epoch - 3ms/step\n",
            "5 {'n_neurons_conv': 64, 'n_layers_conv': 2, 'activation': 'sigmoid'}\n",
            "<bound method Model.summary of <keras.engine.sequential.Sequential object at 0x7f12d547e150>>\n",
            "Epoch 1/8\n",
            "1407/1407 - 6s - loss: 2.3095 - accuracy: 0.1018 - val_loss: 2.3065 - val_accuracy: 0.1040 - 6s/epoch - 4ms/step\n",
            "Epoch 2/8\n",
            "1407/1407 - 5s - loss: 2.3072 - accuracy: 0.1007 - val_loss: 2.3074 - val_accuracy: 0.1010 - 5s/epoch - 4ms/step\n",
            "Epoch 3/8\n",
            "1407/1407 - 5s - loss: 2.3059 - accuracy: 0.1005 - val_loss: 2.3068 - val_accuracy: 0.0972 - 5s/epoch - 3ms/step\n",
            "Epoch 4/8\n",
            "1407/1407 - 5s - loss: 2.3051 - accuracy: 0.1006 - val_loss: 2.3035 - val_accuracy: 0.1010 - 5s/epoch - 3ms/step\n",
            "Epoch 5/8\n",
            "1407/1407 - 5s - loss: 2.3045 - accuracy: 0.1001 - val_loss: 2.3030 - val_accuracy: 0.1010 - 5s/epoch - 3ms/step\n",
            "Epoch 6/8\n",
            "1407/1407 - 5s - loss: 2.3040 - accuracy: 0.0991 - val_loss: 2.3043 - val_accuracy: 0.0996 - 5s/epoch - 3ms/step\n",
            "Epoch 7/8\n",
            "1407/1407 - 5s - loss: 2.3039 - accuracy: 0.0990 - val_loss: 2.3034 - val_accuracy: 0.0976 - 5s/epoch - 4ms/step\n",
            "Epoch 8/8\n",
            "1407/1407 - 5s - loss: 2.3032 - accuracy: 0.1025 - val_loss: 2.3029 - val_accuracy: 0.0972 - 5s/epoch - 3ms/step\n",
            "6 {'n_neurons_conv': 32, 'n_layers_conv': 3, 'activation': 'sigmoid'}\n",
            "<bound method Model.summary of <keras.engine.sequential.Sequential object at 0x7f12d5392390>>\n",
            "Epoch 1/8\n",
            "1407/1407 - 6s - loss: 2.3071 - accuracy: 0.1006 - val_loss: 2.3051 - val_accuracy: 0.0996 - 6s/epoch - 4ms/step\n",
            "Epoch 2/8\n",
            "1407/1407 - 5s - loss: 2.0899 - accuracy: 0.2120 - val_loss: 1.9974 - val_accuracy: 0.2492 - 5s/epoch - 3ms/step\n",
            "Epoch 3/8\n",
            "1407/1407 - 5s - loss: 1.8965 - accuracy: 0.2918 - val_loss: 1.7945 - val_accuracy: 0.3310 - 5s/epoch - 4ms/step\n",
            "Epoch 4/8\n",
            "1407/1407 - 5s - loss: 1.7711 - accuracy: 0.3429 - val_loss: 1.7238 - val_accuracy: 0.3628 - 5s/epoch - 4ms/step\n",
            "Epoch 5/8\n",
            "1407/1407 - 5s - loss: 1.6734 - accuracy: 0.3812 - val_loss: 1.6603 - val_accuracy: 0.3868 - 5s/epoch - 4ms/step\n",
            "Epoch 6/8\n",
            "1407/1407 - 5s - loss: 1.5999 - accuracy: 0.4125 - val_loss: 1.5512 - val_accuracy: 0.4318 - 5s/epoch - 4ms/step\n",
            "Epoch 7/8\n",
            "1407/1407 - 5s - loss: 1.5440 - accuracy: 0.4337 - val_loss: 1.5370 - val_accuracy: 0.4340 - 5s/epoch - 4ms/step\n",
            "Epoch 8/8\n",
            "1407/1407 - 5s - loss: 1.4961 - accuracy: 0.4516 - val_loss: 1.4826 - val_accuracy: 0.4604 - 5s/epoch - 3ms/step\n",
            "7 {'n_neurons_conv': 64, 'n_layers_conv': 3, 'activation': 'sigmoid'}\n",
            "<bound method Model.summary of <keras.engine.sequential.Sequential object at 0x7f12d5103710>>\n",
            "Epoch 1/8\n",
            "1407/1407 - 6s - loss: 2.3091 - accuracy: 0.0991 - val_loss: 2.3102 - val_accuracy: 0.0920 - 6s/epoch - 4ms/step\n",
            "Epoch 2/8\n",
            "1407/1407 - 5s - loss: 2.3080 - accuracy: 0.0980 - val_loss: 2.3091 - val_accuracy: 0.0920 - 5s/epoch - 4ms/step\n",
            "Epoch 3/8\n",
            "1407/1407 - 5s - loss: 2.3069 - accuracy: 0.1043 - val_loss: 2.3078 - val_accuracy: 0.0920 - 5s/epoch - 4ms/step\n",
            "Epoch 4/8\n",
            "1407/1407 - 6s - loss: 2.3059 - accuracy: 0.0988 - val_loss: 2.3042 - val_accuracy: 0.0996 - 6s/epoch - 4ms/step\n",
            "Epoch 5/8\n",
            "1407/1407 - 5s - loss: 2.3052 - accuracy: 0.0996 - val_loss: 2.3026 - val_accuracy: 0.0996 - 5s/epoch - 4ms/step\n",
            "Epoch 6/8\n",
            "1407/1407 - 5s - loss: 2.3038 - accuracy: 0.0994 - val_loss: 2.3042 - val_accuracy: 0.0972 - 5s/epoch - 4ms/step\n",
            "Epoch 7/8\n",
            "1407/1407 - 5s - loss: 2.3032 - accuracy: 0.0969 - val_loss: 2.3028 - val_accuracy: 0.0972 - 5s/epoch - 4ms/step\n",
            "Epoch 8/8\n",
            "1407/1407 - 5s - loss: 2.3029 - accuracy: 0.1007 - val_loss: 2.3027 - val_accuracy: 0.0972 - 5s/epoch - 4ms/step\n",
            "8 {'n_neurons_conv': 32, 'n_layers_conv': 2, 'activation': 'softmax'}\n",
            "<bound method Model.summary of <keras.engine.sequential.Sequential object at 0x7f12d5020b10>>\n",
            "Epoch 1/8\n",
            "1407/1407 - 6s - loss: 2.3030 - accuracy: 0.1000 - val_loss: 2.2972 - val_accuracy: 0.1614 - 6s/epoch - 4ms/step\n",
            "Epoch 2/8\n",
            "1407/1407 - 5s - loss: 2.1766 - accuracy: 0.1960 - val_loss: 2.0611 - val_accuracy: 0.2356 - 5s/epoch - 3ms/step\n",
            "Epoch 3/8\n",
            "1407/1407 - 5s - loss: 2.0327 - accuracy: 0.2324 - val_loss: 1.9774 - val_accuracy: 0.2626 - 5s/epoch - 4ms/step\n",
            "Epoch 4/8\n",
            "1407/1407 - 5s - loss: 1.9392 - accuracy: 0.2753 - val_loss: 1.8800 - val_accuracy: 0.2978 - 5s/epoch - 3ms/step\n",
            "Epoch 5/8\n",
            "1407/1407 - 5s - loss: 1.8381 - accuracy: 0.3092 - val_loss: 1.8004 - val_accuracy: 0.3252 - 5s/epoch - 3ms/step\n",
            "Epoch 6/8\n",
            "1407/1407 - 5s - loss: 1.7678 - accuracy: 0.3330 - val_loss: 1.7499 - val_accuracy: 0.3464 - 5s/epoch - 3ms/step\n",
            "Epoch 7/8\n",
            "1407/1407 - 5s - loss: 1.7234 - accuracy: 0.3510 - val_loss: 1.6970 - val_accuracy: 0.3670 - 5s/epoch - 4ms/step\n",
            "Epoch 8/8\n",
            "1407/1407 - 5s - loss: 1.6855 - accuracy: 0.3699 - val_loss: 1.6743 - val_accuracy: 0.3694 - 5s/epoch - 4ms/step\n",
            "9 {'n_neurons_conv': 64, 'n_layers_conv': 2, 'activation': 'softmax'}\n",
            "<bound method Model.summary of <keras.engine.sequential.Sequential object at 0x7f12c23d5050>>\n",
            "Epoch 1/8\n",
            "1407/1407 - 6s - loss: 2.3029 - accuracy: 0.0986 - val_loss: 2.3031 - val_accuracy: 0.1010 - 6s/epoch - 4ms/step\n",
            "Epoch 2/8\n",
            "1407/1407 - 5s - loss: 2.2884 - accuracy: 0.1201 - val_loss: 2.1882 - val_accuracy: 0.1858 - 5s/epoch - 4ms/step\n",
            "Epoch 3/8\n",
            "1407/1407 - 5s - loss: 2.1042 - accuracy: 0.1912 - val_loss: 2.0434 - val_accuracy: 0.2128 - 5s/epoch - 4ms/step\n",
            "Epoch 4/8\n",
            "1407/1407 - 5s - loss: 2.0270 - accuracy: 0.2235 - val_loss: 1.9709 - val_accuracy: 0.2454 - 5s/epoch - 4ms/step\n",
            "Epoch 5/8\n",
            "1407/1407 - 5s - loss: 1.9430 - accuracy: 0.2542 - val_loss: 1.8835 - val_accuracy: 0.2738 - 5s/epoch - 4ms/step\n",
            "Epoch 6/8\n",
            "1407/1407 - 6s - loss: 1.8656 - accuracy: 0.2921 - val_loss: 1.8112 - val_accuracy: 0.3232 - 6s/epoch - 4ms/step\n",
            "Epoch 7/8\n",
            "1407/1407 - 5s - loss: 1.7809 - accuracy: 0.3312 - val_loss: 1.7564 - val_accuracy: 0.3334 - 5s/epoch - 4ms/step\n",
            "Epoch 8/8\n",
            "1407/1407 - 6s - loss: 1.7152 - accuracy: 0.3510 - val_loss: 1.6881 - val_accuracy: 0.3642 - 6s/epoch - 4ms/step\n",
            "10 {'n_neurons_conv': 32, 'n_layers_conv': 3, 'activation': 'softmax'}\n",
            "<bound method Model.summary of <keras.engine.sequential.Sequential object at 0x7f12c2223dd0>>\n",
            "Epoch 1/8\n",
            "1407/1407 - 6s - loss: 2.3029 - accuracy: 0.0999 - val_loss: 2.3030 - val_accuracy: 0.0976 - 6s/epoch - 4ms/step\n",
            "Epoch 2/8\n",
            "1407/1407 - 5s - loss: 2.3029 - accuracy: 0.0978 - val_loss: 2.3029 - val_accuracy: 0.1040 - 5s/epoch - 4ms/step\n",
            "Epoch 3/8\n",
            "1407/1407 - 5s - loss: 2.3029 - accuracy: 0.1023 - val_loss: 2.3025 - val_accuracy: 0.1038 - 5s/epoch - 4ms/step\n",
            "Epoch 4/8\n",
            "1407/1407 - 5s - loss: 2.3030 - accuracy: 0.0984 - val_loss: 2.3028 - val_accuracy: 0.1038 - 5s/epoch - 4ms/step\n",
            "Epoch 5/8\n",
            "1407/1407 - 5s - loss: 2.3029 - accuracy: 0.0993 - val_loss: 2.3036 - val_accuracy: 0.0996 - 5s/epoch - 4ms/step\n",
            "Epoch 6/8\n",
            "1407/1407 - 5s - loss: 2.3029 - accuracy: 0.0976 - val_loss: 2.3033 - val_accuracy: 0.0972 - 5s/epoch - 4ms/step\n",
            "Epoch 7/8\n",
            "1407/1407 - 5s - loss: 2.3030 - accuracy: 0.0974 - val_loss: 2.3033 - val_accuracy: 0.0920 - 5s/epoch - 4ms/step\n",
            "Epoch 8/8\n",
            "1407/1407 - 5s - loss: 2.3030 - accuracy: 0.0981 - val_loss: 2.3030 - val_accuracy: 0.0996 - 5s/epoch - 4ms/step\n",
            "11 {'n_neurons_conv': 64, 'n_layers_conv': 3, 'activation': 'softmax'}\n",
            "<bound method Model.summary of <keras.engine.sequential.Sequential object at 0x7f12c2071650>>\n",
            "Epoch 1/8\n",
            "1407/1407 - 7s - loss: 2.3029 - accuracy: 0.1008 - val_loss: 2.3032 - val_accuracy: 0.0976 - 7s/epoch - 5ms/step\n",
            "Epoch 2/8\n",
            "1407/1407 - 6s - loss: 2.3029 - accuracy: 0.0992 - val_loss: 2.3031 - val_accuracy: 0.0996 - 6s/epoch - 4ms/step\n",
            "Epoch 3/8\n",
            "1407/1407 - 6s - loss: 2.3029 - accuracy: 0.0992 - val_loss: 2.3031 - val_accuracy: 0.0976 - 6s/epoch - 4ms/step\n",
            "Epoch 4/8\n",
            "1407/1407 - 6s - loss: 2.3029 - accuracy: 0.0993 - val_loss: 2.3033 - val_accuracy: 0.0976 - 6s/epoch - 4ms/step\n",
            "Epoch 5/8\n",
            "1407/1407 - 6s - loss: 2.3030 - accuracy: 0.0984 - val_loss: 2.3027 - val_accuracy: 0.1038 - 6s/epoch - 4ms/step\n",
            "Epoch 6/8\n",
            "1407/1407 - 6s - loss: 2.3030 - accuracy: 0.0981 - val_loss: 2.3028 - val_accuracy: 0.0996 - 6s/epoch - 4ms/step\n",
            "Epoch 7/8\n",
            "1407/1407 - 6s - loss: 2.3029 - accuracy: 0.1003 - val_loss: 2.3029 - val_accuracy: 0.0920 - 6s/epoch - 4ms/step\n",
            "Epoch 8/8\n",
            "1407/1407 - 6s - loss: 2.3029 - accuracy: 0.0984 - val_loss: 2.3034 - val_accuracy: 0.0920 - 6s/epoch - 4ms/step\n"
          ]
        }
      ]
    },
    {
      "cell_type": "code",
      "source": [
        "out"
      ],
      "metadata": {
        "colab": {
          "base_uri": "https://localhost:8080/"
        },
        "id": "hGvrB0F0X6Vn",
        "outputId": "cdb1d0be-624a-469e-f8de-b1066be179f1"
      },
      "execution_count": 10,
      "outputs": [
        {
          "output_type": "execute_result",
          "data": {
            "text/plain": [
              "array([[0.97224814, 0.        , 0.67400002],\n",
              "       [0.93090606, 0.        , 0.68540001],\n",
              "       [0.98812723, 1.        , 0.65359998],\n",
              "       [0.87577814, 1.        , 0.69739997],\n",
              "       [2.30269575, 0.        , 0.1038    ],\n",
              "       [2.30290246, 0.        , 0.104     ],\n",
              "       [1.4826169 , 1.        , 0.46039999],\n",
              "       [2.30262995, 1.        , 0.0996    ],\n",
              "       [1.67432988, 0.        , 0.36939999],\n",
              "       [1.68813181, 0.        , 0.3642    ],\n",
              "       [2.30253935, 1.        , 0.104     ],\n",
              "       [2.30265641, 1.        , 0.1038    ]])"
            ]
          },
          "metadata": {},
          "execution_count": 10
        }
      ]
    },
    {
      "cell_type": "code",
      "source": [
        "# params_ = out[0]\n",
        "# print(out)\n",
        "\n",
        "params_ = {'n_neurons_conv': 64, 'n_layers_conv': 3, 'activation': 'relu'}\n",
        "\n",
        "model = keras.models.Sequential()\n",
        "model.add(keras.Input(shape=X_train.shape[1:]))\n",
        "for _ in range(params_['n_layers_conv']-1):\n",
        "  model.add(keras.layers.Conv2D(params_['n_neurons_conv'], (3, 3), activation=params_['activation']))\n",
        "  model.add(keras.layers.MaxPooling2D((2, 2)))\n",
        "model.add(keras.layers.Conv2D(params_['n_neurons_conv'], (3, 3), activation=params_['activation']))\n",
        "model.add(keras.layers.Flatten())\n",
        "for _ in range(params_['n_layers_conv']):\n",
        "  model.add(keras.layers.Dense(params_['n_neurons_conv'], activation=params_['activation']))\n",
        "model.add(keras.layers.Dense(10))\n",
        "# model.summary\n",
        "\n",
        "model.compile(loss=tf.keras.losses.SparseCategoricalCrossentropy(from_logits=True), optimizer='adam', metrics=['accuracy'])\n",
        "\n",
        "history = model.fit(X_train, y_train, epochs=15, validation_data=(X_valid, y_valid), verbose=2)"
      ],
      "metadata": {
        "colab": {
          "base_uri": "https://localhost:8080/"
        },
        "id": "B5miSpSFGWqV",
        "outputId": "84af341f-c2c7-4284-e838-7d920e879ef7"
      },
      "execution_count": 14,
      "outputs": [
        {
          "output_type": "stream",
          "name": "stdout",
          "text": [
            "Epoch 1/15\n",
            "1407/1407 - 7s - loss: 1.6173 - accuracy: 0.3998 - val_loss: 1.3284 - val_accuracy: 0.5304 - 7s/epoch - 5ms/step\n",
            "Epoch 2/15\n",
            "1407/1407 - 6s - loss: 1.2188 - accuracy: 0.5631 - val_loss: 1.2099 - val_accuracy: 0.5758 - 6s/epoch - 4ms/step\n",
            "Epoch 3/15\n",
            "1407/1407 - 6s - loss: 1.0459 - accuracy: 0.6320 - val_loss: 1.0210 - val_accuracy: 0.6440 - 6s/epoch - 4ms/step\n",
            "Epoch 4/15\n",
            "1407/1407 - 5s - loss: 0.9498 - accuracy: 0.6640 - val_loss: 0.9819 - val_accuracy: 0.6622 - 5s/epoch - 4ms/step\n",
            "Epoch 5/15\n",
            "1407/1407 - 6s - loss: 0.8727 - accuracy: 0.6933 - val_loss: 0.9472 - val_accuracy: 0.6798 - 6s/epoch - 4ms/step\n",
            "Epoch 6/15\n",
            "1407/1407 - 6s - loss: 0.8106 - accuracy: 0.7185 - val_loss: 0.8964 - val_accuracy: 0.6934 - 6s/epoch - 4ms/step\n",
            "Epoch 7/15\n",
            "1407/1407 - 6s - loss: 0.7641 - accuracy: 0.7315 - val_loss: 0.9069 - val_accuracy: 0.6930 - 6s/epoch - 4ms/step\n",
            "Epoch 8/15\n",
            "1407/1407 - 5s - loss: 0.7138 - accuracy: 0.7495 - val_loss: 0.8561 - val_accuracy: 0.7046 - 5s/epoch - 4ms/step\n",
            "Epoch 9/15\n",
            "1407/1407 - 5s - loss: 0.6847 - accuracy: 0.7599 - val_loss: 0.9044 - val_accuracy: 0.6954 - 5s/epoch - 4ms/step\n",
            "Epoch 10/15\n",
            "1407/1407 - 5s - loss: 0.6482 - accuracy: 0.7738 - val_loss: 0.9201 - val_accuracy: 0.6882 - 5s/epoch - 4ms/step\n",
            "Epoch 11/15\n",
            "1407/1407 - 6s - loss: 0.6139 - accuracy: 0.7845 - val_loss: 0.8806 - val_accuracy: 0.7022 - 6s/epoch - 4ms/step\n",
            "Epoch 12/15\n",
            "1407/1407 - 6s - loss: 0.5825 - accuracy: 0.7948 - val_loss: 0.9103 - val_accuracy: 0.7036 - 6s/epoch - 4ms/step\n",
            "Epoch 13/15\n",
            "1407/1407 - 5s - loss: 0.5540 - accuracy: 0.8043 - val_loss: 0.8993 - val_accuracy: 0.7116 - 5s/epoch - 4ms/step\n",
            "Epoch 14/15\n",
            "1407/1407 - 5s - loss: 0.5288 - accuracy: 0.8143 - val_loss: 0.9099 - val_accuracy: 0.7034 - 5s/epoch - 4ms/step\n",
            "Epoch 15/15\n",
            "1407/1407 - 6s - loss: 0.5003 - accuracy: 0.8236 - val_loss: 0.9235 - val_accuracy: 0.7078 - 6s/epoch - 4ms/step\n"
          ]
        }
      ]
    },
    {
      "cell_type": "code",
      "source": [
        "plt.figure(figsize=(10,7))\n",
        "plt.plot(history.history['accuracy'])\n",
        "plt.plot(history.history['val_accuracy'])\n",
        "plt.title('model accuracy')\n",
        "plt.ylabel('loss')\n",
        "plt.xlabel('epoch')\n",
        "plt.yscale('log')\n",
        "plt.legend(['train', 'valid'], loc='upper left')\n",
        "plt.show()"
      ],
      "metadata": {
        "colab": {
          "base_uri": "https://localhost:8080/",
          "height": 464
        },
        "id": "Yd73rb4rGnO3",
        "outputId": "5bfb7ec1-959c-4c65-93c5-c27eed65587a"
      },
      "execution_count": 17,
      "outputs": [
        {
          "output_type": "display_data",
          "data": {
            "text/plain": [
              "<Figure size 720x504 with 1 Axes>"
            ],
            "image/png": "[encoded data removed]"
          },
          "metadata": {
            "needs_background": "light"
          }
        }
      ]
    },
    {
      "cell_type": "code",
      "source": [
        "plt.figure(figsize=(10,7))\n",
        "plt.plot(history.history['loss'])\n",
        "plt.plot(history.history['val_loss'])\n",
        "plt.title('model loss')\n",
        "plt.ylabel('loss')\n",
        "plt.xlabel('epoch')\n",
        "plt.yscale('log')\n",
        "plt.legend(['train', 'valid'], loc='upper left')\n",
        "plt.show()"
      ],
      "metadata": {
        "colab": {
          "base_uri": "https://localhost:8080/",
          "height": 464
        },
        "id": "T0v0nBerZnw6",
        "outputId": "1ee135f2-01cc-4cc1-c997-2b7103816fb4"
      },
      "execution_count": 18,
      "outputs": [
        {
          "output_type": "display_data",
          "data": {
            "text/plain": [
              "<Figure size 720x504 with 1 Axes>"
            ],
            "image/png": "[encoded data removed]"
          },
          "metadata": {
            "needs_background": "light"
          }
        }
      ]
    },
    {
      "cell_type": "code",
      "source": [
        "model.evaluate(X_test, y_test)"
      ],
      "metadata": {
        "colab": {
          "base_uri": "https://localhost:8080/"
        },
        "id": "fA9MRA37ajNP",
        "outputId": "45d6ff21-6519-4df3-edd2-ba90403130ea"
      },
      "execution_count": 19,
      "outputs": [
        {
          "output_type": "stream",
          "name": "stdout",
          "text": [
            "313/313 [==============================] - 1s 4ms/step - loss: 0.9669 - accuracy: 0.6999\n"
          ]
        },
        {
          "output_type": "execute_result",
          "data": {
            "text/plain": [
              "[0.9669035077095032, 0.6998999714851379]"
            ]
          },
          "metadata": {},
          "execution_count": 19
        }
      ]
    },
    {
      "cell_type": "markdown",
      "source": [
        "Получили 70% на тестовой выборке. Наилучшими параметрами в результате оказались {'n_neurons_conv': 64, 'n_layers_conv': 3, 'activation': 'relu'}. Для такого рода задач не подходят 'softmax' и 'sigmoid'. В результате экспериментов они не набирали и 50%. Полносвязная нейронная сеть плохо себя показала в такой задаче. Это может быть связано с большим кол-вом входных данных"
      ],
      "metadata": {
        "id": "GmOsbbHNatWJ"
      }
    }
  ],
  "metadata": {
    "accelerator": "GPU",
    "colab": {
      "provenance": [],
      "collapsed_sections": []
    },
    "kernelspec": {
      "display_name": "Python 3.8.10 64-bit (microsoft store)",
      "language": "python",
      "name": "python3"
    },
    "language_info": {
      "codemirror_mode": {
        "name": "ipython",
        "version": 3
      },
      "file_extension": ".py",
      "mimetype": "text/x-python",
      "name": "python",
      "nbconvert_exporter": "python",
      "pygments_lexer": "ipython3",
      "version": "3.8.10"
    },
    "vscode": {
      "interpreter": {
        "hash": "41fc388e4a8728efc1b0380f965aa1f6ef12e829823cfab7a874823d70a39179"
      }
    },
    "gpuClass": "standard"
  },
  "nbformat": 4,
  "nbformat_minor": 0
}