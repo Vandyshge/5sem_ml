{
  "cells": [
    {
      "cell_type": "markdown",
      "metadata": {
        "id": "4DPxbJYoLT4W"
      },
      "source": [
        "## Импортируем нужные библиотеки"
      ]
    },
    {
      "cell_type": "code",
      "execution_count": null,
      "metadata": {
        "id": "D9T2vvQg-dof"
      },
      "outputs": [],
      "source": [
        "import numpy as np\n",
        "import matplotlib.pyplot as plt\n",
        "import matplotlib\n",
        "from sklearn.metrics import mean_squared_error as mse\n",
        "from sklearn.linear_model import LinearRegression, SGDRegressor\n",
        "from sklearn.model_selection import train_test_split"
      ]
    },
    {
      "cell_type": "markdown",
      "metadata": {
        "id": "JX_x0MnSLT4e"
      },
      "source": [
        "## Создаем и визуализируем данные"
      ]
    },
    {
      "cell_type": "code",
      "execution_count": null,
      "metadata": {
        "id": "PPw4twYo-dok"
      },
      "outputs": [],
      "source": [
        "num=40\n",
        "X = np.random.randn(num,1)\n",
        "Y = 2 + X + 2*X**2 + np.random.randn(num,1)"
      ]
    },
    {
      "cell_type": "code",
      "execution_count": null,
      "metadata": {
        "colab": {
          "base_uri": "https://localhost:8080/",
          "height": 283
        },
        "id": "UYA0VleD-dol",
        "outputId": "79d64667-0df1-490a-c232-20a38252205c"
      },
      "outputs": [
        {
          "data": {
            "image/png": "[encoded data removed]",
            "text/plain": [
              "<Figure size 576x432 with 1 Axes>"
            ]
          },
          "metadata": {
            "needs_background": "light"
          },
          "output_type": "display_data"
        }
      ],
      "source": [
        "fig = plt.figure(figsize=(8,6))\n",
        "plt.plot(X, Y, 'ob')\n",
        "plt.xlabel('Feature')\n",
        "plt.ylabel('Target')\n",
        "plt.show()"
      ]
    },
    {
      "cell_type": "markdown",
      "metadata": {
        "id": "w9u7oMycLT4j"
      },
      "source": [
        "## Обучаем алгоритм линейной регрессии"
      ]
    },
    {
      "cell_type": "code",
      "execution_count": null,
      "metadata": {
        "id": "JporssMj-dop"
      },
      "outputs": [],
      "source": [
        "# Метод нормального уравнения\n",
        "lr = LinearRegression()\n",
        "lr.fit(X,Y)\n",
        "ypred = lr.predict(X)"
      ]
    },
    {
      "cell_type": "code",
      "execution_count": null,
      "metadata": {
        "colab": {
          "base_uri": "https://localhost:8080/"
        },
        "id": "5Cj0RPdq-dor",
        "outputId": "63cdf8ec-47ab-4575-b45f-d8ec7ec2f7f5"
      },
      "outputs": [
        {
          "data": {
            "text/plain": [
              "(array([4.31675899]), array([[1.59352715]]))"
            ]
          },
          "execution_count": 5,
          "metadata": {},
          "output_type": "execute_result"
        }
      ],
      "source": [
        "lr.intercept_, lr.coef_"
      ]
    },
    {
      "cell_type": "code",
      "execution_count": null,
      "metadata": {
        "colab": {
          "base_uri": "https://localhost:8080/",
          "height": 265
        },
        "id": "Jh2_EQkl-dos",
        "outputId": "bcc4ccf4-edb2-4e3c-f855-64d07bd28382"
      },
      "outputs": [
        {
          "data": {
            "image/png": "[encoded data removed]",
            "text/plain": [
              "<Figure size 576x432 with 1 Axes>"
            ]
          },
          "metadata": {
            "needs_background": "light"
          },
          "output_type": "display_data"
        }
      ],
      "source": [
        "fig = plt.figure(figsize=(8,6))\n",
        "plt.plot(X, Y, '*b')\n",
        "plt.plot(X, ypred, '-r')\n",
        "plt.xlabel('Feature')\n",
        "plt.ylabel('Target')\n",
        "plt.show()"
      ]
    },
    {
      "cell_type": "code",
      "execution_count": null,
      "metadata": {
        "scrolled": true,
        "id": "9Iopw-g3LT4p",
        "outputId": "88f36f6f-fce4-4e32-a0ed-82841b0ada48"
      },
      "outputs": [
        {
          "name": "stdout",
          "output_type": "stream",
          "text": [
            "-- Epoch 1\n",
            "Norm: 0.36, NNZs: 1, Bias: 0.784085, T: 40, Avg. loss: 13.130524\n",
            "Total training time: 0.00 seconds.\n",
            "-- Epoch 2\n",
            "Norm: 0.55, NNZs: 1, Bias: 1.258033, T: 80, Avg. loss: 10.541295\n",
            "Total training time: 0.01 seconds.\n",
            "-- Epoch 3\n",
            "Norm: 0.69, NNZs: 1, Bias: 1.624423, T: 120, Avg. loss: 9.040470\n",
            "Total training time: 0.01 seconds.\n",
            "-- Epoch 4\n",
            "Norm: 0.80, NNZs: 1, Bias: 1.920239, T: 160, Avg. loss: 8.000581\n",
            "Total training time: 0.01 seconds.\n",
            "-- Epoch 5\n",
            "Norm: 0.89, NNZs: 1, Bias: 2.167343, T: 200, Avg. loss: 7.249209\n",
            "Total training time: 0.01 seconds.\n",
            "-- Epoch 6\n",
            "Norm: 0.97, NNZs: 1, Bias: 2.378583, T: 240, Avg. loss: 6.680382\n",
            "Total training time: 0.02 seconds.\n",
            "-- Epoch 7\n",
            "Norm: 1.04, NNZs: 1, Bias: 2.561450, T: 280, Avg. loss: 6.241770\n",
            "Total training time: 0.02 seconds.\n",
            "-- Epoch 8\n",
            "Norm: 1.09, NNZs: 1, Bias: 2.721361, T: 320, Avg. loss: 5.896662\n",
            "Total training time: 0.02 seconds.\n",
            "-- Epoch 9\n",
            "Norm: 1.15, NNZs: 1, Bias: 2.863332, T: 360, Avg. loss: 5.620903\n",
            "Total training time: 0.02 seconds.\n",
            "-- Epoch 10\n",
            "Norm: 1.19, NNZs: 1, Bias: 2.988727, T: 400, Avg. loss: 5.399416\n",
            "Total training time: 0.02 seconds.\n",
            "-- Epoch 11\n",
            "Norm: 1.23, NNZs: 1, Bias: 3.102387, T: 440, Avg. loss: 5.218059\n",
            "Total training time: 0.02 seconds.\n",
            "-- Epoch 12\n",
            "Norm: 1.27, NNZs: 1, Bias: 3.202588, T: 480, Avg. loss: 5.070615\n",
            "Total training time: 0.03 seconds.\n",
            "-- Epoch 13\n",
            "Norm: 1.29, NNZs: 1, Bias: 3.294076, T: 520, Avg. loss: 4.950025\n",
            "Total training time: 0.03 seconds.\n",
            "-- Epoch 14\n",
            "Norm: 1.32, NNZs: 1, Bias: 3.375898, T: 560, Avg. loss: 4.849980\n",
            "Total training time: 0.04 seconds.\n",
            "-- Epoch 15\n",
            "Norm: 1.34, NNZs: 1, Bias: 3.450095, T: 600, Avg. loss: 4.768647\n",
            "Total training time: 0.04 seconds.\n",
            "-- Epoch 16\n",
            "Norm: 1.36, NNZs: 1, Bias: 3.517926, T: 640, Avg. loss: 4.699453\n",
            "Total training time: 0.04 seconds.\n",
            "-- Epoch 17\n",
            "Norm: 1.38, NNZs: 1, Bias: 3.578411, T: 680, Avg. loss: 4.642034\n",
            "Total training time: 0.04 seconds.\n",
            "-- Epoch 18\n",
            "Norm: 1.40, NNZs: 1, Bias: 3.634963, T: 720, Avg. loss: 4.593687\n",
            "Total training time: 0.04 seconds.\n",
            "-- Epoch 19\n",
            "Norm: 1.41, NNZs: 1, Bias: 3.684909, T: 760, Avg. loss: 4.552597\n",
            "Total training time: 0.05 seconds.\n",
            "-- Epoch 20\n",
            "Norm: 1.43, NNZs: 1, Bias: 3.730213, T: 800, Avg. loss: 4.518449\n",
            "Total training time: 0.05 seconds.\n",
            "-- Epoch 21\n",
            "Norm: 1.44, NNZs: 1, Bias: 3.772893, T: 840, Avg. loss: 4.489553\n",
            "Total training time: 0.05 seconds.\n",
            "-- Epoch 22\n",
            "Norm: 1.46, NNZs: 1, Bias: 3.810348, T: 880, Avg. loss: 4.463589\n",
            "Total training time: 0.05 seconds.\n",
            "-- Epoch 23\n",
            "Norm: 1.47, NNZs: 1, Bias: 3.846040, T: 920, Avg. loss: 4.442885\n",
            "Total training time: 0.05 seconds.\n",
            "-- Epoch 24\n",
            "Norm: 1.48, NNZs: 1, Bias: 3.879196, T: 960, Avg. loss: 4.424599\n",
            "Total training time: 0.06 seconds.\n",
            "-- Epoch 25\n",
            "Norm: 1.49, NNZs: 1, Bias: 3.908529, T: 1000, Avg. loss: 4.409021\n",
            "Total training time: 0.06 seconds.\n",
            "-- Epoch 26\n",
            "Norm: 1.50, NNZs: 1, Bias: 3.937746, T: 1040, Avg. loss: 4.395627\n",
            "Total training time: 0.06 seconds.\n",
            "-- Epoch 27\n",
            "Norm: 1.51, NNZs: 1, Bias: 3.964022, T: 1080, Avg. loss: 4.383821\n",
            "Total training time: 0.06 seconds.\n",
            "-- Epoch 28\n",
            "Norm: 1.51, NNZs: 1, Bias: 3.988476, T: 1120, Avg. loss: 4.373214\n",
            "Total training time: 0.06 seconds.\n",
            "-- Epoch 29\n",
            "Norm: 1.52, NNZs: 1, Bias: 4.010970, T: 1160, Avg. loss: 4.365093\n",
            "Total training time: 0.06 seconds.\n",
            "-- Epoch 30\n",
            "Norm: 1.52, NNZs: 1, Bias: 4.031314, T: 1200, Avg. loss: 4.357530\n",
            "Total training time: 0.06 seconds.\n",
            "-- Epoch 31\n",
            "Norm: 1.52, NNZs: 1, Bias: 4.050239, T: 1240, Avg. loss: 4.350950\n",
            "Total training time: 0.06 seconds.\n",
            "-- Epoch 32\n",
            "Norm: 1.53, NNZs: 1, Bias: 4.067415, T: 1280, Avg. loss: 4.345677\n",
            "Total training time: 0.06 seconds.\n",
            "-- Epoch 33\n",
            "Norm: 1.53, NNZs: 1, Bias: 4.083988, T: 1320, Avg. loss: 4.340755\n",
            "Total training time: 0.07 seconds.\n",
            "-- Epoch 34\n",
            "Norm: 1.54, NNZs: 1, Bias: 4.099144, T: 1360, Avg. loss: 4.336597\n",
            "Total training time: 0.07 seconds.\n",
            "-- Epoch 35\n",
            "Norm: 1.54, NNZs: 1, Bias: 4.113002, T: 1400, Avg. loss: 4.333013\n",
            "Total training time: 0.07 seconds.\n",
            "-- Epoch 36\n",
            "Norm: 1.55, NNZs: 1, Bias: 4.125997, T: 1440, Avg. loss: 4.329080\n",
            "Total training time: 0.07 seconds.\n",
            "-- Epoch 37\n",
            "Norm: 1.55, NNZs: 1, Bias: 4.137655, T: 1480, Avg. loss: 4.326156\n",
            "Total training time: 0.07 seconds.\n",
            "-- Epoch 38\n",
            "Norm: 1.56, NNZs: 1, Bias: 4.148449, T: 1520, Avg. loss: 4.324192\n",
            "Total training time: 0.07 seconds.\n",
            "-- Epoch 39\n",
            "Norm: 1.56, NNZs: 1, Bias: 4.159023, T: 1560, Avg. loss: 4.322144\n",
            "Total training time: 0.07 seconds.\n",
            "-- Epoch 40\n",
            "Norm: 1.56, NNZs: 1, Bias: 4.168700, T: 1600, Avg. loss: 4.320101\n",
            "Total training time: 0.07 seconds.\n",
            "-- Epoch 41\n",
            "Norm: 1.57, NNZs: 1, Bias: 4.178751, T: 1640, Avg. loss: 4.318317\n",
            "Total training time: 0.08 seconds.\n",
            "-- Epoch 42\n",
            "Norm: 1.57, NNZs: 1, Bias: 4.186749, T: 1680, Avg. loss: 4.316813\n",
            "Total training time: 0.08 seconds.\n",
            "-- Epoch 43\n",
            "Norm: 1.57, NNZs: 1, Bias: 4.195889, T: 1720, Avg. loss: 4.315286\n",
            "Total training time: 0.08 seconds.\n",
            "-- Epoch 44\n",
            "Norm: 1.57, NNZs: 1, Bias: 4.203115, T: 1760, Avg. loss: 4.314198\n",
            "Total training time: 0.08 seconds.\n",
            "-- Epoch 45\n",
            "Norm: 1.57, NNZs: 1, Bias: 4.209949, T: 1800, Avg. loss: 4.312867\n",
            "Total training time: 0.08 seconds.\n",
            "-- Epoch 46\n",
            "Norm: 1.57, NNZs: 1, Bias: 4.217121, T: 1840, Avg. loss: 4.312005\n",
            "Total training time: 0.08 seconds.\n",
            "-- Epoch 47\n",
            "Norm: 1.57, NNZs: 1, Bias: 4.222591, T: 1880, Avg. loss: 4.311416\n",
            "Total training time: 0.08 seconds.\n",
            "-- Epoch 48\n",
            "Norm: 1.57, NNZs: 1, Bias: 4.228876, T: 1920, Avg. loss: 4.310639\n",
            "Total training time: 0.08 seconds.\n",
            "-- Epoch 49\n",
            "Norm: 1.58, NNZs: 1, Bias: 4.234281, T: 1960, Avg. loss: 4.309838\n",
            "Total training time: 0.08 seconds.\n",
            "-- Epoch 50\n",
            "Norm: 1.58, NNZs: 1, Bias: 4.238417, T: 2000, Avg. loss: 4.309342\n",
            "Total training time: 0.09 seconds.\n",
            "Convergence after 50 epochs took 0.09 seconds\n"
          ]
        },
        {
          "name": "stderr",
          "output_type": "stream",
          "text": [
            "C:\\Users\\Xiaomi\\AppData\\Local\\Packages\\PythonSoftwareFoundation.Python.3.8_qbz5n2kfra8p0\\LocalCache\\local-packages\\Python38\\site-packages\\sklearn\\utils\\validation.py:1111: DataConversionWarning: A column-vector y was passed when a 1d array was expected. Please change the shape of y to (n_samples, ), for example using ravel().\n",
            "  y = column_or_1d(y, warn=True)\n"
          ]
        }
      ],
      "source": [
        "# Метод градиентного спуска\n",
        "sgd = SGDRegressor(verbose=1)\n",
        "sgd.fit(X,Y)\n",
        "ypred = sgd.predict(X)"
      ]
    },
    {
      "cell_type": "code",
      "execution_count": null,
      "metadata": {
        "colab": {
          "base_uri": "https://localhost:8080/",
          "height": 265
        },
        "outputId": "bcc4ccf4-edb2-4e3c-f855-64d07bd28382",
        "id": "hlYfRO8xLT4r"
      },
      "outputs": [
        {
          "data": {
            "image/png": "[encoded data removed]",
            "text/plain": [
              "<Figure size 576x432 with 1 Axes>"
            ]
          },
          "metadata": {
            "needs_background": "light"
          },
          "output_type": "display_data"
        }
      ],
      "source": [
        "fig = plt.figure(figsize=(8,6))\n",
        "plt.plot(X, Y, '*b')\n",
        "plt.plot(X, ypred, '-r')\n",
        "plt.xlabel('Feature')\n",
        "plt.ylabel('Target')\n",
        "plt.show()"
      ]
    },
    {
      "cell_type": "markdown",
      "metadata": {
        "id": "5OOcS_16LT4s"
      },
      "source": [
        "## Создадим полиномиальные признаки и проведен нормировку данных"
      ]
    },
    {
      "cell_type": "markdown",
      "metadata": {
        "id": "IRUBBolTLT4t"
      },
      "source": [
        "Проделать обучающие шаги в по теме полиномиальной регрессии в приложенном Jupyter Notebook\n",
        "\n",
        "Обучить полиномиальную регрессию для датасета Steels Kaggle и предсказать предел текучести (0.2% Proof Stress (MPa)) на основании состава и температуры. Построить зависимость предсказанного от реального значения и рассчитать ошибку (как для обучающей, так и тестовой выборок). \n",
        "\n",
        "Для случая большого числа полиномиальных признаков использовать регуляризацию. Постараться достичь минимально возможной ошибки на тестовой выборке.\n",
        "\n",
        "[*] По желанию можно использовать кросс-валидацию для расчета метрики ошибки и поиск по сетке для подбора параметров регуляризации. Также можно самостоятельно реализовать алгоритм градиентного спуска и с его помощью рассчитать ошибку."
      ]
    },
    {
      "cell_type": "code",
      "execution_count": null,
      "metadata": {
        "id": "zmF7WfgL-dou"
      },
      "outputs": [],
      "source": [
        "from sklearn.preprocessing import PolynomialFeatures, StandardScaler"
      ]
    },
    {
      "cell_type": "code",
      "execution_count": null,
      "metadata": {
        "id": "D6vGug2--dov"
      },
      "outputs": [],
      "source": [
        "#создание полиномиальных признаков\n",
        "pf = PolynomialFeatures(degree=300)\n",
        "Xpoly = pf.fit_transform(X)\n",
        "\n",
        "Xtest = np.linspace(min(X),max(X),1000).reshape(1000,1)\n",
        "Xtest_poly = pf.transform(Xtest)"
      ]
    },
    {
      "cell_type": "code",
      "execution_count": null,
      "metadata": {
        "colab": {
          "base_uri": "https://localhost:8080/"
        },
        "id": "mqq_jRE--dov",
        "outputId": "18866303-f73f-4d88-f7ad-90c5f9dcb633"
      },
      "outputs": [
        {
          "data": {
            "text/plain": [
              "((40, 1), (40, 301), (1000, 1))"
            ]
          },
          "execution_count": 9,
          "metadata": {},
          "output_type": "execute_result"
        }
      ],
      "source": [
        "X.shape, Xpoly.shape, Xtest.shape"
      ]
    },
    {
      "cell_type": "code",
      "execution_count": null,
      "metadata": {
        "id": "Eo6ZfvVdLT4w",
        "outputId": "59f0fa57-9d77-4b2a-bc69-1361c79d3415"
      },
      "outputs": [
        {
          "data": {
            "text/plain": [
              "array([[-0.22862995],\n",
              "       [-0.05808034],\n",
              "       [-0.84702513],\n",
              "       [ 1.17599538],\n",
              "       [ 0.95764115],\n",
              "       [ 0.99683919],\n",
              "       [-0.77203128],\n",
              "       [-0.39534843],\n",
              "       [-0.58452955],\n",
              "       [ 0.14026456],\n",
              "       [-0.27189292],\n",
              "       [ 0.96268703],\n",
              "       [-0.02037007],\n",
              "       [-0.69188787],\n",
              "       [-0.6199585 ],\n",
              "       [ 0.97880974],\n",
              "       [ 0.99651969],\n",
              "       [-0.79339793],\n",
              "       [-1.68824206],\n",
              "       [-1.36374148],\n",
              "       [-0.90912476],\n",
              "       [-1.54652946],\n",
              "       [ 0.15745917],\n",
              "       [ 1.1905299 ],\n",
              "       [-0.95960156],\n",
              "       [-0.40880385],\n",
              "       [-1.01301639],\n",
              "       [ 0.76469202],\n",
              "       [ 0.53704416],\n",
              "       [-1.61776269],\n",
              "       [ 0.74656959],\n",
              "       [-1.19422794],\n",
              "       [ 1.04446493],\n",
              "       [ 0.10099708],\n",
              "       [ 0.05614988],\n",
              "       [-1.14755506],\n",
              "       [ 0.59420544],\n",
              "       [-1.21518459],\n",
              "       [-0.73199347],\n",
              "       [ 1.68819987]])"
            ]
          },
          "execution_count": 10,
          "metadata": {},
          "output_type": "execute_result"
        }
      ],
      "source": [
        "X"
      ]
    },
    {
      "cell_type": "code",
      "execution_count": null,
      "metadata": {
        "id": "Sq36rHfiLT4x"
      },
      "outputs": [],
      "source": [
        "scaler = StandardScaler()\n",
        "X_scaled = scaler.fit_transform(Xpoly)\n",
        "X_test_scaled = scaler.transform(Xtest_poly)"
      ]
    },
    {
      "cell_type": "code",
      "execution_count": null,
      "metadata": {
        "colab": {
          "base_uri": "https://localhost:8080/",
          "height": 269
        },
        "id": "0mriZmSz-dow",
        "outputId": "d429b038-4280-4b26-e5a5-fb55d40a2b34"
      },
      "outputs": [
        {
          "data": {
            "image/png": "[encoded data removed]",
            "text/plain": [
              "<Figure size 576x432 with 1 Axes>"
            ]
          },
          "metadata": {
            "needs_background": "light"
          },
          "output_type": "display_data"
        }
      ],
      "source": [
        "lr = LinearRegression()\n",
        "lr.fit(X_scaled,Y)\n",
        "ypred = lr.predict(X_test_scaled)\n",
        "ytrain_pred = lr.predict(X_scaled)\n",
        "\n",
        "fig = plt.figure(figsize=(8,6))\n",
        "plt.plot(X, Y, '*b')\n",
        "plt.plot(Xtest, ypred, '-r')\n",
        "plt.xlabel('Feature')\n",
        "plt.ylabel('Target')\n",
        "plt.ylim(-2,12)\n",
        "plt.show()"
      ]
    },
    {
      "cell_type": "code",
      "execution_count": null,
      "metadata": {
        "colab": {
          "base_uri": "https://localhost:8080/"
        },
        "id": "1tE6jBCx-dow",
        "outputId": "b21b526b-0197-4901-e008-5921eb58f3b9"
      },
      "outputs": [
        {
          "data": {
            "text/plain": [
              "array([[-3.06665349e+11,  3.44448252e+01, -1.65050142e+01,\n",
              "        -8.90474214e+03,  4.72543629e+03,  9.06077637e+05,\n",
              "        -1.73452394e+03, -4.46083991e+07, -2.35002840e+07,\n",
              "         1.21231030e+09,  1.21149704e+09, -1.94405375e+10,\n",
              "        -2.76526289e+10,  1.87741584e+11,  3.42493420e+11,\n",
              "        -1.06695799e+12, -2.42040364e+12,  3.24894125e+12,\n",
              "         9.56428966e+12, -3.73661873e+12, -1.88009869e+13,\n",
              "        -2.38426553e+12,  1.10183296e+13,  2.49182960e+12,\n",
              "         9.28915700e+12,  8.13216863e+12, -3.20297193e+12,\n",
              "         2.64560125e+12, -5.36987918e+12, -6.14916065e+12,\n",
              "        -2.52607334e+12, -8.99758040e+12, -1.50648981e+12,\n",
              "        -5.91029027e+12, -2.22687981e+12, -1.28737354e+12,\n",
              "        -2.66223842e+12,  2.03672157e+12, -1.95356562e+12,\n",
              "         3.35875974e+12, -4.48433326e+11,  3.32616258e+12,\n",
              "         1.15269440e+12,  2.63865706e+12,  2.40733550e+12,\n",
              "         1.95692013e+12,  3.05462991e+12,  1.37176638e+12,\n",
              "         3.26253548e+12,  9.75341430e+11,  3.15632178e+12,\n",
              "         7.06779650e+11,  2.85386318e+12,  5.22848328e+11,\n",
              "         2.45806597e+12,  3.95933509e+11,  2.03564028e+12,\n",
              "         2.57657670e+11,  1.61067180e+12,  1.47768546e+11,\n",
              "         1.24724353e+12,  4.34124417e+10,  8.78407825e+11,\n",
              "        -8.22516226e+10,  6.04442088e+11, -1.79300250e+11,\n",
              "         3.84148784e+11, -2.68739587e+11,  1.65446848e+11,\n",
              "        -3.50068980e+11, -5.85962411e+09, -4.50102110e+11,\n",
              "        -2.02143740e+11, -5.52489882e+11, -2.95390475e+11,\n",
              "        -6.07443100e+11, -4.42824079e+11, -6.31554179e+11,\n",
              "        -5.08845004e+11, -6.94223555e+11, -5.58665047e+11,\n",
              "        -7.37351576e+11, -6.51287879e+11, -7.53145957e+11,\n",
              "        -6.93823587e+11, -8.03178224e+11, -7.34379025e+11,\n",
              "        -7.71951689e+11, -7.94514523e+11, -8.16562550e+11,\n",
              "        -7.54536090e+11, -8.03659848e+11, -7.95051753e+11,\n",
              "        -8.37083729e+11, -7.95406755e+11, -7.93685286e+11,\n",
              "        -7.91460193e+11, -8.00353256e+11, -7.78522414e+11,\n",
              "        -8.05091459e+11, -7.73479405e+11, -7.94295182e+11,\n",
              "        -7.19086055e+11, -7.48588288e+11, -7.60637928e+11,\n",
              "        -7.41525304e+11, -7.15420397e+11, -7.26656787e+11,\n",
              "        -7.15381685e+11, -7.10808593e+11, -6.68961992e+11,\n",
              "        -6.58436091e+11, -6.26755097e+11, -6.47917426e+11,\n",
              "        -6.23243209e+11, -6.30741894e+11, -6.00468358e+11,\n",
              "        -6.11749447e+11, -5.63777948e+11, -5.70079107e+11,\n",
              "        -5.79244326e+11, -5.23881647e+11, -5.24685970e+11,\n",
              "        -5.19637980e+11, -4.97351181e+11, -4.53841386e+11,\n",
              "        -4.69209039e+11, -4.69127311e+11, -4.31644354e+11,\n",
              "        -3.99988043e+11, -4.14290051e+11, -3.60746472e+11,\n",
              "        -4.17397238e+11, -3.71819586e+11, -3.51744401e+11,\n",
              "        -3.63868830e+11, -3.66279630e+11, -3.07512795e+11,\n",
              "        -3.13135391e+11, -2.83450407e+11, -2.80195676e+11,\n",
              "        -2.49238803e+11, -2.68317015e+11, -2.17313463e+11,\n",
              "        -2.07624699e+11, -2.44417835e+11, -2.08415672e+11,\n",
              "        -2.04461987e+11, -2.21395951e+11, -1.91284477e+11,\n",
              "        -1.65945102e+11, -1.88391265e+11, -1.57684215e+11,\n",
              "        -1.45190652e+11, -1.64604957e+11, -9.34471792e+10,\n",
              "        -9.81565164e+10, -1.20733772e+11, -7.18763081e+10,\n",
              "        -9.39654159e+10, -5.91560367e+10, -7.52295167e+10,\n",
              "        -8.56146852e+10, -4.67280130e+10, -5.27761266e+10,\n",
              "        -4.64806864e+10, -2.11447261e+10, -1.82350257e+10,\n",
              "        -2.30058322e+10, -9.32032974e+09, -1.67433569e+10,\n",
              "         1.17837871e+10,  4.22318700e+10,  4.75394265e+10,\n",
              "         1.29636062e+10,  4.36051624e+10,  5.49637055e+10,\n",
              "         2.82290320e+10,  2.82190856e+10,  6.64185490e+10,\n",
              "         3.37314436e+10,  8.18699406e+10,  8.40669391e+10,\n",
              "         1.05059706e+11,  9.49105436e+10,  1.05794206e+11,\n",
              "         7.88558427e+10,  1.07986049e+11,  6.22129319e+10,\n",
              "         1.23634813e+11,  1.15232801e+11,  9.86342911e+10,\n",
              "         1.36883067e+11,  1.48304756e+11,  1.33225585e+11,\n",
              "         1.36843879e+11,  1.15625369e+11,  1.23856070e+11,\n",
              "         1.63152224e+11,  1.25599058e+11,  1.46724923e+11,\n",
              "         1.71360908e+11,  1.73047875e+11,  1.63893291e+11,\n",
              "         1.75101844e+11,  1.78568351e+11,  1.91113149e+11,\n",
              "         2.00167118e+11,  1.97114378e+11,  1.42962291e+11,\n",
              "         2.16350717e+11,  2.03735540e+11,  1.96584044e+11,\n",
              "         1.72393668e+11,  1.98989476e+11,  1.86578261e+11,\n",
              "         2.07110339e+11,  2.21047685e+11,  2.13274945e+11,\n",
              "         1.89693314e+11,  2.18132126e+11,  2.35895988e+11,\n",
              "         2.17832553e+11,  2.31531406e+11,  2.34936554e+11,\n",
              "         2.35157853e+11,  2.37038936e+11,  2.35564236e+11,\n",
              "         2.00745192e+11,  1.95852583e+11,  2.21748781e+11,\n",
              "         2.27439827e+11,  2.52715004e+11,  2.50566674e+11,\n",
              "         2.37368537e+11,  2.45422586e+11,  2.25881161e+11,\n",
              "         2.60213701e+11,  2.44964738e+11,  2.31169396e+11,\n",
              "         2.63844497e+11,  2.15075391e+11,  2.63336440e+11,\n",
              "         2.33059711e+11,  2.38362069e+11,  2.21770807e+11,\n",
              "         2.62945372e+11,  2.39063616e+11,  2.70424590e+11,\n",
              "         2.70324314e+11,  2.27681493e+11,  2.57866786e+11,\n",
              "         2.81133241e+11,  2.32401002e+11,  2.70169880e+11,\n",
              "         2.68595786e+11,  2.40344185e+11,  2.73466339e+11,\n",
              "         2.75296527e+11,  2.62090515e+11,  2.88585808e+11,\n",
              "         2.77567827e+11,  2.37492534e+11,  2.88572671e+11,\n",
              "         2.69868294e+11,  2.48694873e+11,  2.72163536e+11,\n",
              "         2.51624118e+11,  2.57519183e+11,  2.57343062e+11,\n",
              "         2.73472351e+11,  2.60077163e+11,  2.45928372e+11,\n",
              "         2.42457296e+11,  2.81214278e+11,  2.64991712e+11,\n",
              "         2.91347002e+11,  2.70192101e+11,  2.55521050e+11,\n",
              "         2.66325390e+11,  2.69835159e+11,  2.86135843e+11,\n",
              "         2.96042868e+11,  2.69495138e+11,  2.97180975e+11,\n",
              "         2.75854104e+11,  2.62992830e+11,  3.02042735e+11,\n",
              "         2.92748014e+11,  2.85799663e+11,  3.01509390e+11,\n",
              "         2.61125866e+11,  2.79250249e+11,  3.05003853e+11,\n",
              "         2.55167751e+11,  2.75873088e+11,  2.63695229e+11,\n",
              "         2.64790428e+11,  2.68645636e+11,  2.74884320e+11,\n",
              "         2.85431407e+11]])"
            ]
          },
          "execution_count": 29,
          "metadata": {},
          "output_type": "execute_result"
        }
      ],
      "source": [
        "lr.coef_"
      ]
    },
    {
      "cell_type": "markdown",
      "metadata": {
        "id": "S8G3M9DcLT4z"
      },
      "source": [
        "## Обучение моделей с регуляризацией"
      ]
    },
    {
      "cell_type": "code",
      "execution_count": null,
      "metadata": {
        "id": "GCtwVByQ-dox"
      },
      "outputs": [],
      "source": [
        "from sklearn.linear_model import Ridge, Lasso, ElasticNet, RidgeCV, LassoCV, ElasticNetCV"
      ]
    },
    {
      "cell_type": "code",
      "execution_count": null,
      "metadata": {
        "id": "7w7tdQXG-dox"
      },
      "outputs": [],
      "source": [
        "ridge = Ridge(alpha=1)"
      ]
    },
    {
      "cell_type": "code",
      "execution_count": null,
      "metadata": {
        "colab": {
          "base_uri": "https://localhost:8080/",
          "height": 433
        },
        "id": "y4dr53u6-dox",
        "outputId": "a73d2330-2f05-47a7-a326-19f2f86a4ea7"
      },
      "outputs": [
        {
          "data": {
            "image/png": "[encoded data removed]",
            "text/plain": [
              "<Figure size 576x432 with 1 Axes>"
            ]
          },
          "metadata": {
            "needs_background": "light"
          },
          "output_type": "display_data"
        }
      ],
      "source": [
        "ridge.fit(X_scaled,Y)\n",
        "ypred = ridge.predict(X_test_scaled)\n",
        "ytrain_pred = ridge.predict(X_scaled)\n",
        "\n",
        "fig = plt.figure(figsize=(8,6))\n",
        "plt.plot(X, Y, '*b')\n",
        "plt.plot(Xtest, ypred, '-r')\n",
        "#plt.plot(Xtest, ypred, '-r')\n",
        "plt.show()"
      ]
    },
    {
      "cell_type": "code",
      "execution_count": null,
      "metadata": {
        "colab": {
          "base_uri": "https://localhost:8080/"
        },
        "id": "t6LJQK_3-doy",
        "outputId": "e1ba48ae-ec5c-40f0-bb78-072004f4c9a1"
      },
      "outputs": [
        {
          "data": {
            "text/plain": [
              "array([[ 0.00000000e+00,  8.16834390e-01,  2.69861390e+00,\n",
              "        -1.70017014e-01,  4.73749283e-01, -1.88483911e-01,\n",
              "        -5.08812283e-02, -4.53673077e-02, -1.32621209e-01,\n",
              "         4.35478433e-02, -1.17380119e-01,  8.04386625e-02,\n",
              "        -8.86552441e-02,  8.93479204e-02, -6.43594825e-02,\n",
              "         8.55727984e-02, -4.64994206e-02,  7.68127200e-02,\n",
              "        -3.37984550e-02,  6.66654703e-02, -2.47632395e-02,\n",
              "         5.67337820e-02, -1.82707725e-02,  4.76731571e-02,\n",
              "        -1.35610915e-02,  3.96931299e-02, -1.01302341e-02,\n",
              "         3.27981735e-02, -7.63843358e-03,  2.69047747e-02,\n",
              "        -5.84882642e-03,  2.18983114e-02, -4.58993925e-03,\n",
              "         1.76600364e-02, -3.73341439e-03,  1.40790719e-02,\n",
              "        -3.18075027e-03,  1.10569370e-02, -2.85517948e-03,\n",
              "         8.50846294e-03, -2.69643939e-03,  6.36106542e-03,\n",
              "        -2.65718730e-03,  4.55337312e-03, -2.70038358e-03,\n",
              "         3.03369669e-03, -2.79727922e-03,  1.75856295e-03,\n",
              "        -2.92581167e-03,  6.91403898e-04, -3.06929903e-03,\n",
              "        -1.98574724e-04, -3.21536710e-03, -9.37350794e-04,\n",
              "        -3.35506588e-03, -1.54688685e-03, -3.48214412e-03,\n",
              "        -2.04579618e-03, -3.59245644e-03, -2.44989485e-03,\n",
              "        -3.68348194e-03, -2.77265856e-03, -3.75393603e-03,\n",
              "        -3.02560060e-03, -3.80345978e-03, -3.21858468e-03,\n",
              "        -3.83237316e-03, -3.36008411e-03, -3.84148063e-03,\n",
              "        -3.45739684e-03, -3.83191939e-03, -3.51682416e-03,\n",
              "        -3.80504188e-03, -3.54381959e-03, -3.76232594e-03,\n",
              "        -3.54311308e-03, -3.70530697e-03, -3.51881506e-03,\n",
              "        -3.63552745e-03, -3.47450367e-03, -3.55450020e-03,\n",
              "        -3.41329825e-03, -3.46368232e-03, -3.33792143e-03,\n",
              "        -3.36445745e-03, -3.25075169e-03, -3.25812438e-03,\n",
              "        -3.15386815e-03, -3.14589060e-03, -3.04908870e-03,\n",
              "        -3.02886937e-03, -2.93800274e-03, -2.90807965e-03,\n",
              "        -2.82199937e-03, -2.78444789e-03, -2.70229161e-03,\n",
              "        -2.65881123e-03, -2.57993747e-03, -2.53192169e-03,\n",
              "        -2.45585828e-03, -2.40445091e-03, -2.33085458e-03,\n",
              "        -2.27699529e-03, -2.20562016e-03, -2.15008127e-03,\n",
              "        -2.08075428e-03, -2.02417055e-03, -1.95677247e-03,\n",
              "        -1.89966534e-03, -1.83411605e-03, -1.77691335e-03,\n",
              "        -1.71316059e-03, -1.65621257e-03, -1.59422333e-03,\n",
              "        -1.53781584e-03, -1.47756987e-03, -1.42193510e-03,\n",
              "        -1.36342006e-03, -1.30874542e-03, -1.25195326e-03,\n",
              "        -1.19838866e-03, -1.14331301e-03, -1.09097698e-03,\n",
              "        -1.03761131e-03, -9.86595928e-04, -9.34932252e-04,\n",
              "        -8.85307416e-04, -8.35335487e-04, -7.87152364e-04,\n",
              "        -7.38859153e-04, -6.92153139e-04, -6.45522591e-04,\n",
              "        -6.00315785e-04, -5.55328746e-04, -5.11632038e-04,\n",
              "        -4.68266319e-04, -4.26081166e-04, -3.84311694e-04,\n",
              "        -3.43631629e-04, -3.03430656e-04, -2.64242576e-04,\n",
              "        -2.25579940e-04, -1.87865205e-04, -1.50708595e-04,\n",
              "        -1.14443977e-04, -7.87592204e-05, -4.39177100e-05,\n",
              "        -9.66905181e-06,  2.37794381e-05,  5.66290612e-05,\n",
              "         8.87170946e-05,  1.20205793e-04,  1.50967890e-04,\n",
              "         1.81134574e-04,  2.10606762e-04,  2.39490913e-04,\n",
              "         2.67710337e-04,  2.95351800e-04,  3.22356388e-04,\n",
              "         3.48795173e-04,  3.74623347e-04,  3.99899462e-04,\n",
              "         4.24589888e-04,  4.48743179e-04,  4.72334553e-04,\n",
              "         4.95404567e-04,  5.17935431e-04,  5.39961294e-04,\n",
              "         5.61469878e-04,  5.82490188e-04,  6.03014279e-04,\n",
              "         6.23067013e-04,  6.42643839e-04,  6.61766274e-04,\n",
              "         6.80432413e-04,  6.98661058e-04,  7.16452356e-04,\n",
              "         7.33822896e-04,  7.50774405e-04,  7.67321656e-04,\n",
              "         7.83467577e-04,  7.99225448e-04,  8.14599098e-04,\n",
              "         8.29600561e-04,  8.44234332e-04,  8.58511404e-04,\n",
              "         8.72436745e-04,  8.86020469e-04,  8.99267871e-04,\n",
              "         9.12188310e-04,  9.24787291e-04,  9.37073525e-04,\n",
              "         9.49052630e-04,  9.60732752e-04,  9.72119554e-04,\n",
              "         9.83220681e-04,  9.94041783e-04,  1.00459006e-03,\n",
              "         1.01487111e-03,  1.02489173e-03,  1.03465741e-03,\n",
              "         1.04417461e-03,  1.05344870e-03,  1.06248580e-03,\n",
              "         1.07129114e-03,  1.07987053e-03,  1.08822907e-03,\n",
              "         1.09637228e-03,  1.10430508e-03,  1.11203275e-03,\n",
              "         1.11956004e-03,  1.12689195e-03,  1.13403310e-03,\n",
              "         1.14098825e-03,  1.14776182e-03,  1.15435837e-03,\n",
              "         1.16078215e-03,  1.16703749e-03,  1.17312849e-03,\n",
              "         1.17905927e-03,  1.18483376e-03,  1.19045590e-03,\n",
              "         1.19592944e-03,  1.20125814e-03,  1.20644561e-03,\n",
              "         1.21149541e-03,  1.21641100e-03,  1.22119578e-03,\n",
              "         1.22585305e-03,  1.23038606e-03,  1.23479795e-03,\n",
              "         1.23909182e-03,  1.24327067e-03,  1.24733746e-03,\n",
              "         1.25129505e-03,  1.25514625e-03,  1.25889379e-03,\n",
              "         1.26254036e-03,  1.26608854e-03,  1.26954091e-03,\n",
              "         1.27289993e-03,  1.27616803e-03,  1.27934758e-03,\n",
              "         1.28244088e-03,  1.28545019e-03,  1.28837771e-03,\n",
              "         1.29122556e-03,  1.29399586e-03,  1.29669062e-03,\n",
              "         1.29931185e-03,  1.30186147e-03,  1.30434138e-03,\n",
              "         1.30675342e-03,  1.30909939e-03,  1.31138104e-03,\n",
              "         1.31360008e-03,  1.31575816e-03,  1.31785692e-03,\n",
              "         1.31989793e-03,  1.32188274e-03,  1.32381284e-03,\n",
              "         1.32568971e-03,  1.32751476e-03,  1.32928939e-03,\n",
              "         1.33101495e-03,  1.33269276e-03,  1.33432411e-03,\n",
              "         1.33591025e-03,  1.33745239e-03,  1.33895173e-03,\n",
              "         1.34040943e-03,  1.34182660e-03,  1.34320436e-03,\n",
              "         1.34454376e-03,  1.34584586e-03,  1.34711166e-03,\n",
              "         1.34834215e-03,  1.34953829e-03,  1.35070103e-03,\n",
              "         1.35183127e-03,  1.35292990e-03,  1.35399778e-03,\n",
              "         1.35503577e-03,  1.35604466e-03,  1.35702527e-03,\n",
              "         1.35797837e-03,  1.35890472e-03,  1.35980504e-03,\n",
              "         1.36068007e-03,  1.36153048e-03,  1.36235697e-03,\n",
              "         1.36316019e-03,  1.36394079e-03,  1.36469938e-03,\n",
              "         1.36543659e-03,  1.36615299e-03,  1.36684917e-03,\n",
              "         1.36752569e-03,  1.36818309e-03,  1.36882190e-03,\n",
              "         1.36944264e-03]])"
            ]
          },
          "execution_count": 33,
          "metadata": {},
          "output_type": "execute_result"
        }
      ],
      "source": [
        "ridge.coef_"
      ]
    },
    {
      "cell_type": "code",
      "execution_count": null,
      "metadata": {
        "id": "oyWVwSarLT46"
      },
      "outputs": [],
      "source": [
        "ridgecv = RidgeCV(alphas=np.linspace(1e-2,1,100))"
      ]
    },
    {
      "cell_type": "code",
      "execution_count": null,
      "metadata": {
        "colab": {
          "base_uri": "https://localhost:8080/",
          "height": 433
        },
        "outputId": "a73d2330-2f05-47a7-a326-19f2f86a4ea7",
        "id": "LhkU9m_sLT48"
      },
      "outputs": [
        {
          "data": {
            "image/png": "[encoded data removed]",
            "text/plain": [
              "<Figure size 576x432 with 1 Axes>"
            ]
          },
          "metadata": {
            "needs_background": "light"
          },
          "output_type": "display_data"
        }
      ],
      "source": [
        "ridgecv.fit(X_scaled,Y)\n",
        "ypred = ridgecv.predict(X_test_scaled)\n",
        "ytrain_pred = ridgecv.predict(X_scaled)\n",
        "\n",
        "fig = plt.figure(figsize=(8,6))\n",
        "plt.plot(X, Y, '*b')\n",
        "plt.plot(Xtest, ypred, '-r')\n",
        "#plt.plot(Xtest, ypred, '-r')\n",
        "plt.show()"
      ]
    },
    {
      "cell_type": "code",
      "execution_count": null,
      "metadata": {
        "id": "16NX-5AVLT49",
        "outputId": "eaa2d48b-8b99-4dc8-84fd-2bc947a23c17"
      },
      "outputs": [
        {
          "data": {
            "text/plain": [
              "1.0"
            ]
          },
          "execution_count": 36,
          "metadata": {},
          "output_type": "execute_result"
        }
      ],
      "source": [
        "ridgecv.alpha_"
      ]
    },
    {
      "cell_type": "code",
      "execution_count": null,
      "metadata": {
        "id": "f6a7SBhNLT49",
        "outputId": "862840d8-3323-4015-c641-b1337ac7cf91"
      },
      "outputs": [
        {
          "data": {
            "text/plain": [
              "array([[ 0.00000000e+00,  8.16834390e-01,  2.69861390e+00,\n",
              "        -1.70017014e-01,  4.73749283e-01, -1.88483911e-01,\n",
              "        -5.08812283e-02, -4.53673077e-02, -1.32621209e-01,\n",
              "         4.35478433e-02, -1.17380119e-01,  8.04386625e-02,\n",
              "        -8.86552441e-02,  8.93479204e-02, -6.43594825e-02,\n",
              "         8.55727984e-02, -4.64994206e-02,  7.68127200e-02,\n",
              "        -3.37984550e-02,  6.66654703e-02, -2.47632395e-02,\n",
              "         5.67337820e-02, -1.82707725e-02,  4.76731571e-02,\n",
              "        -1.35610915e-02,  3.96931299e-02, -1.01302341e-02,\n",
              "         3.27981735e-02, -7.63843358e-03,  2.69047747e-02,\n",
              "        -5.84882642e-03,  2.18983114e-02, -4.58993925e-03,\n",
              "         1.76600364e-02, -3.73341439e-03,  1.40790719e-02,\n",
              "        -3.18075026e-03,  1.10569370e-02, -2.85517948e-03,\n",
              "         8.50846294e-03, -2.69643939e-03,  6.36106542e-03,\n",
              "        -2.65718730e-03,  4.55337312e-03, -2.70038358e-03,\n",
              "         3.03369669e-03, -2.79727922e-03,  1.75856295e-03,\n",
              "        -2.92581166e-03,  6.91403898e-04, -3.06929903e-03,\n",
              "        -1.98574724e-04, -3.21536710e-03, -9.37350794e-04,\n",
              "        -3.35506588e-03, -1.54688685e-03, -3.48214412e-03,\n",
              "        -2.04579618e-03, -3.59245644e-03, -2.44989485e-03,\n",
              "        -3.68348194e-03, -2.77265856e-03, -3.75393603e-03,\n",
              "        -3.02560060e-03, -3.80345978e-03, -3.21858468e-03,\n",
              "        -3.83237316e-03, -3.36008411e-03, -3.84148063e-03,\n",
              "        -3.45739684e-03, -3.83191939e-03, -3.51682416e-03,\n",
              "        -3.80504188e-03, -3.54381959e-03, -3.76232594e-03,\n",
              "        -3.54311308e-03, -3.70530697e-03, -3.51881506e-03,\n",
              "        -3.63552745e-03, -3.47450367e-03, -3.55450020e-03,\n",
              "        -3.41329825e-03, -3.46368232e-03, -3.33792143e-03,\n",
              "        -3.36445745e-03, -3.25075169e-03, -3.25812438e-03,\n",
              "        -3.15386815e-03, -3.14589060e-03, -3.04908870e-03,\n",
              "        -3.02886937e-03, -2.93800274e-03, -2.90807965e-03,\n",
              "        -2.82199937e-03, -2.78444789e-03, -2.70229161e-03,\n",
              "        -2.65881123e-03, -2.57993747e-03, -2.53192169e-03,\n",
              "        -2.45585828e-03, -2.40445091e-03, -2.33085458e-03,\n",
              "        -2.27699529e-03, -2.20562016e-03, -2.15008127e-03,\n",
              "        -2.08075428e-03, -2.02417055e-03, -1.95677247e-03,\n",
              "        -1.89966534e-03, -1.83411605e-03, -1.77691335e-03,\n",
              "        -1.71316059e-03, -1.65621257e-03, -1.59422333e-03,\n",
              "        -1.53781584e-03, -1.47756987e-03, -1.42193510e-03,\n",
              "        -1.36342006e-03, -1.30874542e-03, -1.25195326e-03,\n",
              "        -1.19838866e-03, -1.14331301e-03, -1.09097698e-03,\n",
              "        -1.03761131e-03, -9.86595928e-04, -9.34932252e-04,\n",
              "        -8.85307416e-04, -8.35335487e-04, -7.87152364e-04,\n",
              "        -7.38859153e-04, -6.92153139e-04, -6.45522591e-04,\n",
              "        -6.00315785e-04, -5.55328746e-04, -5.11632038e-04,\n",
              "        -4.68266319e-04, -4.26081166e-04, -3.84311694e-04,\n",
              "        -3.43631629e-04, -3.03430657e-04, -2.64242576e-04,\n",
              "        -2.25579940e-04, -1.87865205e-04, -1.50708595e-04,\n",
              "        -1.14443977e-04, -7.87592204e-05, -4.39177100e-05,\n",
              "        -9.66905182e-06,  2.37794380e-05,  5.66290612e-05,\n",
              "         8.87170946e-05,  1.20205793e-04,  1.50967890e-04,\n",
              "         1.81134574e-04,  2.10606762e-04,  2.39490913e-04,\n",
              "         2.67710337e-04,  2.95351800e-04,  3.22356388e-04,\n",
              "         3.48795173e-04,  3.74623347e-04,  3.99899462e-04,\n",
              "         4.24589888e-04,  4.48743179e-04,  4.72334553e-04,\n",
              "         4.95404567e-04,  5.17935430e-04,  5.39961294e-04,\n",
              "         5.61469878e-04,  5.82490188e-04,  6.03014278e-04,\n",
              "         6.23067013e-04,  6.42643839e-04,  6.61766274e-04,\n",
              "         6.80432413e-04,  6.98661058e-04,  7.16452356e-04,\n",
              "         7.33822896e-04,  7.50774405e-04,  7.67321656e-04,\n",
              "         7.83467577e-04,  7.99225448e-04,  8.14599098e-04,\n",
              "         8.29600561e-04,  8.44234332e-04,  8.58511404e-04,\n",
              "         8.72436745e-04,  8.86020469e-04,  8.99267871e-04,\n",
              "         9.12188310e-04,  9.24787291e-04,  9.37073525e-04,\n",
              "         9.49052630e-04,  9.60732752e-04,  9.72119554e-04,\n",
              "         9.83220681e-04,  9.94041783e-04,  1.00459006e-03,\n",
              "         1.01487111e-03,  1.02489173e-03,  1.03465741e-03,\n",
              "         1.04417461e-03,  1.05344870e-03,  1.06248580e-03,\n",
              "         1.07129114e-03,  1.07987053e-03,  1.08822907e-03,\n",
              "         1.09637228e-03,  1.10430508e-03,  1.11203275e-03,\n",
              "         1.11956004e-03,  1.12689195e-03,  1.13403310e-03,\n",
              "         1.14098825e-03,  1.14776182e-03,  1.15435837e-03,\n",
              "         1.16078215e-03,  1.16703749e-03,  1.17312849e-03,\n",
              "         1.17905927e-03,  1.18483376e-03,  1.19045590e-03,\n",
              "         1.19592944e-03,  1.20125814e-03,  1.20644561e-03,\n",
              "         1.21149541e-03,  1.21641100e-03,  1.22119578e-03,\n",
              "         1.22585305e-03,  1.23038606e-03,  1.23479795e-03,\n",
              "         1.23909182e-03,  1.24327067e-03,  1.24733746e-03,\n",
              "         1.25129505e-03,  1.25514625e-03,  1.25889379e-03,\n",
              "         1.26254036e-03,  1.26608854e-03,  1.26954091e-03,\n",
              "         1.27289993e-03,  1.27616803e-03,  1.27934758e-03,\n",
              "         1.28244088e-03,  1.28545019e-03,  1.28837771e-03,\n",
              "         1.29122556e-03,  1.29399586e-03,  1.29669062e-03,\n",
              "         1.29931185e-03,  1.30186147e-03,  1.30434138e-03,\n",
              "         1.30675342e-03,  1.30909939e-03,  1.31138104e-03,\n",
              "         1.31360008e-03,  1.31575816e-03,  1.31785692e-03,\n",
              "         1.31989793e-03,  1.32188274e-03,  1.32381284e-03,\n",
              "         1.32568971e-03,  1.32751476e-03,  1.32928939e-03,\n",
              "         1.33101495e-03,  1.33269276e-03,  1.33432411e-03,\n",
              "         1.33591025e-03,  1.33745239e-03,  1.33895173e-03,\n",
              "         1.34040943e-03,  1.34182660e-03,  1.34320436e-03,\n",
              "         1.34454376e-03,  1.34584586e-03,  1.34711166e-03,\n",
              "         1.34834215e-03,  1.34953829e-03,  1.35070103e-03,\n",
              "         1.35183127e-03,  1.35292990e-03,  1.35399778e-03,\n",
              "         1.35503577e-03,  1.35604466e-03,  1.35702527e-03,\n",
              "         1.35797837e-03,  1.35890472e-03,  1.35980504e-03,\n",
              "         1.36068007e-03,  1.36153048e-03,  1.36235697e-03,\n",
              "         1.36316019e-03,  1.36394079e-03,  1.36469938e-03,\n",
              "         1.36543659e-03,  1.36615299e-03,  1.36684917e-03,\n",
              "         1.36752569e-03,  1.36818309e-03,  1.36882190e-03,\n",
              "         1.36944264e-03]])"
            ]
          },
          "execution_count": 37,
          "metadata": {},
          "output_type": "execute_result"
        }
      ],
      "source": [
        "ridgecv.coef_"
      ]
    },
    {
      "cell_type": "code",
      "execution_count": null,
      "metadata": {
        "id": "6yoc-3fHLT4-"
      },
      "outputs": [],
      "source": [
        "lassocv = LassoCV(alphas=np.linspace(1e-4,1,100))"
      ]
    },
    {
      "cell_type": "code",
      "execution_count": null,
      "metadata": {
        "colab": {
          "base_uri": "https://localhost:8080/",
          "height": 433
        },
        "outputId": "a73d2330-2f05-47a7-a326-19f2f86a4ea7",
        "id": "ijueye7MLT4-"
      },
      "outputs": [
        {
          "name": "stderr",
          "output_type": "stream",
          "text": [
            "C:\\Users\\Xiaomi\\AppData\\Local\\Packages\\PythonSoftwareFoundation.Python.3.8_qbz5n2kfra8p0\\LocalCache\\local-packages\\Python38\\site-packages\\sklearn\\linear_model\\_coordinate_descent.py:1614: DataConversionWarning: A column-vector y was passed when a 1d array was expected. Please change the shape of y to (n_samples, ), for example using ravel().\n",
            "  y = column_or_1d(y, warn=True)\n",
            "C:\\Users\\Xiaomi\\AppData\\Local\\Packages\\PythonSoftwareFoundation.Python.3.8_qbz5n2kfra8p0\\LocalCache\\local-packages\\Python38\\site-packages\\sklearn\\linear_model\\_coordinate_descent.py:648: ConvergenceWarning: Objective did not converge. You might want to increase the number of iterations, check the scale of the features or consider increasing regularisation. Duality gap: 9.246e+00, tolerance: 2.445e-02\n",
            "  model = cd_fast.enet_coordinate_descent(\n",
            "C:\\Users\\Xiaomi\\AppData\\Local\\Packages\\PythonSoftwareFoundation.Python.3.8_qbz5n2kfra8p0\\LocalCache\\local-packages\\Python38\\site-packages\\sklearn\\linear_model\\_coordinate_descent.py:648: ConvergenceWarning: Objective did not converge. You might want to increase the number of iterations, check the scale of the features or consider increasing regularisation. Duality gap: 8.246e+00, tolerance: 4.248e-02\n",
            "  model = cd_fast.enet_coordinate_descent(\n",
            "C:\\Users\\Xiaomi\\AppData\\Local\\Packages\\PythonSoftwareFoundation.Python.3.8_qbz5n2kfra8p0\\LocalCache\\local-packages\\Python38\\site-packages\\sklearn\\linear_model\\_coordinate_descent.py:648: ConvergenceWarning: Objective did not converge. You might want to increase the number of iterations, check the scale of the features or consider increasing regularisation. Duality gap: 8.086e+00, tolerance: 3.329e-02\n",
            "  model = cd_fast.enet_coordinate_descent(\n",
            "C:\\Users\\Xiaomi\\AppData\\Local\\Packages\\PythonSoftwareFoundation.Python.3.8_qbz5n2kfra8p0\\LocalCache\\local-packages\\Python38\\site-packages\\sklearn\\linear_model\\_coordinate_descent.py:648: ConvergenceWarning: Objective did not converge. You might want to increase the number of iterations, check the scale of the features or consider increasing regularisation. Duality gap: 9.669e+00, tolerance: 4.060e-02\n",
            "  model = cd_fast.enet_coordinate_descent(\n",
            "C:\\Users\\Xiaomi\\AppData\\Local\\Packages\\PythonSoftwareFoundation.Python.3.8_qbz5n2kfra8p0\\LocalCache\\local-packages\\Python38\\site-packages\\sklearn\\linear_model\\_coordinate_descent.py:648: ConvergenceWarning: Objective did not converge. You might want to increase the number of iterations, check the scale of the features or consider increasing regularisation. Duality gap: 9.421e+00, tolerance: 4.096e-02\n",
            "  model = cd_fast.enet_coordinate_descent(\n"
          ]
        },
        {
          "data": {
            "image/png": "[encoded data removed]",
            "text/plain": [
              "<Figure size 576x432 with 1 Axes>"
            ]
          },
          "metadata": {
            "needs_background": "light"
          },
          "output_type": "display_data"
        }
      ],
      "source": [
        "lassocv.fit(X_scaled,Y)\n",
        "ypred = lassocv.predict(X_test_scaled)\n",
        "ytrain_pred = lassocv.predict(X_scaled)\n",
        "\n",
        "fig = plt.figure(figsize=(8,6))\n",
        "plt.plot(X, Y, '*b')\n",
        "plt.plot(Xtest, ypred, '-r')\n",
        "#plt.plot(Xtest, ypred, '-r')\n",
        "plt.show()"
      ]
    },
    {
      "cell_type": "code",
      "execution_count": null,
      "metadata": {
        "id": "NoKZkF_ULT4_",
        "outputId": "a2a10a3b-2d2b-42e8-c072-6c0d3e33a9e7"
      },
      "outputs": [
        {
          "data": {
            "text/plain": [
              "0.060700000000000004"
            ]
          },
          "execution_count": 40,
          "metadata": {},
          "output_type": "execute_result"
        }
      ],
      "source": [
        "lassocv.alpha_"
      ]
    },
    {
      "cell_type": "code",
      "execution_count": null,
      "metadata": {
        "id": "5J4JMboeLT5A",
        "outputId": "bfb57ef8-836f-453f-991d-6efca3c343e5"
      },
      "outputs": [
        {
          "data": {
            "text/plain": [
              "(4.291791599140671,\n",
              " array([0.00000000e+00, 6.73739727e-01, 2.90719840e+00, 0.00000000e+00,\n",
              "        0.00000000e+00, 0.00000000e+00, 0.00000000e+00, 0.00000000e+00,\n",
              "        0.00000000e+00, 0.00000000e+00, 0.00000000e+00, 0.00000000e+00,\n",
              "        0.00000000e+00, 0.00000000e+00, 0.00000000e+00, 0.00000000e+00,\n",
              "        0.00000000e+00, 0.00000000e+00, 0.00000000e+00, 0.00000000e+00,\n",
              "        0.00000000e+00, 0.00000000e+00, 0.00000000e+00, 0.00000000e+00,\n",
              "        0.00000000e+00, 0.00000000e+00, 0.00000000e+00, 0.00000000e+00,\n",
              "        0.00000000e+00, 0.00000000e+00, 0.00000000e+00, 0.00000000e+00,\n",
              "        0.00000000e+00, 0.00000000e+00, 0.00000000e+00, 0.00000000e+00,\n",
              "        0.00000000e+00, 0.00000000e+00, 0.00000000e+00, 0.00000000e+00,\n",
              "        0.00000000e+00, 0.00000000e+00, 0.00000000e+00, 0.00000000e+00,\n",
              "        0.00000000e+00, 0.00000000e+00, 0.00000000e+00, 0.00000000e+00,\n",
              "        0.00000000e+00, 0.00000000e+00, 0.00000000e+00, 0.00000000e+00,\n",
              "        0.00000000e+00, 0.00000000e+00, 0.00000000e+00, 0.00000000e+00,\n",
              "        0.00000000e+00, 0.00000000e+00, 0.00000000e+00, 0.00000000e+00,\n",
              "        0.00000000e+00, 0.00000000e+00, 0.00000000e+00, 0.00000000e+00,\n",
              "        0.00000000e+00, 0.00000000e+00, 0.00000000e+00, 0.00000000e+00,\n",
              "        0.00000000e+00, 0.00000000e+00, 0.00000000e+00, 0.00000000e+00,\n",
              "        0.00000000e+00, 0.00000000e+00, 0.00000000e+00, 0.00000000e+00,\n",
              "        0.00000000e+00, 0.00000000e+00, 0.00000000e+00, 0.00000000e+00,\n",
              "        0.00000000e+00, 0.00000000e+00, 0.00000000e+00, 0.00000000e+00,\n",
              "        0.00000000e+00, 0.00000000e+00, 0.00000000e+00, 0.00000000e+00,\n",
              "        0.00000000e+00, 0.00000000e+00, 0.00000000e+00, 0.00000000e+00,\n",
              "        0.00000000e+00, 0.00000000e+00, 0.00000000e+00, 0.00000000e+00,\n",
              "        0.00000000e+00, 0.00000000e+00, 3.96287855e-06, 1.51335290e-04,\n",
              "        1.40375645e-04, 1.39908925e-04, 1.30505982e-04, 1.29476998e-04,\n",
              "        1.21363752e-04, 1.19936329e-04, 1.12896061e-04, 1.11196525e-04,\n",
              "        1.05052936e-04, 1.03178142e-04, 9.77874559e-05, 9.58111353e-05,\n",
              "        9.10557797e-05, 8.90335677e-05, 8.48171053e-05, 8.27905061e-05,\n",
              "        7.90335767e-05, 7.70330946e-05, 7.36701575e-05, 7.17177644e-05,\n",
              "        6.86944840e-05, 6.68055618e-05, 6.40767059e-05, 6.22615728e-05,\n",
              "        5.97893231e-05, 5.80544308e-05, 5.58070213e-05, 5.41558926e-05,\n",
              "        5.21065128e-05, 5.05404735e-05, 4.86663817e-05, 4.71851308e-05,\n",
              "        4.54669373e-05, 4.40689898e-05, 4.24900765e-05, 4.11731050e-05,\n",
              "        3.97191539e-05, 3.84802524e-05, 3.71388619e-05, 3.59747465e-05,\n",
              "        3.47351186e-05, 3.36422812e-05, 3.24949661e-05, 3.14697887e-05,\n",
              "        3.04064749e-05, 2.94453157e-05, 2.84586577e-05, 2.75579138e-05,\n",
              "        2.66413895e-05, 2.57975418e-05, 2.49453354e-05, 2.41549801e-05,\n",
              "        2.33618836e-05, 2.26217534e-05, 2.18830854e-05, 2.11900621e-05,\n",
              "        2.05015991e-05, 1.98527213e-05, 1.92106403e-05, 1.86031056e-05,\n",
              "        1.80039353e-05, 1.74351001e-05, 1.68756797e-05, 1.63430556e-05,\n",
              "        1.58204995e-05, 1.53217494e-05, 1.48334170e-05, 1.43663485e-05,\n",
              "        1.39098182e-05, 1.34723778e-05, 1.30454245e-05, 1.26356902e-05,\n",
              "        1.22362654e-05, 1.18524398e-05, 1.14786551e-05, 1.11190580e-05,\n",
              "        1.07691696e-05, 1.04322315e-05, 1.01046270e-05, 9.78888173e-06,\n",
              "        9.48206850e-06, 9.18614704e-06, 8.89874185e-06, 8.62136583e-06,\n",
              "        8.35208547e-06, 8.09206133e-06, 7.83971433e-06, 7.59592761e-06,\n",
              "        7.35940673e-06, 7.13081683e-06, 6.90909237e-06, 6.69472752e-06,\n",
              "        6.48684118e-06, 6.28579382e-06, 6.09085320e-06, 5.90227559e-06,\n",
              "        5.71944917e-06, 5.54254933e-06, 5.37106193e-06, 5.20509984e-06,\n",
              "        5.04422839e-06, 4.88851245e-06, 4.73758222e-06, 4.59146599e-06,\n",
              "        4.44984708e-06, 4.31272617e-06, 4.17983030e-06, 4.05113956e-06,\n",
              "        3.92641711e-06, 3.80562799e-06, 3.68856530e-06, 3.57518332e-06,\n",
              "        3.46530018e-06, 3.35886273e-06, 3.25571007e-06, 3.15578421e-06,\n",
              "        3.05894196e-06, 2.96512246e-06, 2.87419758e-06, 2.78610511e-06,\n",
              "        2.70072977e-06, 2.61800913e-06, 2.53783899e-06, 2.46015756e-06,\n",
              "        2.38487022e-06, 2.31191646e-06, 2.24121000e-06, 2.17269205e-06,\n",
              "        2.10628367e-06, 2.04192810e-06, 1.97955286e-06, 1.91910344e-06,\n",
              "        1.86051310e-06, 1.80372969e-06, 1.74869160e-06, 1.69534911e-06,\n",
              "        1.64364523e-06, 1.59353266e-06, 1.54495857e-06, 1.49787808e-06,\n",
              "        1.45224214e-06, 1.40800823e-06, 1.36513074e-06, 1.32356945e-06,\n",
              "        1.28328188e-06, 1.24423004e-06, 1.20637434e-06, 1.16967892e-06,\n",
              "        1.13410682e-06, 1.09962424e-06, 1.06619666e-06, 1.03379223e-06,\n",
              "        1.00237867e-06, 9.71926002e-07, 9.42404034e-07, 9.13784535e-07,\n",
              "        8.86039257e-07, 8.59141635e-07, 8.33065220e-07, 8.07785023e-07,\n",
              "        7.83276269e-07, 7.59515459e-07, 7.36479374e-07, 7.14145922e-07,\n",
              "        6.92493339e-07, 6.71500857e-07, 6.51148066e-07, 6.31415448e-07,\n",
              "        6.12283860e-07, 5.93734958e-07, 5.75750786e-07, 5.58314104e-07,\n",
              "        5.41408062e-07, 5.25016462e-07, 5.09123491e-07, 4.93713927e-07,\n",
              "        4.78772928e-07, 4.64286195e-07, 4.50239792e-07, 4.36620280e-07,\n",
              "        4.23414583e-07, 4.10610070e-07, 3.98194460e-07, 3.86155891e-07,\n",
              "        3.74482828e-07, 3.63164125e-07, 3.52188948e-07, 3.41546827e-07,\n",
              "        3.31227587e-07, 3.21221385e-07, 3.11518668e-07, 3.02110189e-07,\n",
              "        2.92986971e-07, 2.84140324e-07, 2.75561817e-07, 2.67243287e-07,\n",
              "        2.59176808e-07, 2.51354711e-07, 2.43769552e-07, 2.36414121e-07,\n",
              "        2.29281427e-07]))"
            ]
          },
          "execution_count": 41,
          "metadata": {},
          "output_type": "execute_result"
        }
      ],
      "source": [
        "lassocv.intercept_, lassocv.coef_"
      ]
    },
    {
      "cell_type": "markdown",
      "metadata": {
        "id": "0PzzVA5yLT5A"
      },
      "source": [
        "## Домашнее задание\n",
        "\n",
        "Обучить полиномиальную регрессию, построить зависимость предсказанного от реального значения и рассчитать ошибку (всё для обучающей и тестовой выборок) для датасета сталей и предсказать предел текучести (0.2% Proof Stress (MPa)) на основании состава и температуры. Для большого числа признаков использовать регуляризацию. Постараться достичь минимально возможной ошибки на тестовой выборке. \n",
        "\n",
        "По желанию можно использовать кросс-валидацию для расчет метрики ошибки и поиск по сетке для подбора параметров регуляризации. Также можно самим реализовать алгоритм градиентного спуска и с его помощью рассчитать ошибку."
      ]
    },
    {
      "cell_type": "code",
      "execution_count": 1,
      "metadata": {
        "id": "PhWYDOO2LT5B"
      },
      "outputs": [],
      "source": [
        "import numpy as np\n",
        "import matplotlib.pyplot as plt\n",
        "import matplotlib\n",
        "from sklearn.metrics import mean_squared_error as mse\n",
        "from sklearn.linear_model import LinearRegression, SGDRegressor\n",
        "from sklearn.model_selection import train_test_split\n",
        "from sklearn.preprocessing import PolynomialFeatures, StandardScaler\n",
        "from sklearn.linear_model import Ridge, Lasso, ElasticNet, RidgeCV, LassoCV, ElasticNetCV\n",
        "import pandas as pd\n",
        "from tqdm import tqdm"
      ]
    },
    {
      "cell_type": "code",
      "execution_count": 2,
      "metadata": {
        "id": "4MRz4alKLT5B"
      },
      "outputs": [],
      "source": [
        "df = pd.read_csv('Steels_kaggle.csv')"
      ]
    },
    {
      "cell_type": "code",
      "execution_count": 3,
      "metadata": {
        "colab": {
          "base_uri": "https://localhost:8080/"
        },
        "id": "VhtLGRXmLT5C",
        "outputId": "79226225-e460-4dcf-950b-699fc4b7109b"
      },
      "outputs": [
        {
          "output_type": "execute_result",
          "data": {
            "text/plain": [
              "((915, 15), (915,))"
            ]
          },
          "metadata": {},
          "execution_count": 3
        }
      ],
      "source": [
        "y = df[' 0.2% Proof Stress (MPa)']\n",
        "X = df[[' C', ' Si', ' Mn', ' P', ' S', ' Ni', ' Cr', ' Mo', ' Cu', 'V', ' Al', ' N', 'Ceq', 'Nb + Ta', ' Temperature (°C)']]\n",
        "X_train, X_test, y_train, y_test = train_test_split(X, y, test_size=0.2, random_state=42)\n",
        "X.shape, y.shape"
      ]
    },
    {
      "cell_type": "code",
      "execution_count": 5,
      "metadata": {
        "id": "U4muDaorLT5D"
      },
      "outputs": [],
      "source": [
        "pf = PolynomialFeatures(degree=5)\n",
        "X_train_poly = pf.fit_transform(X_train)\n",
        "X_test_poly = pf.transform(X_test)"
      ]
    },
    {
      "cell_type": "code",
      "execution_count": 6,
      "metadata": {
        "colab": {
          "base_uri": "https://localhost:8080/",
          "height": 439
        },
        "id": "Hu5c682_LT5E",
        "outputId": "da2e3e38-28b9-4ba8-b922-3123db86393e"
      },
      "outputs": [
        {
          "output_type": "display_data",
          "data": {
            "text/plain": [
              "<Figure size 576x432 with 1 Axes>"
            ],
            "image/png": "[encoded data removed]"
          },
          "metadata": {
            "needs_background": "light"
          }
        },
        {
          "output_type": "stream",
          "name": "stdout",
          "text": [
            "test: 52.22302289661176\n",
            "train: 15.015703288423918\n"
          ]
        }
      ],
      "source": [
        "scaler = StandardScaler()\n",
        "X_train_scaled = scaler.fit_transform(X_train_poly)\n",
        "X_test_scaled = scaler.transform(X_test_poly)\n",
        "\n",
        "lr = LinearRegression()\n",
        "lr.fit(X_train_scaled, y_train)\n",
        "y_test_pred = lr.predict(X_test_scaled)\n",
        "y_train_pred = lr.predict(X_train_scaled)\n",
        "\n",
        "fig = plt.figure(figsize=(8,6))\n",
        "plt.plot(y_train, y_train_pred, 'or', label='Train')\n",
        "plt.plot(y_test, y_test_pred, 'ob', label='Test')\n",
        "plt.title('LinearRegression')\n",
        "plt.xlabel('Real value')\n",
        "plt.ylabel('Predicted value')\n",
        "plt.legend()\n",
        "plt.show()\n",
        "print(f'test: {mse(y_test, y_test_pred, squared=False)}')\n",
        "print(f'train: {mse(y_train, y_train_pred, squared=False)}')"
      ]
    },
    {
      "cell_type": "code",
      "execution_count": 7,
      "metadata": {
        "id": "UPz4mvWzLT5E"
      },
      "outputs": [],
      "source": [
        "def model(k):\n",
        "    pf = PolynomialFeatures(degree=k)\n",
        "    X_train_poly = pf.fit_transform(X_train)\n",
        "    X_test_poly = pf.transform(X_test)\n",
        "\n",
        "    scaler = StandardScaler()\n",
        "    X_train_scaled = scaler.fit_transform(X_train_poly)\n",
        "    X_test_scaled = scaler.transform(X_test_poly)\n",
        "\n",
        "    lr = LinearRegression()\n",
        "    lr.fit(X_train_scaled, y_train)\n",
        "    y_test_pred = lr.predict(X_test_scaled)\n",
        "    y_train_pred = lr.predict(X_train_scaled)\n",
        "\n",
        "    return [mse(y_test, y_test_pred, squared=False), mse(y_train, y_train_pred, squared=False)]"
      ]
    },
    {
      "cell_type": "code",
      "execution_count": 8,
      "metadata": {
        "colab": {
          "base_uri": "https://localhost:8080/",
          "height": 491
        },
        "id": "MDCYM7D6LT5F",
        "outputId": "c0cad0dc-6e1b-40ba-f493-6e36e3b068fc"
      },
      "outputs": [
        {
          "output_type": "stream",
          "name": "stdout",
          "text": [
            "1\n",
            "2\n",
            "3\n",
            "4\n",
            "5\n"
          ]
        },
        {
          "output_type": "display_data",
          "data": {
            "text/plain": [
              "<Figure size 576x432 with 1 Axes>"
            ],
            "image/png": "[encoded data removed]"
          },
          "metadata": {
            "needs_background": "light"
          }
        }
      ],
      "source": [
        "k = np.arange(1, 6)\n",
        "# print(k)\n",
        "out = []\n",
        "for i in k:\n",
        "    out.append(model(i))\n",
        "    print(i)\n",
        "\n",
        "out = np.array(out)\n",
        "fig = plt.figure(figsize=(8,6))\n",
        "plt.title('LinearRegression')\n",
        "plt.plot(k, out[:, 1], 'or', label='Train')\n",
        "plt.plot(k, out[:, 0], 'ob', label='Test')\n",
        "plt.xlabel('k')\n",
        "plt.ylabel('MSE')\n",
        "plt.legend()\n",
        "plt.show()"
      ]
    },
    {
      "cell_type": "code",
      "execution_count": 11,
      "metadata": {
        "id": "3ErFBkVhLT5I"
      },
      "outputs": [],
      "source": [
        "def model_new(k, lr):\n",
        "    pf = PolynomialFeatures(degree=k)\n",
        "    X_train_poly = pf.fit_transform(X_train)\n",
        "    X_test_poly = pf.transform(X_test)\n",
        "\n",
        "    scaler = StandardScaler()\n",
        "    X_train_scaled = scaler.fit_transform(X_train_poly)\n",
        "    X_test_scaled = scaler.transform(X_test_poly)\n",
        "\n",
        "    # lr = funk\n",
        "    lr.fit(X_train_scaled, y_train)\n",
        "    y_test_pred = lr.predict(X_test_scaled)\n",
        "    y_train_pred = lr.predict(X_train_scaled)\n",
        "\n",
        "    return [mse(y_test, y_test_pred, squared=False), mse(y_train, y_train_pred, squared=False)]"
      ]
    },
    {
      "cell_type": "code",
      "source": [
        "# L = [Ridge, Lasso, ElasticNet, RidgeCV, LassoCV, ElasticNetCV]\n",
        "# L_name = ['Ridge', 'Lasso', 'ElasticNet', 'RidgeCV', 'LassoCV', 'ElasticNetCV']\n",
        "k = np.arange(1, 7)\n",
        "out = []\n",
        "alpha = [0.25, 0.5, 1, 2, 3]\n",
        "\n",
        "out = []\n",
        "for i in alpha:\n",
        "    funk = Ridge(alpha=i)\n",
        "    out_funk = []\n",
        "    print(i)\n",
        "    for j in tqdm(k):\n",
        "        # print(i)\n",
        "        out_funk.append(model_new(j, funk))\n",
        "    out.append(out_funk)\n",
        "\n",
        "out = np.array(out)\n",
        "fig = plt.figure(figsize=(8,6))\n",
        "plt.title('Ridge')\n",
        "# plt.plot(k, out[:, 1], 'or', label='Train')\n",
        "for i in range(out.shape[0]):\n",
        "    plt.plot(k, out[i, :, 0], label=f'Test with alpha={alpha[i]}')\n",
        "plt.xlabel('k')\n",
        "plt.ylabel('MSE')\n",
        "plt.legend()\n",
        "plt.show()"
      ],
      "metadata": {
        "colab": {
          "base_uri": "https://localhost:8080/",
          "height": 578
        },
        "id": "MjfOqqouMYpg",
        "outputId": "7337cd0d-24cb-4c74-a84e-dae133f1cc54"
      },
      "execution_count": 12,
      "outputs": [
        {
          "output_type": "stream",
          "name": "stdout",
          "text": [
            "0.25\n"
          ]
        },
        {
          "output_type": "stream",
          "name": "stderr",
          "text": [
            "100%|██████████| 6/6 [00:03<00:00,  1.53it/s]\n"
          ]
        },
        {
          "output_type": "stream",
          "name": "stdout",
          "text": [
            "0.5\n"
          ]
        },
        {
          "output_type": "stream",
          "name": "stderr",
          "text": [
            "100%|██████████| 6/6 [00:03<00:00,  1.94it/s]\n"
          ]
        },
        {
          "output_type": "stream",
          "name": "stdout",
          "text": [
            "1\n"
          ]
        },
        {
          "output_type": "stream",
          "name": "stderr",
          "text": [
            "100%|██████████| 6/6 [00:02<00:00,  2.00it/s]\n"
          ]
        },
        {
          "output_type": "stream",
          "name": "stdout",
          "text": [
            "2\n"
          ]
        },
        {
          "output_type": "stream",
          "name": "stderr",
          "text": [
            "100%|██████████| 6/6 [00:02<00:00,  2.00it/s]\n"
          ]
        },
        {
          "output_type": "stream",
          "name": "stdout",
          "text": [
            "3\n"
          ]
        },
        {
          "output_type": "stream",
          "name": "stderr",
          "text": [
            "100%|██████████| 6/6 [00:02<00:00,  2.00it/s]\n"
          ]
        },
        {
          "output_type": "display_data",
          "data": {
            "text/plain": [
              "<Figure size 576x432 with 1 Axes>"
            ],
            "image/png": "[encoded data removed]"
          },
          "metadata": {
            "needs_background": "light"
          }
        }
      ]
    },
    {
      "cell_type": "code",
      "source": [
        "# L = [Ridge, Lasso, ElasticNet, RidgeCV, LassoCV, ElasticNetCV]\n",
        "# L_name = ['Ridge', 'Lasso', 'ElasticNet', 'RidgeCV', 'LassoCV', 'ElasticNetCV']\n",
        "k = np.arange(1, 7)\n",
        "out = []\n",
        "alpha = [0.1, 1e-2, 1e-3, 1e-4]\n",
        "\n",
        "out = []\n",
        "for i in alpha:\n",
        "    funk = RidgeCV(alphas=np.linspace(i,1,int(1/i)))\n",
        "    out_funk = []\n",
        "    print(i)\n",
        "    for j in tqdm(k):\n",
        "        # print(i)\n",
        "        out_funk.append(model_new(j, funk))\n",
        "    out.append(out_funk)\n",
        "\n",
        "out = np.array(out)\n",
        "fig = plt.figure(figsize=(8,6))\n",
        "# plt.plot(k, out[:, 1], 'or', label='Train')\n",
        "plt.title('RidgeCV')\n",
        "for i in range(out.shape[0]):\n",
        "    plt.plot(k, out[i, :, 0], label=f'Test with alpha={alpha[i]}')\n",
        "plt.xlabel('k')\n",
        "plt.ylabel('MSE')\n",
        "plt.legend()\n",
        "plt.show()"
      ],
      "metadata": {
        "colab": {
          "base_uri": "https://localhost:8080/",
          "height": 543
        },
        "id": "mlY_3amzPhlO",
        "outputId": "9ddb7c5a-c9e5-4d8d-f8a0-c6707dda5383"
      },
      "execution_count": 19,
      "outputs": [
        {
          "output_type": "stream",
          "name": "stdout",
          "text": [
            "0.1\n"
          ]
        },
        {
          "output_type": "stream",
          "name": "stderr",
          "text": [
            "100%|██████████| 6/6 [00:05<00:00,  1.11it/s]\n"
          ]
        },
        {
          "output_type": "stream",
          "name": "stdout",
          "text": [
            "0.01\n"
          ]
        },
        {
          "output_type": "stream",
          "name": "stderr",
          "text": [
            "100%|██████████| 6/6 [00:05<00:00,  1.12it/s]\n"
          ]
        },
        {
          "output_type": "stream",
          "name": "stdout",
          "text": [
            "0.001\n"
          ]
        },
        {
          "output_type": "stream",
          "name": "stderr",
          "text": [
            "100%|██████████| 6/6 [00:21<00:00,  3.55s/it]\n"
          ]
        },
        {
          "output_type": "stream",
          "name": "stdout",
          "text": [
            "0.0001\n"
          ]
        },
        {
          "output_type": "stream",
          "name": "stderr",
          "text": [
            "100%|██████████| 6/6 [02:57<00:00, 29.57s/it]\n"
          ]
        },
        {
          "output_type": "display_data",
          "data": {
            "text/plain": [
              "<Figure size 576x432 with 1 Axes>"
            ],
            "image/png": "[encoded data removed]"
          },
          "metadata": {
            "needs_background": "light"
          }
        }
      ]
    },
    {
      "cell_type": "code",
      "source": [
        "# L = [Ridge, Lasso, ElasticNet, RidgeCV, LassoCV, ElasticNetCV]\n",
        "# L_name = ['Ridge', 'Lasso', 'ElasticNet', 'RidgeCV', 'LassoCV', 'ElasticNetCV']\n",
        "k = np.arange(1, 8)\n",
        "out = []\n",
        "alpha = [0.25, 0.5, 1, 2]\n",
        "\n",
        "out = []\n",
        "for i in alpha:\n",
        "    funk = Lasso(alpha=i)\n",
        "    out_funk = []\n",
        "    print(i)\n",
        "    for j in tqdm(k):\n",
        "        # print(i)\n",
        "        out_funk.append(model_new(j, funk))\n",
        "    out.append(out_funk)\n",
        "    # break\n",
        "\n",
        "out = np.array(out)\n",
        "fig = plt.figure(figsize=(8,6))\n",
        "# plt.plot(k, out[:, 1], 'or', label='Train')\n",
        "plt.title('Lasso')\n",
        "for i in range(out.shape[0]):\n",
        "    plt.plot(k, out[i, :, 0], label=f'Test with alpha={alpha[i]}')\n",
        "plt.xlabel('k')\n",
        "plt.ylabel('MSE')\n",
        "plt.legend()\n",
        "plt.show()"
      ],
      "metadata": {
        "colab": {
          "base_uri": "https://localhost:8080/"
        },
        "id": "l-G3QGrDQLFi",
        "outputId": "a0400244-125b-4f73-f779-82ce32c85c97"
      },
      "execution_count": null,
      "outputs": [
        {
          "output_type": "stream",
          "name": "stdout",
          "text": [
            "0.25\n"
          ]
        },
        {
          "output_type": "stream",
          "name": "stderr",
          "text": [
            "  0%|          | 0/7 [00:00<?, ?it/s]/usr/local/lib/python3.7/dist-packages/sklearn/linear_model/_coordinate_descent.py:648: ConvergenceWarning: Objective did not converge. You might want to increase the number of iterations, check the scale of the features or consider increasing regularisation. Duality gap: 7.106e+03, tolerance: 1.294e+03\n",
            "  coef_, l1_reg, l2_reg, X, y, max_iter, tol, rng, random, positive\n",
            " 29%|██▊       | 2/7 [00:00<00:00, 19.19it/s]/usr/local/lib/python3.7/dist-packages/sklearn/linear_model/_coordinate_descent.py:648: ConvergenceWarning: Objective did not converge. You might want to increase the number of iterations, check the scale of the features or consider increasing regularisation. Duality gap: 5.530e+03, tolerance: 1.294e+03\n",
            "  coef_, l1_reg, l2_reg, X, y, max_iter, tol, rng, random, positive\n",
            "/usr/local/lib/python3.7/dist-packages/sklearn/linear_model/_coordinate_descent.py:648: ConvergenceWarning: Objective did not converge. You might want to increase the number of iterations, check the scale of the features or consider increasing regularisation. Duality gap: 1.738e+04, tolerance: 1.294e+03\n",
            "  coef_, l1_reg, l2_reg, X, y, max_iter, tol, rng, random, positive\n",
            " 57%|█████▋    | 4/7 [00:02<00:02,  1.36it/s]/usr/local/lib/python3.7/dist-packages/sklearn/linear_model/_coordinate_descent.py:648: ConvergenceWarning: Objective did not converge. You might want to increase the number of iterations, check the scale of the features or consider increasing regularisation. Duality gap: 1.442e+04, tolerance: 1.294e+03\n",
            "  coef_, l1_reg, l2_reg, X, y, max_iter, tol, rng, random, positive\n",
            " 71%|███████▏  | 5/7 [00:11<00:06,  3.21s/it]/usr/local/lib/python3.7/dist-packages/sklearn/linear_model/_coordinate_descent.py:648: ConvergenceWarning: Objective did not converge. You might want to increase the number of iterations, check the scale of the features or consider increasing regularisation. Duality gap: 9.472e+03, tolerance: 1.294e+03\n",
            "  coef_, l1_reg, l2_reg, X, y, max_iter, tol, rng, random, positive\n",
            " 86%|████████▌ | 6/7 [00:42<00:11, 11.31s/it]"
          ]
        }
      ]
    },
    {
      "cell_type": "code",
      "source": [
        "# L = [Ridge, Lasso, ElasticNet, RidgeCV, LassoCV, ElasticNetCV]\n",
        "# L_name = ['Ridge', 'Lasso', 'ElasticNet', 'RidgeCV', 'LassoCV', 'ElasticNetCV']\n",
        "k = np.arange(1, 6)\n",
        "out = []\n",
        "alpha = [0.1, 1e-2, 1e-3, 1e-4, 1e-5]\n",
        "\n",
        "out = []\n",
        "for i in alpha:\n",
        "    funk = LassoCV(alphas=np.linspace(i,1,100))\n",
        "    out_funk = []\n",
        "    print(i)\n",
        "    for j in tqdm(k):\n",
        "        # print(i)\n",
        "        out_funk.append(model_new(j, funk))\n",
        "    out.append(out_funk)\n",
        "    break\n",
        "\n",
        "out = np.array(out)\n",
        "fig = plt.figure(figsize=(8,6))\n",
        "# plt.plot(k, out[:, 1], 'or', label='Train')\n",
        "plt.title('Lasso')\n",
        "for i in range(out.shape[0]):\n",
        "    plt.plot(k, out[i, :, 0], label=f'Test with alpha={alpha[i]}')\n",
        "plt.xlabel('k')\n",
        "plt.ylabel('MSE')\n",
        "plt.legend()\n",
        "plt.show()"
      ],
      "metadata": {
        "colab": {
          "base_uri": "https://localhost:8080/",
          "height": 1000
        },
        "id": "Fu1u4ZnvSztQ",
        "outputId": "056b9513-ca65-4b5f-95f0-d410571e51df"
      },
      "execution_count": 17,
      "outputs": [
        {
          "output_type": "stream",
          "name": "stdout",
          "text": [
            "0.1\n"
          ]
        },
        {
          "output_type": "stream",
          "name": "stderr",
          "text": [
            " 20%|██        | 1/5 [00:00<00:00,  9.14it/s]/usr/local/lib/python3.7/dist-packages/sklearn/linear_model/_coordinate_descent.py:644: ConvergenceWarning: Objective did not converge. You might want to increase the number of iterations. Duality gap: 1704.7360407956876, tolerance: 1043.9825890598293\n",
            "  positive,\n",
            "/usr/local/lib/python3.7/dist-packages/sklearn/linear_model/_coordinate_descent.py:644: ConvergenceWarning: Objective did not converge. You might want to increase the number of iterations. Duality gap: 2054.431278402335, tolerance: 1043.9825890598293\n",
            "  positive,\n",
            "/usr/local/lib/python3.7/dist-packages/sklearn/linear_model/_coordinate_descent.py:644: ConvergenceWarning: Objective did not converge. You might want to increase the number of iterations. Duality gap: 1128.487215604633, tolerance: 1043.9825890598293\n",
            "  positive,\n",
            "/usr/local/lib/python3.7/dist-packages/sklearn/linear_model/_coordinate_descent.py:644: ConvergenceWarning: Objective did not converge. You might want to increase the number of iterations. Duality gap: 1962.8602048977045, tolerance: 1043.9825890598293\n",
            "  positive,\n",
            "/usr/local/lib/python3.7/dist-packages/sklearn/linear_model/_coordinate_descent.py:644: ConvergenceWarning: Objective did not converge. You might want to increase the number of iterations. Duality gap: 1220.3143209789414, tolerance: 1040.0855664957267\n",
            "  positive,\n",
            "/usr/local/lib/python3.7/dist-packages/sklearn/linear_model/_coordinate_descent.py:644: ConvergenceWarning: Objective did not converge. You might want to increase the number of iterations. Duality gap: 1999.0538354052696, tolerance: 1040.0855664957267\n",
            "  positive,\n",
            "/usr/local/lib/python3.7/dist-packages/sklearn/linear_model/_coordinate_descent.py:644: ConvergenceWarning: Objective did not converge. You might want to increase the number of iterations. Duality gap: 1620.722535571549, tolerance: 1040.0855664957267\n",
            "  positive,\n",
            "/usr/local/lib/python3.7/dist-packages/sklearn/linear_model/_coordinate_descent.py:644: ConvergenceWarning: Objective did not converge. You might want to increase the number of iterations. Duality gap: 1743.069438358536, tolerance: 1040.0855664957267\n",
            "  positive,\n",
            "/usr/local/lib/python3.7/dist-packages/sklearn/linear_model/_coordinate_descent.py:644: ConvergenceWarning: Objective did not converge. You might want to increase the number of iterations. Duality gap: 2472.4542490084423, tolerance: 1040.0855664957267\n",
            "  positive,\n",
            "/usr/local/lib/python3.7/dist-packages/sklearn/linear_model/_coordinate_descent.py:644: ConvergenceWarning: Objective did not converge. You might want to increase the number of iterations. Duality gap: 2227.9601880690316, tolerance: 1040.0855664957267\n",
            "  positive,\n",
            "/usr/local/lib/python3.7/dist-packages/sklearn/linear_model/_coordinate_descent.py:644: ConvergenceWarning: Objective did not converge. You might want to increase the number of iterations. Duality gap: 2069.967720586341, tolerance: 1040.0855664957267\n",
            "  positive,\n",
            "/usr/local/lib/python3.7/dist-packages/sklearn/linear_model/_coordinate_descent.py:644: ConvergenceWarning: Objective did not converge. You might want to increase the number of iterations. Duality gap: 2252.014629476005, tolerance: 1040.0855664957267\n",
            "  positive,\n",
            "/usr/local/lib/python3.7/dist-packages/sklearn/linear_model/_coordinate_descent.py:644: ConvergenceWarning: Objective did not converge. You might want to increase the number of iterations. Duality gap: 1113.6409747871803, tolerance: 1012.1133578498295\n",
            "  positive,\n",
            "/usr/local/lib/python3.7/dist-packages/sklearn/linear_model/_coordinate_descent.py:644: ConvergenceWarning: Objective did not converge. You might want to increase the number of iterations. Duality gap: 1242.2859377083369, tolerance: 1012.1133578498295\n",
            "  positive,\n",
            "/usr/local/lib/python3.7/dist-packages/sklearn/linear_model/_coordinate_descent.py:644: ConvergenceWarning: Objective did not converge. You might want to increase the number of iterations. Duality gap: 2170.1601971122436, tolerance: 1012.1133578498295\n",
            "  positive,\n",
            "/usr/local/lib/python3.7/dist-packages/sklearn/linear_model/_coordinate_descent.py:644: ConvergenceWarning: Objective did not converge. You might want to increase the number of iterations. Duality gap: 3109.9825089266524, tolerance: 1012.1133578498295\n",
            "  positive,\n",
            "/usr/local/lib/python3.7/dist-packages/sklearn/linear_model/_coordinate_descent.py:644: ConvergenceWarning: Objective did not converge. You might want to increase the number of iterations. Duality gap: 2829.9042083111126, tolerance: 1012.1133578498295\n",
            "  positive,\n",
            "/usr/local/lib/python3.7/dist-packages/sklearn/linear_model/_coordinate_descent.py:644: ConvergenceWarning: Objective did not converge. You might want to increase the number of iterations. Duality gap: 2098.7579608617816, tolerance: 1012.1133578498295\n",
            "  positive,\n",
            "/usr/local/lib/python3.7/dist-packages/sklearn/linear_model/_coordinate_descent.py:644: ConvergenceWarning: Objective did not converge. You might want to increase the number of iterations. Duality gap: 3237.2923904329073, tolerance: 1012.1133578498295\n",
            "  positive,\n",
            "/usr/local/lib/python3.7/dist-packages/sklearn/linear_model/_coordinate_descent.py:644: ConvergenceWarning: Objective did not converge. You might want to increase the number of iterations. Duality gap: 3924.6476986901835, tolerance: 1012.1133578498295\n",
            "  positive,\n",
            " 20%|██        | 1/5 [00:01<00:06,  1.58s/it]\n"
          ]
        },
        {
          "output_type": "error",
          "ename": "KeyboardInterrupt",
          "evalue": "ignored",
          "traceback": [
            "\u001b[0;31m---------------------------------------------------------------------------\u001b[0m",
            "\u001b[0;31mKeyboardInterrupt\u001b[0m                         Traceback (most recent call last)",
            "\u001b[0;32m<ipython-input-17-de721c36fa0f>\u001b[0m in \u001b[0;36m<module>\u001b[0;34m\u001b[0m\n\u001b[1;32m     12\u001b[0m     \u001b[0;32mfor\u001b[0m \u001b[0mj\u001b[0m \u001b[0;32min\u001b[0m \u001b[0mtqdm\u001b[0m\u001b[0;34m(\u001b[0m\u001b[0mk\u001b[0m\u001b[0;34m)\u001b[0m\u001b[0;34m:\u001b[0m\u001b[0;34m\u001b[0m\u001b[0;34m\u001b[0m\u001b[0m\n\u001b[1;32m     13\u001b[0m         \u001b[0;31m# print(i)\u001b[0m\u001b[0;34m\u001b[0m\u001b[0;34m\u001b[0m\u001b[0;34m\u001b[0m\u001b[0m\n\u001b[0;32m---> 14\u001b[0;31m         \u001b[0mout_funk\u001b[0m\u001b[0;34m.\u001b[0m\u001b[0mappend\u001b[0m\u001b[0;34m(\u001b[0m\u001b[0mmodel_new\u001b[0m\u001b[0;34m(\u001b[0m\u001b[0mj\u001b[0m\u001b[0;34m,\u001b[0m \u001b[0mfunk\u001b[0m\u001b[0;34m)\u001b[0m\u001b[0;34m)\u001b[0m\u001b[0;34m\u001b[0m\u001b[0;34m\u001b[0m\u001b[0m\n\u001b[0m\u001b[1;32m     15\u001b[0m     \u001b[0mout\u001b[0m\u001b[0;34m.\u001b[0m\u001b[0mappend\u001b[0m\u001b[0;34m(\u001b[0m\u001b[0mout_funk\u001b[0m\u001b[0;34m)\u001b[0m\u001b[0;34m\u001b[0m\u001b[0;34m\u001b[0m\u001b[0m\n\u001b[1;32m     16\u001b[0m     \u001b[0;32mbreak\u001b[0m\u001b[0;34m\u001b[0m\u001b[0;34m\u001b[0m\u001b[0m\n",
            "\u001b[0;32m<ipython-input-11-88d30fde260a>\u001b[0m in \u001b[0;36mmodel_new\u001b[0;34m(k, lr)\u001b[0m\n\u001b[1;32m      9\u001b[0m \u001b[0;34m\u001b[0m\u001b[0m\n\u001b[1;32m     10\u001b[0m     \u001b[0;31m# lr = funk\u001b[0m\u001b[0;34m\u001b[0m\u001b[0;34m\u001b[0m\u001b[0;34m\u001b[0m\u001b[0m\n\u001b[0;32m---> 11\u001b[0;31m     \u001b[0mlr\u001b[0m\u001b[0;34m.\u001b[0m\u001b[0mfit\u001b[0m\u001b[0;34m(\u001b[0m\u001b[0mX_train_scaled\u001b[0m\u001b[0;34m,\u001b[0m \u001b[0my_train\u001b[0m\u001b[0;34m)\u001b[0m\u001b[0;34m\u001b[0m\u001b[0;34m\u001b[0m\u001b[0m\n\u001b[0m\u001b[1;32m     12\u001b[0m     \u001b[0my_test_pred\u001b[0m \u001b[0;34m=\u001b[0m \u001b[0mlr\u001b[0m\u001b[0;34m.\u001b[0m\u001b[0mpredict\u001b[0m\u001b[0;34m(\u001b[0m\u001b[0mX_test_scaled\u001b[0m\u001b[0;34m)\u001b[0m\u001b[0;34m\u001b[0m\u001b[0;34m\u001b[0m\u001b[0m\n\u001b[1;32m     13\u001b[0m     \u001b[0my_train_pred\u001b[0m \u001b[0;34m=\u001b[0m \u001b[0mlr\u001b[0m\u001b[0;34m.\u001b[0m\u001b[0mpredict\u001b[0m\u001b[0;34m(\u001b[0m\u001b[0mX_train_scaled\u001b[0m\u001b[0;34m)\u001b[0m\u001b[0;34m\u001b[0m\u001b[0;34m\u001b[0m\u001b[0m\n",
            "\u001b[0;32m/usr/local/lib/python3.7/dist-packages/sklearn/linear_model/_coordinate_descent.py\u001b[0m in \u001b[0;36mfit\u001b[0;34m(self, X, y, sample_weight)\u001b[0m\n\u001b[1;32m   1672\u001b[0m             \u001b[0mverbose\u001b[0m\u001b[0;34m=\u001b[0m\u001b[0mself\u001b[0m\u001b[0;34m.\u001b[0m\u001b[0mverbose\u001b[0m\u001b[0;34m,\u001b[0m\u001b[0;34m\u001b[0m\u001b[0;34m\u001b[0m\u001b[0m\n\u001b[1;32m   1673\u001b[0m             \u001b[0;34m**\u001b[0m\u001b[0m_joblib_parallel_args\u001b[0m\u001b[0;34m(\u001b[0m\u001b[0mprefer\u001b[0m\u001b[0;34m=\u001b[0m\u001b[0;34m\"threads\"\u001b[0m\u001b[0;34m)\u001b[0m\u001b[0;34m,\u001b[0m\u001b[0;34m\u001b[0m\u001b[0;34m\u001b[0m\u001b[0m\n\u001b[0;32m-> 1674\u001b[0;31m         )(jobs)\n\u001b[0m\u001b[1;32m   1675\u001b[0m         \u001b[0mmse_paths\u001b[0m \u001b[0;34m=\u001b[0m \u001b[0mnp\u001b[0m\u001b[0;34m.\u001b[0m\u001b[0mreshape\u001b[0m\u001b[0;34m(\u001b[0m\u001b[0mmse_paths\u001b[0m\u001b[0;34m,\u001b[0m \u001b[0;34m(\u001b[0m\u001b[0mn_l1_ratio\u001b[0m\u001b[0;34m,\u001b[0m \u001b[0mlen\u001b[0m\u001b[0;34m(\u001b[0m\u001b[0mfolds\u001b[0m\u001b[0;34m)\u001b[0m\u001b[0;34m,\u001b[0m \u001b[0;34m-\u001b[0m\u001b[0;36m1\u001b[0m\u001b[0;34m)\u001b[0m\u001b[0;34m)\u001b[0m\u001b[0;34m\u001b[0m\u001b[0;34m\u001b[0m\u001b[0m\n\u001b[1;32m   1676\u001b[0m         \u001b[0;31m# The mean is computed over folds.\u001b[0m\u001b[0;34m\u001b[0m\u001b[0;34m\u001b[0m\u001b[0;34m\u001b[0m\u001b[0m\n",
            "\u001b[0;32m/usr/local/lib/python3.7/dist-packages/joblib/parallel.py\u001b[0m in \u001b[0;36m__call__\u001b[0;34m(self, iterable)\u001b[0m\n\u001b[1;32m   1086\u001b[0m                 \u001b[0mself\u001b[0m\u001b[0;34m.\u001b[0m\u001b[0m_iterating\u001b[0m \u001b[0;34m=\u001b[0m \u001b[0mself\u001b[0m\u001b[0;34m.\u001b[0m\u001b[0m_original_iterator\u001b[0m \u001b[0;32mis\u001b[0m \u001b[0;32mnot\u001b[0m \u001b[0;32mNone\u001b[0m\u001b[0;34m\u001b[0m\u001b[0;34m\u001b[0m\u001b[0m\n\u001b[1;32m   1087\u001b[0m \u001b[0;34m\u001b[0m\u001b[0m\n\u001b[0;32m-> 1088\u001b[0;31m             \u001b[0;32mwhile\u001b[0m \u001b[0mself\u001b[0m\u001b[0;34m.\u001b[0m\u001b[0mdispatch_one_batch\u001b[0m\u001b[0;34m(\u001b[0m\u001b[0miterator\u001b[0m\u001b[0;34m)\u001b[0m\u001b[0;34m:\u001b[0m\u001b[0;34m\u001b[0m\u001b[0;34m\u001b[0m\u001b[0m\n\u001b[0m\u001b[1;32m   1089\u001b[0m                 \u001b[0;32mpass\u001b[0m\u001b[0;34m\u001b[0m\u001b[0;34m\u001b[0m\u001b[0m\n\u001b[1;32m   1090\u001b[0m \u001b[0;34m\u001b[0m\u001b[0m\n",
            "\u001b[0;32m/usr/local/lib/python3.7/dist-packages/joblib/parallel.py\u001b[0m in \u001b[0;36mdispatch_one_batch\u001b[0;34m(self, iterator)\u001b[0m\n\u001b[1;32m    899\u001b[0m                 \u001b[0;32mreturn\u001b[0m \u001b[0;32mFalse\u001b[0m\u001b[0;34m\u001b[0m\u001b[0;34m\u001b[0m\u001b[0m\n\u001b[1;32m    900\u001b[0m             \u001b[0;32melse\u001b[0m\u001b[0;34m:\u001b[0m\u001b[0;34m\u001b[0m\u001b[0;34m\u001b[0m\u001b[0m\n\u001b[0;32m--> 901\u001b[0;31m                 \u001b[0mself\u001b[0m\u001b[0;34m.\u001b[0m\u001b[0m_dispatch\u001b[0m\u001b[0;34m(\u001b[0m\u001b[0mtasks\u001b[0m\u001b[0;34m)\u001b[0m\u001b[0;34m\u001b[0m\u001b[0;34m\u001b[0m\u001b[0m\n\u001b[0m\u001b[1;32m    902\u001b[0m                 \u001b[0;32mreturn\u001b[0m \u001b[0;32mTrue\u001b[0m\u001b[0;34m\u001b[0m\u001b[0;34m\u001b[0m\u001b[0m\n\u001b[1;32m    903\u001b[0m \u001b[0;34m\u001b[0m\u001b[0m\n",
            "\u001b[0;32m/usr/local/lib/python3.7/dist-packages/joblib/parallel.py\u001b[0m in \u001b[0;36m_dispatch\u001b[0;34m(self, batch)\u001b[0m\n\u001b[1;32m    817\u001b[0m         \u001b[0;32mwith\u001b[0m \u001b[0mself\u001b[0m\u001b[0;34m.\u001b[0m\u001b[0m_lock\u001b[0m\u001b[0;34m:\u001b[0m\u001b[0;34m\u001b[0m\u001b[0;34m\u001b[0m\u001b[0m\n\u001b[1;32m    818\u001b[0m             \u001b[0mjob_idx\u001b[0m \u001b[0;34m=\u001b[0m \u001b[0mlen\u001b[0m\u001b[0;34m(\u001b[0m\u001b[0mself\u001b[0m\u001b[0;34m.\u001b[0m\u001b[0m_jobs\u001b[0m\u001b[0;34m)\u001b[0m\u001b[0;34m\u001b[0m\u001b[0;34m\u001b[0m\u001b[0m\n\u001b[0;32m--> 819\u001b[0;31m             \u001b[0mjob\u001b[0m \u001b[0;34m=\u001b[0m \u001b[0mself\u001b[0m\u001b[0;34m.\u001b[0m\u001b[0m_backend\u001b[0m\u001b[0;34m.\u001b[0m\u001b[0mapply_async\u001b[0m\u001b[0;34m(\u001b[0m\u001b[0mbatch\u001b[0m\u001b[0;34m,\u001b[0m \u001b[0mcallback\u001b[0m\u001b[0;34m=\u001b[0m\u001b[0mcb\u001b[0m\u001b[0;34m)\u001b[0m\u001b[0;34m\u001b[0m\u001b[0;34m\u001b[0m\u001b[0m\n\u001b[0m\u001b[1;32m    820\u001b[0m             \u001b[0;31m# A job can complete so quickly than its callback is\u001b[0m\u001b[0;34m\u001b[0m\u001b[0;34m\u001b[0m\u001b[0;34m\u001b[0m\u001b[0m\n\u001b[1;32m    821\u001b[0m             \u001b[0;31m# called before we get here, causing self._jobs to\u001b[0m\u001b[0;34m\u001b[0m\u001b[0;34m\u001b[0m\u001b[0;34m\u001b[0m\u001b[0m\n",
            "\u001b[0;32m/usr/local/lib/python3.7/dist-packages/joblib/_parallel_backends.py\u001b[0m in \u001b[0;36mapply_async\u001b[0;34m(self, func, callback)\u001b[0m\n\u001b[1;32m    206\u001b[0m     \u001b[0;32mdef\u001b[0m \u001b[0mapply_async\u001b[0m\u001b[0;34m(\u001b[0m\u001b[0mself\u001b[0m\u001b[0;34m,\u001b[0m \u001b[0mfunc\u001b[0m\u001b[0;34m,\u001b[0m \u001b[0mcallback\u001b[0m\u001b[0;34m=\u001b[0m\u001b[0;32mNone\u001b[0m\u001b[0;34m)\u001b[0m\u001b[0;34m:\u001b[0m\u001b[0;34m\u001b[0m\u001b[0;34m\u001b[0m\u001b[0m\n\u001b[1;32m    207\u001b[0m         \u001b[0;34m\"\"\"Schedule a func to be run\"\"\"\u001b[0m\u001b[0;34m\u001b[0m\u001b[0;34m\u001b[0m\u001b[0m\n\u001b[0;32m--> 208\u001b[0;31m         \u001b[0mresult\u001b[0m \u001b[0;34m=\u001b[0m \u001b[0mImmediateResult\u001b[0m\u001b[0;34m(\u001b[0m\u001b[0mfunc\u001b[0m\u001b[0;34m)\u001b[0m\u001b[0;34m\u001b[0m\u001b[0;34m\u001b[0m\u001b[0m\n\u001b[0m\u001b[1;32m    209\u001b[0m         \u001b[0;32mif\u001b[0m \u001b[0mcallback\u001b[0m\u001b[0;34m:\u001b[0m\u001b[0;34m\u001b[0m\u001b[0;34m\u001b[0m\u001b[0m\n\u001b[1;32m    210\u001b[0m             \u001b[0mcallback\u001b[0m\u001b[0;34m(\u001b[0m\u001b[0mresult\u001b[0m\u001b[0;34m)\u001b[0m\u001b[0;34m\u001b[0m\u001b[0;34m\u001b[0m\u001b[0m\n",
            "\u001b[0;32m/usr/local/lib/python3.7/dist-packages/joblib/_parallel_backends.py\u001b[0m in \u001b[0;36m__init__\u001b[0;34m(self, batch)\u001b[0m\n\u001b[1;32m    595\u001b[0m         \u001b[0;31m# Don't delay the application, to avoid keeping the input\u001b[0m\u001b[0;34m\u001b[0m\u001b[0;34m\u001b[0m\u001b[0;34m\u001b[0m\u001b[0m\n\u001b[1;32m    596\u001b[0m         \u001b[0;31m# arguments in memory\u001b[0m\u001b[0;34m\u001b[0m\u001b[0;34m\u001b[0m\u001b[0;34m\u001b[0m\u001b[0m\n\u001b[0;32m--> 597\u001b[0;31m         \u001b[0mself\u001b[0m\u001b[0;34m.\u001b[0m\u001b[0mresults\u001b[0m \u001b[0;34m=\u001b[0m \u001b[0mbatch\u001b[0m\u001b[0;34m(\u001b[0m\u001b[0;34m)\u001b[0m\u001b[0;34m\u001b[0m\u001b[0;34m\u001b[0m\u001b[0m\n\u001b[0m\u001b[1;32m    598\u001b[0m \u001b[0;34m\u001b[0m\u001b[0m\n\u001b[1;32m    599\u001b[0m     \u001b[0;32mdef\u001b[0m \u001b[0mget\u001b[0m\u001b[0;34m(\u001b[0m\u001b[0mself\u001b[0m\u001b[0;34m)\u001b[0m\u001b[0;34m:\u001b[0m\u001b[0;34m\u001b[0m\u001b[0;34m\u001b[0m\u001b[0m\n",
            "\u001b[0;32m/usr/local/lib/python3.7/dist-packages/joblib/parallel.py\u001b[0m in \u001b[0;36m__call__\u001b[0;34m(self)\u001b[0m\n\u001b[1;32m    287\u001b[0m         \u001b[0;32mwith\u001b[0m \u001b[0mparallel_backend\u001b[0m\u001b[0;34m(\u001b[0m\u001b[0mself\u001b[0m\u001b[0;34m.\u001b[0m\u001b[0m_backend\u001b[0m\u001b[0;34m,\u001b[0m \u001b[0mn_jobs\u001b[0m\u001b[0;34m=\u001b[0m\u001b[0mself\u001b[0m\u001b[0;34m.\u001b[0m\u001b[0m_n_jobs\u001b[0m\u001b[0;34m)\u001b[0m\u001b[0;34m:\u001b[0m\u001b[0;34m\u001b[0m\u001b[0;34m\u001b[0m\u001b[0m\n\u001b[1;32m    288\u001b[0m             return [func(*args, **kwargs)\n\u001b[0;32m--> 289\u001b[0;31m                     for func, args, kwargs in self.items]\n\u001b[0m\u001b[1;32m    290\u001b[0m \u001b[0;34m\u001b[0m\u001b[0m\n\u001b[1;32m    291\u001b[0m     \u001b[0;32mdef\u001b[0m \u001b[0m__reduce__\u001b[0m\u001b[0;34m(\u001b[0m\u001b[0mself\u001b[0m\u001b[0;34m)\u001b[0m\u001b[0;34m:\u001b[0m\u001b[0;34m\u001b[0m\u001b[0;34m\u001b[0m\u001b[0m\n",
            "\u001b[0;32m/usr/local/lib/python3.7/dist-packages/joblib/parallel.py\u001b[0m in \u001b[0;36m<listcomp>\u001b[0;34m(.0)\u001b[0m\n\u001b[1;32m    287\u001b[0m         \u001b[0;32mwith\u001b[0m \u001b[0mparallel_backend\u001b[0m\u001b[0;34m(\u001b[0m\u001b[0mself\u001b[0m\u001b[0;34m.\u001b[0m\u001b[0m_backend\u001b[0m\u001b[0;34m,\u001b[0m \u001b[0mn_jobs\u001b[0m\u001b[0;34m=\u001b[0m\u001b[0mself\u001b[0m\u001b[0;34m.\u001b[0m\u001b[0m_n_jobs\u001b[0m\u001b[0;34m)\u001b[0m\u001b[0;34m:\u001b[0m\u001b[0;34m\u001b[0m\u001b[0;34m\u001b[0m\u001b[0m\n\u001b[1;32m    288\u001b[0m             return [func(*args, **kwargs)\n\u001b[0;32m--> 289\u001b[0;31m                     for func, args, kwargs in self.items]\n\u001b[0m\u001b[1;32m    290\u001b[0m \u001b[0;34m\u001b[0m\u001b[0m\n\u001b[1;32m    291\u001b[0m     \u001b[0;32mdef\u001b[0m \u001b[0m__reduce__\u001b[0m\u001b[0;34m(\u001b[0m\u001b[0mself\u001b[0m\u001b[0;34m)\u001b[0m\u001b[0;34m:\u001b[0m\u001b[0;34m\u001b[0m\u001b[0;34m\u001b[0m\u001b[0m\n",
            "\u001b[0;32m/usr/local/lib/python3.7/dist-packages/sklearn/utils/fixes.py\u001b[0m in \u001b[0;36m__call__\u001b[0;34m(self, *args, **kwargs)\u001b[0m\n\u001b[1;32m    214\u001b[0m     \u001b[0;32mdef\u001b[0m \u001b[0m__call__\u001b[0m\u001b[0;34m(\u001b[0m\u001b[0mself\u001b[0m\u001b[0;34m,\u001b[0m \u001b[0;34m*\u001b[0m\u001b[0margs\u001b[0m\u001b[0;34m,\u001b[0m \u001b[0;34m**\u001b[0m\u001b[0mkwargs\u001b[0m\u001b[0;34m)\u001b[0m\u001b[0;34m:\u001b[0m\u001b[0;34m\u001b[0m\u001b[0;34m\u001b[0m\u001b[0m\n\u001b[1;32m    215\u001b[0m         \u001b[0;32mwith\u001b[0m \u001b[0mconfig_context\u001b[0m\u001b[0;34m(\u001b[0m\u001b[0;34m**\u001b[0m\u001b[0mself\u001b[0m\u001b[0;34m.\u001b[0m\u001b[0mconfig\u001b[0m\u001b[0;34m)\u001b[0m\u001b[0;34m:\u001b[0m\u001b[0;34m\u001b[0m\u001b[0;34m\u001b[0m\u001b[0m\n\u001b[0;32m--> 216\u001b[0;31m             \u001b[0;32mreturn\u001b[0m \u001b[0mself\u001b[0m\u001b[0;34m.\u001b[0m\u001b[0mfunction\u001b[0m\u001b[0;34m(\u001b[0m\u001b[0;34m*\u001b[0m\u001b[0margs\u001b[0m\u001b[0;34m,\u001b[0m \u001b[0;34m**\u001b[0m\u001b[0mkwargs\u001b[0m\u001b[0;34m)\u001b[0m\u001b[0;34m\u001b[0m\u001b[0;34m\u001b[0m\u001b[0m\n\u001b[0m\u001b[1;32m    217\u001b[0m \u001b[0;34m\u001b[0m\u001b[0m\n\u001b[1;32m    218\u001b[0m \u001b[0;34m\u001b[0m\u001b[0m\n",
            "\u001b[0;32m/usr/local/lib/python3.7/dist-packages/sklearn/linear_model/_coordinate_descent.py\u001b[0m in \u001b[0;36m_path_residuals\u001b[0;34m(X, y, sample_weight, train, test, normalize, fit_intercept, path, path_params, alphas, l1_ratio, X_order, dtype)\u001b[0m\n\u001b[1;32m   1400\u001b[0m     \u001b[0;31m# X is copied and a reference is kept here\u001b[0m\u001b[0;34m\u001b[0m\u001b[0;34m\u001b[0m\u001b[0;34m\u001b[0m\u001b[0m\n\u001b[1;32m   1401\u001b[0m     \u001b[0mX_train\u001b[0m \u001b[0;34m=\u001b[0m \u001b[0mcheck_array\u001b[0m\u001b[0;34m(\u001b[0m\u001b[0mX_train\u001b[0m\u001b[0;34m,\u001b[0m \u001b[0maccept_sparse\u001b[0m\u001b[0;34m=\u001b[0m\u001b[0;34m\"csc\"\u001b[0m\u001b[0;34m,\u001b[0m \u001b[0mdtype\u001b[0m\u001b[0;34m=\u001b[0m\u001b[0mdtype\u001b[0m\u001b[0;34m,\u001b[0m \u001b[0morder\u001b[0m\u001b[0;34m=\u001b[0m\u001b[0mX_order\u001b[0m\u001b[0;34m)\u001b[0m\u001b[0;34m\u001b[0m\u001b[0;34m\u001b[0m\u001b[0m\n\u001b[0;32m-> 1402\u001b[0;31m     \u001b[0malphas\u001b[0m\u001b[0;34m,\u001b[0m \u001b[0mcoefs\u001b[0m\u001b[0;34m,\u001b[0m \u001b[0m_\u001b[0m \u001b[0;34m=\u001b[0m \u001b[0mpath\u001b[0m\u001b[0;34m(\u001b[0m\u001b[0mX_train\u001b[0m\u001b[0;34m,\u001b[0m \u001b[0my_train\u001b[0m\u001b[0;34m,\u001b[0m \u001b[0;34m**\u001b[0m\u001b[0mpath_params\u001b[0m\u001b[0;34m)\u001b[0m\u001b[0;34m\u001b[0m\u001b[0;34m\u001b[0m\u001b[0m\n\u001b[0m\u001b[1;32m   1403\u001b[0m     \u001b[0;32mdel\u001b[0m \u001b[0mX_train\u001b[0m\u001b[0;34m,\u001b[0m \u001b[0my_train\u001b[0m\u001b[0;34m\u001b[0m\u001b[0;34m\u001b[0m\u001b[0m\n\u001b[1;32m   1404\u001b[0m \u001b[0;34m\u001b[0m\u001b[0m\n",
            "\u001b[0;32m/usr/local/lib/python3.7/dist-packages/sklearn/linear_model/_coordinate_descent.py\u001b[0m in \u001b[0;36mlasso_path\u001b[0;34m(X, y, eps, n_alphas, alphas, precompute, Xy, copy_X, coef_init, verbose, return_n_iter, positive, **params)\u001b[0m\n\u001b[1;32m    361\u001b[0m         \u001b[0mpositive\u001b[0m\u001b[0;34m=\u001b[0m\u001b[0mpositive\u001b[0m\u001b[0;34m,\u001b[0m\u001b[0;34m\u001b[0m\u001b[0;34m\u001b[0m\u001b[0m\n\u001b[1;32m    362\u001b[0m         \u001b[0mreturn_n_iter\u001b[0m\u001b[0;34m=\u001b[0m\u001b[0mreturn_n_iter\u001b[0m\u001b[0;34m,\u001b[0m\u001b[0;34m\u001b[0m\u001b[0;34m\u001b[0m\u001b[0m\n\u001b[0;32m--> 363\u001b[0;31m         \u001b[0;34m**\u001b[0m\u001b[0mparams\u001b[0m\u001b[0;34m,\u001b[0m\u001b[0;34m\u001b[0m\u001b[0;34m\u001b[0m\u001b[0m\n\u001b[0m\u001b[1;32m    364\u001b[0m     )\n\u001b[1;32m    365\u001b[0m \u001b[0;34m\u001b[0m\u001b[0m\n",
            "\u001b[0;32m/usr/local/lib/python3.7/dist-packages/sklearn/linear_model/_coordinate_descent.py\u001b[0m in \u001b[0;36menet_path\u001b[0;34m(X, y, l1_ratio, eps, n_alphas, alphas, precompute, Xy, copy_X, coef_init, verbose, return_n_iter, positive, check_input, **params)\u001b[0m\n\u001b[1;32m    642\u001b[0m                 \u001b[0mrng\u001b[0m\u001b[0;34m,\u001b[0m\u001b[0;34m\u001b[0m\u001b[0;34m\u001b[0m\u001b[0m\n\u001b[1;32m    643\u001b[0m                 \u001b[0mrandom\u001b[0m\u001b[0;34m,\u001b[0m\u001b[0;34m\u001b[0m\u001b[0;34m\u001b[0m\u001b[0m\n\u001b[0;32m--> 644\u001b[0;31m                 \u001b[0mpositive\u001b[0m\u001b[0;34m,\u001b[0m\u001b[0;34m\u001b[0m\u001b[0;34m\u001b[0m\u001b[0m\n\u001b[0m\u001b[1;32m    645\u001b[0m             )\n\u001b[1;32m    646\u001b[0m         \u001b[0;32melif\u001b[0m \u001b[0mprecompute\u001b[0m \u001b[0;32mis\u001b[0m \u001b[0;32mFalse\u001b[0m\u001b[0;34m:\u001b[0m\u001b[0;34m\u001b[0m\u001b[0;34m\u001b[0m\u001b[0m\n",
            "\u001b[0;31mKeyboardInterrupt\u001b[0m: "
          ]
        }
      ]
    }
  ],
  "metadata": {
    "anaconda-cloud": {},
    "colab": {
      "collapsed_sections": [],
      "provenance": []
    },
    "kernelspec": {
      "display_name": "Python 3.8.10 64-bit (microsoft store)",
      "language": "python",
      "name": "python3"
    },
    "language_info": {
      "codemirror_mode": {
        "name": "ipython",
        "version": 3
      },
      "file_extension": ".py",
      "mimetype": "text/x-python",
      "name": "python",
      "nbconvert_exporter": "python",
      "pygments_lexer": "ipython3",
      "version": "3.8.10"
    },
    "vscode": {
      "interpreter": {
        "hash": "41fc388e4a8728efc1b0380f965aa1f6ef12e829823cfab7a874823d70a39179"
      }
    }
  },
  "nbformat": 4,
  "nbformat_minor": 0
}